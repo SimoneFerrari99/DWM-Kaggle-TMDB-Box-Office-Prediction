{
 "cells": [
  {
   "cell_type": "markdown",
   "metadata": {},
   "source": [
    "# Progetto Data and Web Mining 2020\n",
    "### Ferrari Simone, Trolese Giulio"
   ]
  },
  {
   "cell_type": "markdown",
   "metadata": {},
   "source": [
    "## Introduzione\n",
    "Ci scriveremo qualcosa"
   ]
  },
  {
   "cell_type": "markdown",
   "metadata": {},
   "source": [
    "## Fase preliminare\n",
    "In questa parte del notebook andremo a preparare l'ambiente. \n",
    "\n",
    "In particolare:\n",
    "- Caricamento delle librerie\n",
    "- Lettura dei dati\n"
   ]
  },
  {
   "cell_type": "markdown",
   "metadata": {},
   "source": [
    "### Caricamento delle librerie"
   ]
  },
  {
   "cell_type": "code",
   "execution_count": 1,
   "metadata": {},
   "outputs": [],
   "source": [
    "import matplotlib.pyplot as plt\n",
    "import pandas as pd\n",
    "import numpy as np\n",
    "import json\n",
    "import ast\n",
    "from sklearn.model_selection import train_test_split\n",
    "from sklearn.neighbors import KNeighborsRegressor\n",
    "from sklearn.preprocessing import MultiLabelBinarizer\n",
    "from collections import Counter\n",
    "import seaborn as sns\n",
    "from sklearn.decomposition import PCA\n",
    "from sklearn.metrics import accuracy_score\n",
    "from sklearn import tree\n",
    "#commento"
   ]
  },
  {
   "cell_type": "markdown",
   "metadata": {},
   "source": [
    "### Raccolta di funzioni utili"
   ]
  },
  {
   "cell_type": "code",
   "execution_count": 2,
   "metadata": {},
   "outputs": [],
   "source": [
    "# Colonne del datafram che sono in formato stringa e devono essere convertite in dizionari\n",
    "columnsToChange = ['belongs_to_collection', 'genres', 'production_companies',\n",
    "                   'production_countries', 'spoken_languages', 'Keywords', 'cast', 'crew']\n",
    "\n",
    "# funzione che, preso un dataframe, lo maneggia e cambia le columnsToChange da stringhe a liste di dizionari\n",
    "\n",
    "\n",
    "def stringToDictionary(dataFrame):\n",
    "    for column in columnsToChange:\n",
    "        dataFrame[column] = dataFrame[column].apply(\n",
    "            lambda x: {} if pd.isna(x) else ast.literal_eval(x))\n",
    "    return dataFrame"
   ]
  },
  {
   "cell_type": "code",
   "execution_count": 3,
   "metadata": {},
   "outputs": [],
   "source": [
    "def convert(in_list):\n",
    "    output = []\n",
    "    for elem in in_list:\n",
    "        output.append(elem[\"name\"])\n",
    "    return output"
   ]
  },
  {
   "cell_type": "code",
   "execution_count": 4,
   "metadata": {},
   "outputs": [],
   "source": [
    "def find_frequency(column, dataset):\n",
    "    freq_dict = {}\n",
    "    for l in dataset[column]:\n",
    "        for elem in l:\n",
    "            if elem in freq_dict:\n",
    "                freq_dict[elem] += 1\n",
    "            else:\n",
    "                freq_dict[elem] = 1\n",
    "    return pd.DataFrame.from_dict(freq_dict, orient='index', columns = [column])"
   ]
  },
  {
   "cell_type": "code",
   "execution_count": 5,
   "metadata": {},
   "outputs": [],
   "source": [
    "def values_to_list(column, dataset):\n",
    "    values = []\n",
    "    for l in dataset[column]:\n",
    "        for elem in l:\n",
    "            values.append(elem)\n",
    "    return values"
   ]
  },
  {
   "cell_type": "code",
   "execution_count": 6,
   "metadata": {},
   "outputs": [],
   "source": [
    "def delete_from_list(list_delete, from_list):\n",
    "    i = 0\n",
    "    deleted = 0\n",
    "    while i < len(list_delete):\n",
    "        element = list_delete[i] \n",
    "        if element not in from_list:\n",
    "            del(list_delete[i])\n",
    "            deleted += 1\n",
    "        else:\n",
    "            i+=1\n",
    "    #if deleted > 0:\n",
    "    #    list_delete.append(\"Other\")"
   ]
  },
  {
   "cell_type": "code",
   "execution_count": 7,
   "metadata": {},
   "outputs": [],
   "source": [
    "def keep_top_k(col_name, df, k):\n",
    "    top_k_list = [elem[0] for elem in Counter(values_to_list(col_name, df)).most_common(k)]\n",
    "    df[col_name].apply(lambda x: delete_from_list(x, top_k_list))"
   ]
  },
  {
   "cell_type": "code",
   "execution_count": 8,
   "metadata": {},
   "outputs": [],
   "source": [
    "mlb = MultiLabelBinarizer()\n",
    "def reduction(df, column, perc_keep):\n",
    "    df_conv = pd.DataFrame(mlb.fit_transform(df[column]),columns=column+\" \"+mlb.classes_, index=train.index)\n",
    "    pca = PCA(n_components = int(df_conv.shape[1]*perc_keep/100))\n",
    "    reduced = pca.fit_transform(df_conv)\n",
    "    red_df = pd.DataFrame(reduced)\n",
    "    red_df.rename(columns=lambda x: column+str(x), inplace=True)\n",
    "    return red_df"
   ]
  },
  {
   "cell_type": "code",
   "execution_count": 9,
   "metadata": {},
   "outputs": [],
   "source": [
    "def reduce_columns(df, columns_to_reduce):\n",
    "    out = df\n",
    "    for col in columns_to_reduce:\n",
    "        compr_df = reduction(train, col, 5).head()\n",
    "        out = pd.concat([out,compr_df], axis = \"columns\")\n",
    "        out.drop(col, axis='columns', inplace = True)\n",
    "    return out"
   ]
  },
  {
   "cell_type": "code",
   "execution_count": 10,
   "metadata": {},
   "outputs": [],
   "source": [
    "def clean_dataset(df):\n",
    "    assert isinstance(df, pd.DataFrame), \"df needs to be a pd.DataFrame\"\n",
    "    df.dropna(inplace=True)\n",
    "    indices_to_keep = ~df.isin([np.nan, np.inf, -np.inf]).any(1)\n",
    "    return df[indices_to_keep].astype(np.float64)"
   ]
  },
  {
   "cell_type": "code",
   "execution_count": null,
   "metadata": {},
   "outputs": [],
   "source": []
  },
  {
   "cell_type": "markdown",
   "metadata": {},
   "source": [
    "### Lettura dati"
   ]
  },
  {
   "cell_type": "markdown",
   "metadata": {},
   "source": [
    "Prima di tutto, andiamo a leggere i dati dai file csv."
   ]
  },
  {
   "cell_type": "code",
   "execution_count": 11,
   "metadata": {},
   "outputs": [],
   "source": [
    "# lettura del file train.csv\n",
    "train = pd.read_csv(\"train.csv\")\n",
    "test = pd.read_csv(\"test.csv\")"
   ]
  },
  {
   "cell_type": "code",
   "execution_count": 12,
   "metadata": {},
   "outputs": [],
   "source": [
    "train = stringToDictionary(train)\n",
    "test = stringToDictionary(test)"
   ]
  },
  {
   "cell_type": "markdown",
   "metadata": {},
   "source": [
    "Raccogliamo un po' di informazioni sul dataframe appena letto."
   ]
  },
  {
   "cell_type": "code",
   "execution_count": 13,
   "metadata": {},
   "outputs": [
    {
     "data": {
      "text/html": [
       "<div>\n",
       "<style scoped>\n",
       "    .dataframe tbody tr th:only-of-type {\n",
       "        vertical-align: middle;\n",
       "    }\n",
       "\n",
       "    .dataframe tbody tr th {\n",
       "        vertical-align: top;\n",
       "    }\n",
       "\n",
       "    .dataframe thead th {\n",
       "        text-align: right;\n",
       "    }\n",
       "</style>\n",
       "<table border=\"1\" class=\"dataframe\">\n",
       "  <thead>\n",
       "    <tr style=\"text-align: right;\">\n",
       "      <th></th>\n",
       "      <th>id</th>\n",
       "      <th>belongs_to_collection</th>\n",
       "      <th>budget</th>\n",
       "      <th>genres</th>\n",
       "      <th>homepage</th>\n",
       "      <th>imdb_id</th>\n",
       "      <th>original_language</th>\n",
       "      <th>original_title</th>\n",
       "      <th>overview</th>\n",
       "      <th>popularity</th>\n",
       "      <th>...</th>\n",
       "      <th>release_date</th>\n",
       "      <th>runtime</th>\n",
       "      <th>spoken_languages</th>\n",
       "      <th>status</th>\n",
       "      <th>tagline</th>\n",
       "      <th>title</th>\n",
       "      <th>Keywords</th>\n",
       "      <th>cast</th>\n",
       "      <th>crew</th>\n",
       "      <th>revenue</th>\n",
       "    </tr>\n",
       "  </thead>\n",
       "  <tbody>\n",
       "    <tr>\n",
       "      <th>0</th>\n",
       "      <td>1</td>\n",
       "      <td>[{'id': 313576, 'name': 'Hot Tub Time Machine ...</td>\n",
       "      <td>14000000</td>\n",
       "      <td>[{'id': 35, 'name': 'Comedy'}]</td>\n",
       "      <td>NaN</td>\n",
       "      <td>tt2637294</td>\n",
       "      <td>en</td>\n",
       "      <td>Hot Tub Time Machine 2</td>\n",
       "      <td>When Lou, who has become the \"father of the In...</td>\n",
       "      <td>6.575393</td>\n",
       "      <td>...</td>\n",
       "      <td>2/20/15</td>\n",
       "      <td>93.0</td>\n",
       "      <td>[{'iso_639_1': 'en', 'name': 'English'}]</td>\n",
       "      <td>Released</td>\n",
       "      <td>The Laws of Space and Time are About to be Vio...</td>\n",
       "      <td>Hot Tub Time Machine 2</td>\n",
       "      <td>[{'id': 4379, 'name': 'time travel'}, {'id': 9...</td>\n",
       "      <td>[{'cast_id': 4, 'character': 'Lou', 'credit_id...</td>\n",
       "      <td>[{'credit_id': '59ac067c92514107af02c8c8', 'de...</td>\n",
       "      <td>12314651</td>\n",
       "    </tr>\n",
       "    <tr>\n",
       "      <th>1</th>\n",
       "      <td>2</td>\n",
       "      <td>[{'id': 107674, 'name': 'The Princess Diaries ...</td>\n",
       "      <td>40000000</td>\n",
       "      <td>[{'id': 35, 'name': 'Comedy'}, {'id': 18, 'nam...</td>\n",
       "      <td>NaN</td>\n",
       "      <td>tt0368933</td>\n",
       "      <td>en</td>\n",
       "      <td>The Princess Diaries 2: Royal Engagement</td>\n",
       "      <td>Mia Thermopolis is now a college graduate and ...</td>\n",
       "      <td>8.248895</td>\n",
       "      <td>...</td>\n",
       "      <td>8/6/04</td>\n",
       "      <td>113.0</td>\n",
       "      <td>[{'iso_639_1': 'en', 'name': 'English'}]</td>\n",
       "      <td>Released</td>\n",
       "      <td>It can take a lifetime to find true love; she'...</td>\n",
       "      <td>The Princess Diaries 2: Royal Engagement</td>\n",
       "      <td>[{'id': 2505, 'name': 'coronation'}, {'id': 42...</td>\n",
       "      <td>[{'cast_id': 1, 'character': 'Mia Thermopolis'...</td>\n",
       "      <td>[{'credit_id': '52fe43fe9251416c7502563d', 'de...</td>\n",
       "      <td>95149435</td>\n",
       "    </tr>\n",
       "    <tr>\n",
       "      <th>2</th>\n",
       "      <td>3</td>\n",
       "      <td>{}</td>\n",
       "      <td>3300000</td>\n",
       "      <td>[{'id': 18, 'name': 'Drama'}]</td>\n",
       "      <td>http://sonyclassics.com/whiplash/</td>\n",
       "      <td>tt2582802</td>\n",
       "      <td>en</td>\n",
       "      <td>Whiplash</td>\n",
       "      <td>Under the direction of a ruthless instructor, ...</td>\n",
       "      <td>64.299990</td>\n",
       "      <td>...</td>\n",
       "      <td>10/10/14</td>\n",
       "      <td>105.0</td>\n",
       "      <td>[{'iso_639_1': 'en', 'name': 'English'}]</td>\n",
       "      <td>Released</td>\n",
       "      <td>The road to greatness can take you to the edge.</td>\n",
       "      <td>Whiplash</td>\n",
       "      <td>[{'id': 1416, 'name': 'jazz'}, {'id': 1523, 'n...</td>\n",
       "      <td>[{'cast_id': 5, 'character': 'Andrew Neimann',...</td>\n",
       "      <td>[{'credit_id': '54d5356ec3a3683ba0000039', 'de...</td>\n",
       "      <td>13092000</td>\n",
       "    </tr>\n",
       "    <tr>\n",
       "      <th>3</th>\n",
       "      <td>4</td>\n",
       "      <td>{}</td>\n",
       "      <td>1200000</td>\n",
       "      <td>[{'id': 53, 'name': 'Thriller'}, {'id': 18, 'n...</td>\n",
       "      <td>http://kahaanithefilm.com/</td>\n",
       "      <td>tt1821480</td>\n",
       "      <td>hi</td>\n",
       "      <td>Kahaani</td>\n",
       "      <td>Vidya Bagchi (Vidya Balan) arrives in Kolkata ...</td>\n",
       "      <td>3.174936</td>\n",
       "      <td>...</td>\n",
       "      <td>3/9/12</td>\n",
       "      <td>122.0</td>\n",
       "      <td>[{'iso_639_1': 'en', 'name': 'English'}, {'iso...</td>\n",
       "      <td>Released</td>\n",
       "      <td>NaN</td>\n",
       "      <td>Kahaani</td>\n",
       "      <td>[{'id': 10092, 'name': 'mystery'}, {'id': 1054...</td>\n",
       "      <td>[{'cast_id': 1, 'character': 'Vidya Bagchi', '...</td>\n",
       "      <td>[{'credit_id': '52fe48779251416c9108d6eb', 'de...</td>\n",
       "      <td>16000000</td>\n",
       "    </tr>\n",
       "    <tr>\n",
       "      <th>4</th>\n",
       "      <td>5</td>\n",
       "      <td>{}</td>\n",
       "      <td>0</td>\n",
       "      <td>[{'id': 28, 'name': 'Action'}, {'id': 53, 'nam...</td>\n",
       "      <td>NaN</td>\n",
       "      <td>tt1380152</td>\n",
       "      <td>ko</td>\n",
       "      <td>마린보이</td>\n",
       "      <td>Marine Boy is the story of a former national s...</td>\n",
       "      <td>1.148070</td>\n",
       "      <td>...</td>\n",
       "      <td>2/5/09</td>\n",
       "      <td>118.0</td>\n",
       "      <td>[{'iso_639_1': 'ko', 'name': '한국어/조선말'}]</td>\n",
       "      <td>Released</td>\n",
       "      <td>NaN</td>\n",
       "      <td>Marine Boy</td>\n",
       "      <td>{}</td>\n",
       "      <td>[{'cast_id': 3, 'character': 'Chun-soo', 'cred...</td>\n",
       "      <td>[{'credit_id': '52fe464b9251416c75073b43', 'de...</td>\n",
       "      <td>3923970</td>\n",
       "    </tr>\n",
       "  </tbody>\n",
       "</table>\n",
       "<p>5 rows × 23 columns</p>\n",
       "</div>"
      ],
      "text/plain": [
       "   id                              belongs_to_collection    budget  \\\n",
       "0   1  [{'id': 313576, 'name': 'Hot Tub Time Machine ...  14000000   \n",
       "1   2  [{'id': 107674, 'name': 'The Princess Diaries ...  40000000   \n",
       "2   3                                                 {}   3300000   \n",
       "3   4                                                 {}   1200000   \n",
       "4   5                                                 {}         0   \n",
       "\n",
       "                                              genres  \\\n",
       "0                     [{'id': 35, 'name': 'Comedy'}]   \n",
       "1  [{'id': 35, 'name': 'Comedy'}, {'id': 18, 'nam...   \n",
       "2                      [{'id': 18, 'name': 'Drama'}]   \n",
       "3  [{'id': 53, 'name': 'Thriller'}, {'id': 18, 'n...   \n",
       "4  [{'id': 28, 'name': 'Action'}, {'id': 53, 'nam...   \n",
       "\n",
       "                            homepage    imdb_id original_language  \\\n",
       "0                                NaN  tt2637294                en   \n",
       "1                                NaN  tt0368933                en   \n",
       "2  http://sonyclassics.com/whiplash/  tt2582802                en   \n",
       "3         http://kahaanithefilm.com/  tt1821480                hi   \n",
       "4                                NaN  tt1380152                ko   \n",
       "\n",
       "                             original_title  \\\n",
       "0                    Hot Tub Time Machine 2   \n",
       "1  The Princess Diaries 2: Royal Engagement   \n",
       "2                                  Whiplash   \n",
       "3                                   Kahaani   \n",
       "4                                      마린보이   \n",
       "\n",
       "                                            overview  popularity  ...  \\\n",
       "0  When Lou, who has become the \"father of the In...    6.575393  ...   \n",
       "1  Mia Thermopolis is now a college graduate and ...    8.248895  ...   \n",
       "2  Under the direction of a ruthless instructor, ...   64.299990  ...   \n",
       "3  Vidya Bagchi (Vidya Balan) arrives in Kolkata ...    3.174936  ...   \n",
       "4  Marine Boy is the story of a former national s...    1.148070  ...   \n",
       "\n",
       "  release_date runtime                                   spoken_languages  \\\n",
       "0      2/20/15    93.0           [{'iso_639_1': 'en', 'name': 'English'}]   \n",
       "1       8/6/04   113.0           [{'iso_639_1': 'en', 'name': 'English'}]   \n",
       "2     10/10/14   105.0           [{'iso_639_1': 'en', 'name': 'English'}]   \n",
       "3       3/9/12   122.0  [{'iso_639_1': 'en', 'name': 'English'}, {'iso...   \n",
       "4       2/5/09   118.0           [{'iso_639_1': 'ko', 'name': '한국어/조선말'}]   \n",
       "\n",
       "     status                                            tagline  \\\n",
       "0  Released  The Laws of Space and Time are About to be Vio...   \n",
       "1  Released  It can take a lifetime to find true love; she'...   \n",
       "2  Released    The road to greatness can take you to the edge.   \n",
       "3  Released                                                NaN   \n",
       "4  Released                                                NaN   \n",
       "\n",
       "                                      title  \\\n",
       "0                    Hot Tub Time Machine 2   \n",
       "1  The Princess Diaries 2: Royal Engagement   \n",
       "2                                  Whiplash   \n",
       "3                                   Kahaani   \n",
       "4                                Marine Boy   \n",
       "\n",
       "                                            Keywords  \\\n",
       "0  [{'id': 4379, 'name': 'time travel'}, {'id': 9...   \n",
       "1  [{'id': 2505, 'name': 'coronation'}, {'id': 42...   \n",
       "2  [{'id': 1416, 'name': 'jazz'}, {'id': 1523, 'n...   \n",
       "3  [{'id': 10092, 'name': 'mystery'}, {'id': 1054...   \n",
       "4                                                 {}   \n",
       "\n",
       "                                                cast  \\\n",
       "0  [{'cast_id': 4, 'character': 'Lou', 'credit_id...   \n",
       "1  [{'cast_id': 1, 'character': 'Mia Thermopolis'...   \n",
       "2  [{'cast_id': 5, 'character': 'Andrew Neimann',...   \n",
       "3  [{'cast_id': 1, 'character': 'Vidya Bagchi', '...   \n",
       "4  [{'cast_id': 3, 'character': 'Chun-soo', 'cred...   \n",
       "\n",
       "                                                crew   revenue  \n",
       "0  [{'credit_id': '59ac067c92514107af02c8c8', 'de...  12314651  \n",
       "1  [{'credit_id': '52fe43fe9251416c7502563d', 'de...  95149435  \n",
       "2  [{'credit_id': '54d5356ec3a3683ba0000039', 'de...  13092000  \n",
       "3  [{'credit_id': '52fe48779251416c9108d6eb', 'de...  16000000  \n",
       "4  [{'credit_id': '52fe464b9251416c75073b43', 'de...   3923970  \n",
       "\n",
       "[5 rows x 23 columns]"
      ]
     },
     "execution_count": 13,
     "metadata": {},
     "output_type": "execute_result"
    }
   ],
   "source": [
    "train.head()"
   ]
  },
  {
   "cell_type": "code",
   "execution_count": 14,
   "metadata": {},
   "outputs": [
    {
     "name": "stdout",
     "output_type": "stream",
     "text": [
      "<class 'pandas.core.frame.DataFrame'>\n",
      "RangeIndex: 3000 entries, 0 to 2999\n",
      "Data columns (total 23 columns):\n",
      " #   Column                 Non-Null Count  Dtype  \n",
      "---  ------                 --------------  -----  \n",
      " 0   id                     3000 non-null   int64  \n",
      " 1   belongs_to_collection  3000 non-null   object \n",
      " 2   budget                 3000 non-null   int64  \n",
      " 3   genres                 3000 non-null   object \n",
      " 4   homepage               946 non-null    object \n",
      " 5   imdb_id                3000 non-null   object \n",
      " 6   original_language      3000 non-null   object \n",
      " 7   original_title         3000 non-null   object \n",
      " 8   overview               2992 non-null   object \n",
      " 9   popularity             3000 non-null   float64\n",
      " 10  poster_path            2999 non-null   object \n",
      " 11  production_companies   3000 non-null   object \n",
      " 12  production_countries   3000 non-null   object \n",
      " 13  release_date           3000 non-null   object \n",
      " 14  runtime                2998 non-null   float64\n",
      " 15  spoken_languages       3000 non-null   object \n",
      " 16  status                 3000 non-null   object \n",
      " 17  tagline                2403 non-null   object \n",
      " 18  title                  3000 non-null   object \n",
      " 19  Keywords               3000 non-null   object \n",
      " 20  cast                   3000 non-null   object \n",
      " 21  crew                   3000 non-null   object \n",
      " 22  revenue                3000 non-null   int64  \n",
      "dtypes: float64(2), int64(3), object(18)\n",
      "memory usage: 539.2+ KB\n"
     ]
    }
   ],
   "source": [
    "train.info()"
   ]
  },
  {
   "cell_type": "code",
   "execution_count": 15,
   "metadata": {},
   "outputs": [
    {
     "data": {
      "text/html": [
       "<div>\n",
       "<style scoped>\n",
       "    .dataframe tbody tr th:only-of-type {\n",
       "        vertical-align: middle;\n",
       "    }\n",
       "\n",
       "    .dataframe tbody tr th {\n",
       "        vertical-align: top;\n",
       "    }\n",
       "\n",
       "    .dataframe thead th {\n",
       "        text-align: right;\n",
       "    }\n",
       "</style>\n",
       "<table border=\"1\" class=\"dataframe\">\n",
       "  <thead>\n",
       "    <tr style=\"text-align: right;\">\n",
       "      <th></th>\n",
       "      <th>id</th>\n",
       "      <th>belongs_to_collection</th>\n",
       "      <th>budget</th>\n",
       "      <th>genres</th>\n",
       "      <th>homepage</th>\n",
       "      <th>imdb_id</th>\n",
       "      <th>original_language</th>\n",
       "      <th>original_title</th>\n",
       "      <th>overview</th>\n",
       "      <th>popularity</th>\n",
       "      <th>...</th>\n",
       "      <th>release_date</th>\n",
       "      <th>runtime</th>\n",
       "      <th>spoken_languages</th>\n",
       "      <th>status</th>\n",
       "      <th>tagline</th>\n",
       "      <th>title</th>\n",
       "      <th>Keywords</th>\n",
       "      <th>cast</th>\n",
       "      <th>crew</th>\n",
       "      <th>revenue</th>\n",
       "    </tr>\n",
       "  </thead>\n",
       "  <tbody>\n",
       "    <tr>\n",
       "      <th>count</th>\n",
       "      <td>3000.000000</td>\n",
       "      <td>3000</td>\n",
       "      <td>3.000000e+03</td>\n",
       "      <td>3000</td>\n",
       "      <td>946</td>\n",
       "      <td>3000</td>\n",
       "      <td>3000</td>\n",
       "      <td>3000</td>\n",
       "      <td>2992</td>\n",
       "      <td>3000.000000</td>\n",
       "      <td>...</td>\n",
       "      <td>3000</td>\n",
       "      <td>2998.000000</td>\n",
       "      <td>3000</td>\n",
       "      <td>3000</td>\n",
       "      <td>2403</td>\n",
       "      <td>3000</td>\n",
       "      <td>3000</td>\n",
       "      <td>3000</td>\n",
       "      <td>3000</td>\n",
       "      <td>3.000000e+03</td>\n",
       "    </tr>\n",
       "    <tr>\n",
       "      <th>unique</th>\n",
       "      <td>NaN</td>\n",
       "      <td>423</td>\n",
       "      <td>NaN</td>\n",
       "      <td>873</td>\n",
       "      <td>941</td>\n",
       "      <td>3000</td>\n",
       "      <td>36</td>\n",
       "      <td>2975</td>\n",
       "      <td>2992</td>\n",
       "      <td>NaN</td>\n",
       "      <td>...</td>\n",
       "      <td>2398</td>\n",
       "      <td>NaN</td>\n",
       "      <td>402</td>\n",
       "      <td>2</td>\n",
       "      <td>2400</td>\n",
       "      <td>2969</td>\n",
       "      <td>2649</td>\n",
       "      <td>2976</td>\n",
       "      <td>2985</td>\n",
       "      <td>NaN</td>\n",
       "    </tr>\n",
       "    <tr>\n",
       "      <th>top</th>\n",
       "      <td>NaN</td>\n",
       "      <td>{}</td>\n",
       "      <td>NaN</td>\n",
       "      <td>[{'id': 18, 'name': 'Drama'}]</td>\n",
       "      <td>http://www.transformersmovie.com/</td>\n",
       "      <td>tt0251160</td>\n",
       "      <td>en</td>\n",
       "      <td>The Gift</td>\n",
       "      <td>In her many years as a social worker, Emily Je...</td>\n",
       "      <td>NaN</td>\n",
       "      <td>...</td>\n",
       "      <td>9/10/15</td>\n",
       "      <td>NaN</td>\n",
       "      <td>[{'iso_639_1': 'en', 'name': 'English'}]</td>\n",
       "      <td>Released</td>\n",
       "      <td>Based on a true story.</td>\n",
       "      <td>Scarface</td>\n",
       "      <td>{}</td>\n",
       "      <td>{}</td>\n",
       "      <td>{}</td>\n",
       "      <td>NaN</td>\n",
       "    </tr>\n",
       "    <tr>\n",
       "      <th>freq</th>\n",
       "      <td>NaN</td>\n",
       "      <td>2396</td>\n",
       "      <td>NaN</td>\n",
       "      <td>266</td>\n",
       "      <td>4</td>\n",
       "      <td>1</td>\n",
       "      <td>2575</td>\n",
       "      <td>2</td>\n",
       "      <td>1</td>\n",
       "      <td>NaN</td>\n",
       "      <td>...</td>\n",
       "      <td>5</td>\n",
       "      <td>NaN</td>\n",
       "      <td>1817</td>\n",
       "      <td>2996</td>\n",
       "      <td>3</td>\n",
       "      <td>2</td>\n",
       "      <td>276</td>\n",
       "      <td>13</td>\n",
       "      <td>16</td>\n",
       "      <td>NaN</td>\n",
       "    </tr>\n",
       "    <tr>\n",
       "      <th>mean</th>\n",
       "      <td>1500.500000</td>\n",
       "      <td>NaN</td>\n",
       "      <td>2.253133e+07</td>\n",
       "      <td>NaN</td>\n",
       "      <td>NaN</td>\n",
       "      <td>NaN</td>\n",
       "      <td>NaN</td>\n",
       "      <td>NaN</td>\n",
       "      <td>NaN</td>\n",
       "      <td>8.463274</td>\n",
       "      <td>...</td>\n",
       "      <td>NaN</td>\n",
       "      <td>107.856571</td>\n",
       "      <td>NaN</td>\n",
       "      <td>NaN</td>\n",
       "      <td>NaN</td>\n",
       "      <td>NaN</td>\n",
       "      <td>NaN</td>\n",
       "      <td>NaN</td>\n",
       "      <td>NaN</td>\n",
       "      <td>6.672585e+07</td>\n",
       "    </tr>\n",
       "    <tr>\n",
       "      <th>std</th>\n",
       "      <td>866.169729</td>\n",
       "      <td>NaN</td>\n",
       "      <td>3.702609e+07</td>\n",
       "      <td>NaN</td>\n",
       "      <td>NaN</td>\n",
       "      <td>NaN</td>\n",
       "      <td>NaN</td>\n",
       "      <td>NaN</td>\n",
       "      <td>NaN</td>\n",
       "      <td>12.104000</td>\n",
       "      <td>...</td>\n",
       "      <td>NaN</td>\n",
       "      <td>22.086434</td>\n",
       "      <td>NaN</td>\n",
       "      <td>NaN</td>\n",
       "      <td>NaN</td>\n",
       "      <td>NaN</td>\n",
       "      <td>NaN</td>\n",
       "      <td>NaN</td>\n",
       "      <td>NaN</td>\n",
       "      <td>1.375323e+08</td>\n",
       "    </tr>\n",
       "    <tr>\n",
       "      <th>min</th>\n",
       "      <td>1.000000</td>\n",
       "      <td>NaN</td>\n",
       "      <td>0.000000e+00</td>\n",
       "      <td>NaN</td>\n",
       "      <td>NaN</td>\n",
       "      <td>NaN</td>\n",
       "      <td>NaN</td>\n",
       "      <td>NaN</td>\n",
       "      <td>NaN</td>\n",
       "      <td>0.000001</td>\n",
       "      <td>...</td>\n",
       "      <td>NaN</td>\n",
       "      <td>0.000000</td>\n",
       "      <td>NaN</td>\n",
       "      <td>NaN</td>\n",
       "      <td>NaN</td>\n",
       "      <td>NaN</td>\n",
       "      <td>NaN</td>\n",
       "      <td>NaN</td>\n",
       "      <td>NaN</td>\n",
       "      <td>1.000000e+00</td>\n",
       "    </tr>\n",
       "    <tr>\n",
       "      <th>25%</th>\n",
       "      <td>750.750000</td>\n",
       "      <td>NaN</td>\n",
       "      <td>0.000000e+00</td>\n",
       "      <td>NaN</td>\n",
       "      <td>NaN</td>\n",
       "      <td>NaN</td>\n",
       "      <td>NaN</td>\n",
       "      <td>NaN</td>\n",
       "      <td>NaN</td>\n",
       "      <td>4.018053</td>\n",
       "      <td>...</td>\n",
       "      <td>NaN</td>\n",
       "      <td>94.000000</td>\n",
       "      <td>NaN</td>\n",
       "      <td>NaN</td>\n",
       "      <td>NaN</td>\n",
       "      <td>NaN</td>\n",
       "      <td>NaN</td>\n",
       "      <td>NaN</td>\n",
       "      <td>NaN</td>\n",
       "      <td>2.379808e+06</td>\n",
       "    </tr>\n",
       "    <tr>\n",
       "      <th>50%</th>\n",
       "      <td>1500.500000</td>\n",
       "      <td>NaN</td>\n",
       "      <td>8.000000e+06</td>\n",
       "      <td>NaN</td>\n",
       "      <td>NaN</td>\n",
       "      <td>NaN</td>\n",
       "      <td>NaN</td>\n",
       "      <td>NaN</td>\n",
       "      <td>NaN</td>\n",
       "      <td>7.374861</td>\n",
       "      <td>...</td>\n",
       "      <td>NaN</td>\n",
       "      <td>104.000000</td>\n",
       "      <td>NaN</td>\n",
       "      <td>NaN</td>\n",
       "      <td>NaN</td>\n",
       "      <td>NaN</td>\n",
       "      <td>NaN</td>\n",
       "      <td>NaN</td>\n",
       "      <td>NaN</td>\n",
       "      <td>1.680707e+07</td>\n",
       "    </tr>\n",
       "    <tr>\n",
       "      <th>75%</th>\n",
       "      <td>2250.250000</td>\n",
       "      <td>NaN</td>\n",
       "      <td>2.900000e+07</td>\n",
       "      <td>NaN</td>\n",
       "      <td>NaN</td>\n",
       "      <td>NaN</td>\n",
       "      <td>NaN</td>\n",
       "      <td>NaN</td>\n",
       "      <td>NaN</td>\n",
       "      <td>10.890983</td>\n",
       "      <td>...</td>\n",
       "      <td>NaN</td>\n",
       "      <td>118.000000</td>\n",
       "      <td>NaN</td>\n",
       "      <td>NaN</td>\n",
       "      <td>NaN</td>\n",
       "      <td>NaN</td>\n",
       "      <td>NaN</td>\n",
       "      <td>NaN</td>\n",
       "      <td>NaN</td>\n",
       "      <td>6.891920e+07</td>\n",
       "    </tr>\n",
       "    <tr>\n",
       "      <th>max</th>\n",
       "      <td>3000.000000</td>\n",
       "      <td>NaN</td>\n",
       "      <td>3.800000e+08</td>\n",
       "      <td>NaN</td>\n",
       "      <td>NaN</td>\n",
       "      <td>NaN</td>\n",
       "      <td>NaN</td>\n",
       "      <td>NaN</td>\n",
       "      <td>NaN</td>\n",
       "      <td>294.337037</td>\n",
       "      <td>...</td>\n",
       "      <td>NaN</td>\n",
       "      <td>338.000000</td>\n",
       "      <td>NaN</td>\n",
       "      <td>NaN</td>\n",
       "      <td>NaN</td>\n",
       "      <td>NaN</td>\n",
       "      <td>NaN</td>\n",
       "      <td>NaN</td>\n",
       "      <td>NaN</td>\n",
       "      <td>1.519558e+09</td>\n",
       "    </tr>\n",
       "  </tbody>\n",
       "</table>\n",
       "<p>11 rows × 23 columns</p>\n",
       "</div>"
      ],
      "text/plain": [
       "                 id belongs_to_collection        budget  \\\n",
       "count   3000.000000                  3000  3.000000e+03   \n",
       "unique          NaN                   423           NaN   \n",
       "top             NaN                    {}           NaN   \n",
       "freq            NaN                  2396           NaN   \n",
       "mean    1500.500000                   NaN  2.253133e+07   \n",
       "std      866.169729                   NaN  3.702609e+07   \n",
       "min        1.000000                   NaN  0.000000e+00   \n",
       "25%      750.750000                   NaN  0.000000e+00   \n",
       "50%     1500.500000                   NaN  8.000000e+06   \n",
       "75%     2250.250000                   NaN  2.900000e+07   \n",
       "max     3000.000000                   NaN  3.800000e+08   \n",
       "\n",
       "                               genres                           homepage  \\\n",
       "count                            3000                                946   \n",
       "unique                            873                                941   \n",
       "top     [{'id': 18, 'name': 'Drama'}]  http://www.transformersmovie.com/   \n",
       "freq                              266                                  4   \n",
       "mean                              NaN                                NaN   \n",
       "std                               NaN                                NaN   \n",
       "min                               NaN                                NaN   \n",
       "25%                               NaN                                NaN   \n",
       "50%                               NaN                                NaN   \n",
       "75%                               NaN                                NaN   \n",
       "max                               NaN                                NaN   \n",
       "\n",
       "          imdb_id original_language original_title  \\\n",
       "count        3000              3000           3000   \n",
       "unique       3000                36           2975   \n",
       "top     tt0251160                en       The Gift   \n",
       "freq            1              2575              2   \n",
       "mean          NaN               NaN            NaN   \n",
       "std           NaN               NaN            NaN   \n",
       "min           NaN               NaN            NaN   \n",
       "25%           NaN               NaN            NaN   \n",
       "50%           NaN               NaN            NaN   \n",
       "75%           NaN               NaN            NaN   \n",
       "max           NaN               NaN            NaN   \n",
       "\n",
       "                                                 overview   popularity  ...  \\\n",
       "count                                                2992  3000.000000  ...   \n",
       "unique                                               2992          NaN  ...   \n",
       "top     In her many years as a social worker, Emily Je...          NaN  ...   \n",
       "freq                                                    1          NaN  ...   \n",
       "mean                                                  NaN     8.463274  ...   \n",
       "std                                                   NaN    12.104000  ...   \n",
       "min                                                   NaN     0.000001  ...   \n",
       "25%                                                   NaN     4.018053  ...   \n",
       "50%                                                   NaN     7.374861  ...   \n",
       "75%                                                   NaN    10.890983  ...   \n",
       "max                                                   NaN   294.337037  ...   \n",
       "\n",
       "       release_date      runtime                          spoken_languages  \\\n",
       "count          3000  2998.000000                                      3000   \n",
       "unique         2398          NaN                                       402   \n",
       "top         9/10/15          NaN  [{'iso_639_1': 'en', 'name': 'English'}]   \n",
       "freq              5          NaN                                      1817   \n",
       "mean            NaN   107.856571                                       NaN   \n",
       "std             NaN    22.086434                                       NaN   \n",
       "min             NaN     0.000000                                       NaN   \n",
       "25%             NaN    94.000000                                       NaN   \n",
       "50%             NaN   104.000000                                       NaN   \n",
       "75%             NaN   118.000000                                       NaN   \n",
       "max             NaN   338.000000                                       NaN   \n",
       "\n",
       "          status                 tagline     title Keywords  cast  crew  \\\n",
       "count       3000                    2403      3000     3000  3000  3000   \n",
       "unique         2                    2400      2969     2649  2976  2985   \n",
       "top     Released  Based on a true story.  Scarface       {}    {}    {}   \n",
       "freq        2996                       3         2      276    13    16   \n",
       "mean         NaN                     NaN       NaN      NaN   NaN   NaN   \n",
       "std          NaN                     NaN       NaN      NaN   NaN   NaN   \n",
       "min          NaN                     NaN       NaN      NaN   NaN   NaN   \n",
       "25%          NaN                     NaN       NaN      NaN   NaN   NaN   \n",
       "50%          NaN                     NaN       NaN      NaN   NaN   NaN   \n",
       "75%          NaN                     NaN       NaN      NaN   NaN   NaN   \n",
       "max          NaN                     NaN       NaN      NaN   NaN   NaN   \n",
       "\n",
       "             revenue  \n",
       "count   3.000000e+03  \n",
       "unique           NaN  \n",
       "top              NaN  \n",
       "freq             NaN  \n",
       "mean    6.672585e+07  \n",
       "std     1.375323e+08  \n",
       "min     1.000000e+00  \n",
       "25%     2.379808e+06  \n",
       "50%     1.680707e+07  \n",
       "75%     6.891920e+07  \n",
       "max     1.519558e+09  \n",
       "\n",
       "[11 rows x 23 columns]"
      ]
     },
     "execution_count": 15,
     "metadata": {},
     "output_type": "execute_result"
    }
   ],
   "source": [
    "train.describe(include='all')"
   ]
  },
  {
   "cell_type": "markdown",
   "metadata": {},
   "source": [
    "**Osservazioni**: \n",
    "- Il nostro dataset è composto da 3000 righe e 23 colonne;\n",
    "- Molte colonne presentano molti valori mancanti;\n",
    "- Alcune colonne sono rappresentate come stringhe, ma non è la rappresentazione più comoda. \n",
    "- ID e IMDB_ID hanno valori unici per ogni osservazione."
   ]
  },
  {
   "cell_type": "markdown",
   "metadata": {},
   "source": [
    "### Rimozione delle Features non utili"
   ]
  },
  {
   "cell_type": "markdown",
   "metadata": {},
   "source": [
    "Id e imdb_id possono essere rimosse in quanto hanno valori unici per ogni osservazione, per cui non hanno rilevanza nella predizione. "
   ]
  },
  {
   "cell_type": "code",
   "execution_count": 16,
   "metadata": {},
   "outputs": [],
   "source": [
    "train.drop(['id','imdb_id'], axis='columns', inplace=True)\n",
    "test.drop(['id','imdb_id'], axis='columns', inplace=True)"
   ]
  },
  {
   "cell_type": "markdown",
   "metadata": {},
   "source": [
    "Inoltre, possono essere rimosse altre Features che non hanno importanza per i nostri scopi:\n",
    "- I titoli sono valori univoci, salvo alcuni match che probabilmente sono incorrelati tra di loro, quindi posso ipotizzare che sia meglio eliminare le colonne title e original_title\n",
    "- homepage, poster_path, status non sono di particolare rilevanza\n",
    "- original_language è poco d'interesse, è più interessante sapere in che lingue è stato tradotto.\n",
    "- Le colonne overview e tagline sono di tipo testuale e sono complesse da utilizzare. Informazioni più utili saranno contenuto nella colonna Keywords che è, inoltre, più facile da manipolare."
   ]
  },
  {
   "cell_type": "code",
   "execution_count": 17,
   "metadata": {},
   "outputs": [],
   "source": [
    "train.drop(labels=['homepage','original_title','overview','poster_path','status','tagline','title'], axis='columns', inplace=True)\n",
    "test.drop(labels=['homepage','original_title','overview','poster_path','status','tagline','title'], axis='columns', inplace=True)"
   ]
  },
  {
   "cell_type": "code",
   "execution_count": 18,
   "metadata": {},
   "outputs": [],
   "source": [
    "#rimozione temporanea di alcune features che per il momento ignoreremo\n",
    "train.drop(labels=[\"cast\", \"crew\"], axis='columns', inplace=True)\n",
    "test.drop(labels=[\"cast\", \"crew\"], axis='columns', inplace=True)"
   ]
  },
  {
   "cell_type": "markdown",
   "metadata": {},
   "source": [
    "### Manipolazione delle features strutturate"
   ]
  },
  {
   "cell_type": "code",
   "execution_count": null,
   "metadata": {},
   "outputs": [],
   "source": [
    "# TODO: printare le celle e mostrare come sono fatte e spiegare perchè prendiamo solo il nome"
   ]
  },
  {
   "cell_type": "code",
   "execution_count": 36,
   "metadata": {},
   "outputs": [],
   "source": [
    "# Selezioniamo solo il campo 'name' dalle seguenti strutture dati\n",
    "columns_to_change = [\"belongs_to_collection\", \"genres\", \"production_companies\", \"production_countries\", \"spoken_languages\", \"Keywords\"]\n",
    "\n",
    "for column in columns_to_change:\n",
    "    train[column] = train[column].apply(convert)"
   ]
  },
  {
   "cell_type": "markdown",
   "metadata": {},
   "source": [
    "## Analisi delle Features"
   ]
  },
  {
   "cell_type": "markdown",
   "metadata": {},
   "source": [
    "Come già visto, il dataframe contiene ben 23 features. Ne abbiamo rimosse 10. \n",
    "Andremo ora ad analizzarle una per una, apportando le opportune modifiche per rendere l'utilizzo più semplice. "
   ]
  },
  {
   "cell_type": "code",
   "execution_count": 19,
   "metadata": {},
   "outputs": [
    {
     "data": {
      "text/plain": [
       "Index(['belongs_to_collection', 'budget', 'genres', 'original_language',\n",
       "       'popularity', 'production_companies', 'production_countries',\n",
       "       'release_date', 'runtime', 'spoken_languages', 'Keywords', 'revenue'],\n",
       "      dtype='object')"
      ]
     },
     "execution_count": 19,
     "metadata": {},
     "output_type": "execute_result"
    }
   ],
   "source": [
    "train.columns"
   ]
  },
  {
   "cell_type": "markdown",
   "metadata": {},
   "source": [
    "### Revenue (L'obiettivo)"
   ]
  },
  {
   "cell_type": "code",
   "execution_count": 20,
   "metadata": {},
   "outputs": [
    {
     "data": {
      "text/plain": [
       "0    12314651\n",
       "1    95149435\n",
       "2    13092000\n",
       "3    16000000\n",
       "4     3923970\n",
       "Name: revenue, dtype: int64"
      ]
     },
     "execution_count": 20,
     "metadata": {},
     "output_type": "execute_result"
    }
   ],
   "source": [
    "train[\"revenue\"][:5]"
   ]
  },
  {
   "cell_type": "code",
   "execution_count": 21,
   "metadata": {},
   "outputs": [
    {
     "data": {
      "text/plain": [
       "Text(0.5, 1.0, 'Istogramma della Revenue')"
      ]
     },
     "execution_count": 21,
     "metadata": {},
     "output_type": "execute_result"
    },
    {
     "data": {
      "image/png": "[encoded data removed]",
      "text/plain": [
       "<Figure size 432x288 with 1 Axes>"
      ]
     },
     "metadata": {
      "needs_background": "light"
     },
     "output_type": "display_data"
    }
   ],
   "source": [
    "#sns.set(rc = {'figure.figsize':(15,3)})\n",
    "sns.distplot(a = train['revenue']).set_title(\"Istogramma della Revenue\")"
   ]
  },
  {
   "cell_type": "code",
   "execution_count": 22,
   "metadata": {
    "scrolled": false
   },
   "outputs": [
    {
     "data": {
      "text/plain": [
       "Text(0.5, 1.0, 'Boxplot della Revenue')"
      ]
     },
     "execution_count": 22,
     "metadata": {},
     "output_type": "execute_result"
    },
    {
     "data": {
      "image/png": "[encoded data removed]",
      "text/plain": [
       "<Figure size 432x288 with 1 Axes>"
      ]
     },
     "metadata": {
      "needs_background": "light"
     },
     "output_type": "display_data"
    }
   ],
   "source": [
    "#sns.set(rc = {'figure.figsize':(15,3)})\n",
    "sns.boxplot(x = train['revenue']).set_title(\"Boxplot della Revenue\")"
   ]
  },
  {
   "cell_type": "markdown",
   "metadata": {},
   "source": [
    "### Release Date\n",
    "La data, nel dataframe, è in formato stringa: poco utile.\n",
    "Vogliamo trasformarla in più colonne indicanti l'anno, il mese, il giorno della settimana e la settimana nell'anno. "
   ]
  },
  {
   "cell_type": "code",
   "execution_count": 23,
   "metadata": {},
   "outputs": [],
   "source": [
    "# Coversione della data da tipo stringa a tipo data\n",
    "train[\"release_date\"] = pd.to_datetime(train[\"release_date\"], errors = \"coerce\", infer_datetime_format=True)"
   ]
  },
  {
   "cell_type": "code",
   "execution_count": 24,
   "metadata": {},
   "outputs": [],
   "source": [
    "# Splitting della data in Anno, Mese, N° settimana e Giorno della settimana.\n",
    "train[\"year_release\"] = train[\"release_date\"].dt.year\n",
    "train[\"month_release\"] = train[\"release_date\"].dt.month\n",
    "train[\"week_of_year_release\"] = train[\"release_date\"].dt.weekofyear\n",
    "train[\"day_of_week_release\"] = train[\"release_date\"].dt.weekday"
   ]
  },
  {
   "cell_type": "code",
   "execution_count": 25,
   "metadata": {},
   "outputs": [],
   "source": [
    "# Rimozione della features modificata\n",
    "train.drop(labels=[\"release_date\"], axis='columns', inplace=True)"
   ]
  },
  {
   "cell_type": "code",
   "execution_count": 26,
   "metadata": {},
   "outputs": [
    {
     "data": {
      "text/plain": [
       "[<matplotlib.lines.Line2D at 0x1c56fc9bd30>]"
      ]
     },
     "execution_count": 26,
     "metadata": {},
     "output_type": "execute_result"
    },
    {
     "data": {
      "image/png": "[encoded data removed]",
      "text/plain": [
       "<Figure size 432x288 with 1 Axes>"
      ]
     },
     "metadata": {
      "needs_background": "light"
     },
     "output_type": "display_data"
    }
   ],
   "source": [
    "plt.plot(train.groupby(\"year_release\").size())"
   ]
  },
  {
   "cell_type": "code",
   "execution_count": 27,
   "metadata": {},
   "outputs": [
    {
     "data": {
      "text/plain": [
       "[<matplotlib.lines.Line2D at 0x1c5500c6a60>]"
      ]
     },
     "execution_count": 27,
     "metadata": {},
     "output_type": "execute_result"
    },
    {
     "data": {
      "image/png": "[encoded data removed]",
      "text/plain": [
       "<Figure size 432x288 with 1 Axes>"
      ]
     },
     "metadata": {
      "needs_background": "light"
     },
     "output_type": "display_data"
    }
   ],
   "source": [
    "plt.plot(train.groupby(\"month_release\").size())"
   ]
  },
  {
   "cell_type": "code",
   "execution_count": 28,
   "metadata": {},
   "outputs": [
    {
     "data": {
      "text/plain": [
       "[<matplotlib.lines.Line2D at 0x1c56fe36af0>]"
      ]
     },
     "execution_count": 28,
     "metadata": {},
     "output_type": "execute_result"
    },
    {
     "data": {
      "image/png": "[encoded data removed]",
      "text/plain": [
       "<Figure size 432x288 with 1 Axes>"
      ]
     },
     "metadata": {
      "needs_background": "light"
     },
     "output_type": "display_data"
    }
   ],
   "source": [
    "plt.plot(train.groupby(\"week_of_year_release\").size())"
   ]
  },
  {
   "cell_type": "code",
   "execution_count": 29,
   "metadata": {},
   "outputs": [
    {
     "data": {
      "text/plain": [
       "[<matplotlib.lines.Line2D at 0x1c56f8bf1c0>]"
      ]
     },
     "execution_count": 29,
     "metadata": {},
     "output_type": "execute_result"
    },
    {
     "data": {
      "image/png": "[encoded data removed]",
      "text/plain": [
       "<Figure size 432x288 with 1 Axes>"
      ]
     },
     "metadata": {
      "needs_background": "light"
     },
     "output_type": "display_data"
    }
   ],
   "source": [
    "plt.plot(train.groupby(\"day_of_week_release\").size())"
   ]
  },
  {
   "cell_type": "markdown",
   "metadata": {},
   "source": [
    "### Belongs To Collection"
   ]
  },
  {
   "cell_type": "code",
   "execution_count": 37,
   "metadata": {},
   "outputs": [
    {
     "data": {
      "text/html": [
       "<div>\n",
       "<style scoped>\n",
       "    .dataframe tbody tr th:only-of-type {\n",
       "        vertical-align: middle;\n",
       "    }\n",
       "\n",
       "    .dataframe tbody tr th {\n",
       "        vertical-align: top;\n",
       "    }\n",
       "\n",
       "    .dataframe thead th {\n",
       "        text-align: right;\n",
       "    }\n",
       "</style>\n",
       "<table border=\"1\" class=\"dataframe\">\n",
       "  <thead>\n",
       "    <tr style=\"text-align: right;\">\n",
       "      <th></th>\n",
       "      <th>belongs_to_collection</th>\n",
       "    </tr>\n",
       "  </thead>\n",
       "  <tbody>\n",
       "    <tr>\n",
       "      <th>Hot Tub Time Machine Collection</th>\n",
       "      <td>1</td>\n",
       "    </tr>\n",
       "    <tr>\n",
       "      <th>The Princess Diaries Collection</th>\n",
       "      <td>2</td>\n",
       "    </tr>\n",
       "    <tr>\n",
       "      <th>The Muppet Collection</th>\n",
       "      <td>2</td>\n",
       "    </tr>\n",
       "    <tr>\n",
       "      <th>Rocky Collection</th>\n",
       "      <td>4</td>\n",
       "    </tr>\n",
       "    <tr>\n",
       "      <th>Revenge of the Nerds Collection</th>\n",
       "      <td>1</td>\n",
       "    </tr>\n",
       "  </tbody>\n",
       "</table>\n",
       "</div>"
      ],
      "text/plain": [
       "                                 belongs_to_collection\n",
       "Hot Tub Time Machine Collection                      1\n",
       "The Princess Diaries Collection                      2\n",
       "The Muppet Collection                                2\n",
       "Rocky Collection                                     4\n",
       "Revenge of the Nerds Collection                      1"
      ]
     },
     "execution_count": 37,
     "metadata": {},
     "output_type": "execute_result"
    }
   ],
   "source": [
    "df_belongsToCollection = find_frequency(\"belongs_to_collection\", train)\n",
    "df_belongsToCollection.head()"
   ]
  },
  {
   "cell_type": "code",
   "execution_count": 38,
   "metadata": {},
   "outputs": [
    {
     "data": {
      "text/plain": [
       "<BarContainer object of 422 artists>"
      ]
     },
     "execution_count": 38,
     "metadata": {},
     "output_type": "execute_result"
    },
    {
     "data": {
      "image/png": "[encoded data removed]",
      "text/plain": [
       "<Figure size 432x288 with 1 Axes>"
      ]
     },
     "metadata": {
      "needs_background": "light"
     },
     "output_type": "display_data"
    }
   ],
   "source": [
    "# TODO: da sistemare il grafico\n",
    "plt.bar(x = df_belongsToCollection.index, height = df_belongsToCollection.iloc[:,0])"
   ]
  },
  {
   "cell_type": "markdown",
   "metadata": {},
   "source": [
    "Osservando il grafico, vediamo che parecchie collection hanno un film solo che gli appartiene, questo comporta il fatto che la loro presenza non sarà significativa, quindi possiamo tenere solamente le collection che hanno almeno 2 film che gli appartengano."
   ]
  },
  {
   "cell_type": "markdown",
   "metadata": {},
   "source": [
    "### Genres"
   ]
  },
  {
   "cell_type": "code",
   "execution_count": 39,
   "metadata": {},
   "outputs": [
    {
     "name": "stdout",
     "output_type": "stream",
     "text": [
      "<class 'pandas.core.frame.DataFrame'>\n",
      "Index: 20 entries, Comedy to TV Movie\n",
      "Data columns (total 1 columns):\n",
      " #   Column  Non-Null Count  Dtype\n",
      "---  ------  --------------  -----\n",
      " 0   genres  20 non-null     int64\n",
      "dtypes: int64(1)\n",
      "memory usage: 320.0+ bytes\n"
     ]
    }
   ],
   "source": [
    "df_genres = find_frequency(\"genres\", train)\n",
    "df_genres.info()"
   ]
  },
  {
   "cell_type": "code",
   "execution_count": 34,
   "metadata": {},
   "outputs": [
    {
     "ename": "NameError",
     "evalue": "name 'df_genres' is not defined",
     "output_type": "error",
     "traceback": [
      "\u001b[1;31m---------------------------------------------------------------------------\u001b[0m",
      "\u001b[1;31mNameError\u001b[0m                                 Traceback (most recent call last)",
      "\u001b[1;32m<ipython-input-34-5e2ee252362f>\u001b[0m in \u001b[0;36m<module>\u001b[1;34m\u001b[0m\n\u001b[1;32m----> 1\u001b[1;33m \u001b[0mplt\u001b[0m\u001b[1;33m.\u001b[0m\u001b[0mbar\u001b[0m\u001b[1;33m(\u001b[0m\u001b[0mx\u001b[0m \u001b[1;33m=\u001b[0m \u001b[0mdf_genres\u001b[0m\u001b[1;33m.\u001b[0m\u001b[0mindex\u001b[0m\u001b[1;33m,\u001b[0m \u001b[0mheight\u001b[0m \u001b[1;33m=\u001b[0m \u001b[0mdf_genres\u001b[0m\u001b[1;33m.\u001b[0m\u001b[0miloc\u001b[0m\u001b[1;33m[\u001b[0m\u001b[1;33m:\u001b[0m\u001b[1;33m,\u001b[0m\u001b[1;36m0\u001b[0m\u001b[1;33m]\u001b[0m\u001b[1;33m)\u001b[0m\u001b[1;33m\u001b[0m\u001b[1;33m\u001b[0m\u001b[0m\n\u001b[0m",
      "\u001b[1;31mNameError\u001b[0m: name 'df_genres' is not defined"
     ]
    }
   ],
   "source": [
    "plt.bar(x = df_genres.index, height = df_genres.iloc[:,0])"
   ]
  },
  {
   "cell_type": "markdown",
   "metadata": {},
   "source": [
    "### Production companies"
   ]
  },
  {
   "cell_type": "code",
   "execution_count": 40,
   "metadata": {},
   "outputs": [
    {
     "name": "stdout",
     "output_type": "stream",
     "text": [
      "<class 'pandas.core.frame.DataFrame'>\n",
      "Index: 3695 entries, Paramount Pictures to Quick Six Entertainment\n",
      "Data columns (total 1 columns):\n",
      " #   Column                Non-Null Count  Dtype\n",
      "---  ------                --------------  -----\n",
      " 0   production_companies  3695 non-null   int64\n",
      "dtypes: int64(1)\n",
      "memory usage: 57.7+ KB\n"
     ]
    }
   ],
   "source": [
    "df_productionCompanies = find_frequency(\"production_companies\", train)\n",
    "df_productionCompanies.info()"
   ]
  },
  {
   "cell_type": "code",
   "execution_count": 41,
   "metadata": {},
   "outputs": [
    {
     "data": {
      "text/html": [
       "<div>\n",
       "<style scoped>\n",
       "    .dataframe tbody tr th:only-of-type {\n",
       "        vertical-align: middle;\n",
       "    }\n",
       "\n",
       "    .dataframe tbody tr th {\n",
       "        vertical-align: top;\n",
       "    }\n",
       "\n",
       "    .dataframe thead th {\n",
       "        text-align: right;\n",
       "    }\n",
       "</style>\n",
       "<table border=\"1\" class=\"dataframe\">\n",
       "  <thead>\n",
       "    <tr style=\"text-align: right;\">\n",
       "      <th></th>\n",
       "      <th>production_companies</th>\n",
       "    </tr>\n",
       "  </thead>\n",
       "  <tbody>\n",
       "    <tr>\n",
       "      <th>count</th>\n",
       "      <td>3695.000000</td>\n",
       "    </tr>\n",
       "    <tr>\n",
       "      <th>mean</th>\n",
       "      <td>2.190798</td>\n",
       "    </tr>\n",
       "    <tr>\n",
       "      <th>std</th>\n",
       "      <td>7.032689</td>\n",
       "    </tr>\n",
       "    <tr>\n",
       "      <th>min</th>\n",
       "      <td>1.000000</td>\n",
       "    </tr>\n",
       "    <tr>\n",
       "      <th>25%</th>\n",
       "      <td>1.000000</td>\n",
       "    </tr>\n",
       "    <tr>\n",
       "      <th>50%</th>\n",
       "      <td>1.000000</td>\n",
       "    </tr>\n",
       "    <tr>\n",
       "      <th>75%</th>\n",
       "      <td>2.000000</td>\n",
       "    </tr>\n",
       "    <tr>\n",
       "      <th>max</th>\n",
       "      <td>202.000000</td>\n",
       "    </tr>\n",
       "  </tbody>\n",
       "</table>\n",
       "</div>"
      ],
      "text/plain": [
       "       production_companies\n",
       "count           3695.000000\n",
       "mean               2.190798\n",
       "std                7.032689\n",
       "min                1.000000\n",
       "25%                1.000000\n",
       "50%                1.000000\n",
       "75%                2.000000\n",
       "max              202.000000"
      ]
     },
     "execution_count": 41,
     "metadata": {},
     "output_type": "execute_result"
    }
   ],
   "source": [
    "df_productionCompanies.describe(include=\"all\")"
   ]
  },
  {
   "cell_type": "code",
   "execution_count": 43,
   "metadata": {},
   "outputs": [
    {
     "data": {
      "text/plain": [
       "<BarContainer object of 3695 artists>"
      ]
     },
     "execution_count": 43,
     "metadata": {},
     "output_type": "execute_result"
    },
    {
     "data": {
      "image/png": "[encoded data removed]",
      "text/plain": [
       "<Figure size 432x288 with 1 Axes>"
      ]
     },
     "metadata": {
      "needs_background": "light"
     },
     "output_type": "display_data"
    }
   ],
   "source": [
    "plt.bar(x = df_productionCompanies.index, height = df_productionCompanies.iloc[:,0])"
   ]
  },
  {
   "cell_type": "code",
   "execution_count": 42,
   "metadata": {},
   "outputs": [
    {
     "data": {
      "text/plain": [
       "[('Warner Bros.', 202),\n",
       " ('Universal Pictures', 188),\n",
       " ('Paramount Pictures', 161),\n",
       " ('Twentieth Century Fox Film Corporation', 138),\n",
       " ('Columbia Pictures', 91),\n",
       " ('Metro-Goldwyn-Mayer (MGM)', 84),\n",
       " ('New Line Cinema', 75),\n",
       " ('Touchstone Pictures', 63),\n",
       " ('Walt Disney Pictures', 62),\n",
       " ('Columbia Pictures Corporation', 61),\n",
       " ('TriStar Pictures', 53),\n",
       " ('Relativity Media', 48),\n",
       " ('Canal+', 46),\n",
       " ('United Artists', 44),\n",
       " ('Miramax Films', 40),\n",
       " ('Village Roadshow Pictures', 36),\n",
       " ('Regency Enterprises', 31),\n",
       " ('BBC Films', 30),\n",
       " ('Dune Entertainment', 30),\n",
       " ('Working Title Films', 30),\n",
       " ('Fox Searchlight Pictures', 29),\n",
       " ('StudioCanal', 28),\n",
       " ('Lionsgate', 28),\n",
       " ('DreamWorks SKG', 27),\n",
       " ('Fox 2000 Pictures', 25),\n",
       " ('Summit Entertainment', 24),\n",
       " ('Hollywood Pictures', 24),\n",
       " ('Orion Pictures', 24),\n",
       " ('Amblin Entertainment', 23),\n",
       " ('Dimension Films', 23),\n",
       " ('Castle Rock Entertainment', 21),\n",
       " ('Epsilon Motion Pictures', 21),\n",
       " ('Morgan Creek Productions', 21),\n",
       " ('Original Film', 21),\n",
       " ('Focus Features', 21),\n",
       " ('Legendary Pictures', 19),\n",
       " ('Participant Media', 19),\n",
       " ('Blumhouse Productions', 18),\n",
       " ('New Regency Pictures', 18),\n",
       " ('Film4', 18),\n",
       " ('Spyglass Entertainment', 17),\n",
       " ('Imagine Entertainment', 16),\n",
       " ('Screen Gems', 16),\n",
       " ('Millennium Films', 16),\n",
       " ('TSG Entertainment', 16),\n",
       " ('Lakeshore Entertainment', 15),\n",
       " ('France 2 Cinéma', 15),\n",
       " ('Silver Pictures', 15),\n",
       " ('The Weinstein Company', 14),\n",
       " ('PolyGram Filmed Entertainment', 14)]"
      ]
     },
     "execution_count": 42,
     "metadata": {},
     "output_type": "execute_result"
    }
   ],
   "source": [
    "Counter(values_to_list(\"production_companies\", train)).most_common(50)"
   ]
  },
  {
   "cell_type": "markdown",
   "metadata": {},
   "source": [
    "Osserviamo innanzitutto che abbiamo troppe case di produzione, di cui la maggior parte non significative, in quanto compaiono in pochi film. Decideremo poi quante tenerne."
   ]
  },
  {
   "cell_type": "markdown",
   "metadata": {},
   "source": [
    "### Production countries"
   ]
  },
  {
   "cell_type": "code",
   "execution_count": 44,
   "metadata": {},
   "outputs": [
    {
     "name": "stdout",
     "output_type": "stream",
     "text": [
      "<class 'pandas.core.frame.DataFrame'>\n",
      "Index: 74 entries, United States of America to Indonesia\n",
      "Data columns (total 1 columns):\n",
      " #   Column                Non-Null Count  Dtype\n",
      "---  ------                --------------  -----\n",
      " 0   production_countries  74 non-null     int64\n",
      "dtypes: int64(1)\n",
      "memory usage: 1.2+ KB\n"
     ]
    }
   ],
   "source": [
    "df_productionCountries = find_frequency(\"production_countries\", train)\n",
    "df_productionCountries.info()"
   ]
  },
  {
   "cell_type": "code",
   "execution_count": 45,
   "metadata": {},
   "outputs": [
    {
     "data": {
      "text/html": [
       "<div>\n",
       "<style scoped>\n",
       "    .dataframe tbody tr th:only-of-type {\n",
       "        vertical-align: middle;\n",
       "    }\n",
       "\n",
       "    .dataframe tbody tr th {\n",
       "        vertical-align: top;\n",
       "    }\n",
       "\n",
       "    .dataframe thead th {\n",
       "        text-align: right;\n",
       "    }\n",
       "</style>\n",
       "<table border=\"1\" class=\"dataframe\">\n",
       "  <thead>\n",
       "    <tr style=\"text-align: right;\">\n",
       "      <th></th>\n",
       "      <th>production_countries</th>\n",
       "    </tr>\n",
       "  </thead>\n",
       "  <tbody>\n",
       "    <tr>\n",
       "      <th>count</th>\n",
       "      <td>74.000000</td>\n",
       "    </tr>\n",
       "    <tr>\n",
       "      <th>mean</th>\n",
       "      <td>53.770270</td>\n",
       "    </tr>\n",
       "    <tr>\n",
       "      <th>std</th>\n",
       "      <td>268.472776</td>\n",
       "    </tr>\n",
       "    <tr>\n",
       "      <th>min</th>\n",
       "      <td>1.000000</td>\n",
       "    </tr>\n",
       "    <tr>\n",
       "      <th>25%</th>\n",
       "      <td>1.000000</td>\n",
       "    </tr>\n",
       "    <tr>\n",
       "      <th>50%</th>\n",
       "      <td>5.000000</td>\n",
       "    </tr>\n",
       "    <tr>\n",
       "      <th>75%</th>\n",
       "      <td>16.500000</td>\n",
       "    </tr>\n",
       "    <tr>\n",
       "      <th>max</th>\n",
       "      <td>2282.000000</td>\n",
       "    </tr>\n",
       "  </tbody>\n",
       "</table>\n",
       "</div>"
      ],
      "text/plain": [
       "       production_countries\n",
       "count             74.000000\n",
       "mean              53.770270\n",
       "std              268.472776\n",
       "min                1.000000\n",
       "25%                1.000000\n",
       "50%                5.000000\n",
       "75%               16.500000\n",
       "max             2282.000000"
      ]
     },
     "execution_count": 45,
     "metadata": {},
     "output_type": "execute_result"
    }
   ],
   "source": [
    "df_productionCountries.describe(include=\"all\")"
   ]
  },
  {
   "cell_type": "code",
   "execution_count": null,
   "metadata": {},
   "outputs": [],
   "source": [
    "plt.bar(x = df_productionCountries.index, height = df_productionCountries.iloc[:,0])"
   ]
  },
  {
   "cell_type": "code",
   "execution_count": 46,
   "metadata": {},
   "outputs": [
    {
     "data": {
      "text/plain": [
       "[('United States of America', 2282),\n",
       " ('United Kingdom', 380),\n",
       " ('France', 222),\n",
       " ('Germany', 167),\n",
       " ('Canada', 120),\n",
       " ('India', 81),\n",
       " ('Italy', 64),\n",
       " ('Japan', 61),\n",
       " ('Australia', 61),\n",
       " ('Russia', 58),\n",
       " ('Spain', 54),\n",
       " ('China', 42),\n",
       " ('Hong Kong', 42),\n",
       " ('Ireland', 23),\n",
       " ('Belgium', 23),\n",
       " ('South Korea', 22),\n",
       " ('Mexico', 19),\n",
       " ('Sweden', 18),\n",
       " ('New Zealand', 17),\n",
       " ('Netherlands', 15),\n",
       " ('Czech Republic', 14),\n",
       " ('Denmark', 13),\n",
       " ('Brazil', 12),\n",
       " ('Luxembourg', 10),\n",
       " ('South Africa', 10),\n",
       " ('Hungary', 9),\n",
       " ('United Arab Emirates', 9),\n",
       " ('Austria', 8),\n",
       " ('Switzerland', 8),\n",
       " ('Romania', 8)]"
      ]
     },
     "execution_count": 46,
     "metadata": {},
     "output_type": "execute_result"
    }
   ],
   "source": [
    "Counter(values_to_list(\"production_countries\", train)).most_common(30)"
   ]
  },
  {
   "cell_type": "markdown",
   "metadata": {},
   "source": [
    "Osserviamo che abbiamo parecchie nazioni produttrici di film, che molte hanno pochi film fatti e che abbiamo un enorme varianza dei dati. Decidiremo successivamente quante tenerne"
   ]
  },
  {
   "cell_type": "markdown",
   "metadata": {},
   "source": [
    "### Spoken Languages"
   ]
  },
  {
   "cell_type": "code",
   "execution_count": 47,
   "metadata": {},
   "outputs": [
    {
     "name": "stdout",
     "output_type": "stream",
     "text": [
      "<class 'pandas.core.frame.DataFrame'>\n",
      "Index: 56 entries, English to Hrvatski\n",
      "Data columns (total 1 columns):\n",
      " #   Column            Non-Null Count  Dtype\n",
      "---  ------            --------------  -----\n",
      " 0   spoken_languages  56 non-null     int64\n",
      "dtypes: int64(1)\n",
      "memory usage: 896.0+ bytes\n"
     ]
    }
   ],
   "source": [
    "df_spokenLanguages = find_frequency(\"spoken_languages\", train)\n",
    "df_spokenLanguages.info()"
   ]
  },
  {
   "cell_type": "code",
   "execution_count": 48,
   "metadata": {},
   "outputs": [
    {
     "data": {
      "text/html": [
       "<div>\n",
       "<style scoped>\n",
       "    .dataframe tbody tr th:only-of-type {\n",
       "        vertical-align: middle;\n",
       "    }\n",
       "\n",
       "    .dataframe tbody tr th {\n",
       "        vertical-align: top;\n",
       "    }\n",
       "\n",
       "    .dataframe thead th {\n",
       "        text-align: right;\n",
       "    }\n",
       "</style>\n",
       "<table border=\"1\" class=\"dataframe\">\n",
       "  <thead>\n",
       "    <tr style=\"text-align: right;\">\n",
       "      <th></th>\n",
       "      <th>spoken_languages</th>\n",
       "    </tr>\n",
       "  </thead>\n",
       "  <tbody>\n",
       "    <tr>\n",
       "      <th>count</th>\n",
       "      <td>56.000000</td>\n",
       "    </tr>\n",
       "    <tr>\n",
       "      <th>mean</th>\n",
       "      <td>77.803571</td>\n",
       "    </tr>\n",
       "    <tr>\n",
       "      <th>std</th>\n",
       "      <td>350.362847</td>\n",
       "    </tr>\n",
       "    <tr>\n",
       "      <th>min</th>\n",
       "      <td>1.000000</td>\n",
       "    </tr>\n",
       "    <tr>\n",
       "      <th>25%</th>\n",
       "      <td>3.000000</td>\n",
       "    </tr>\n",
       "    <tr>\n",
       "      <th>50%</th>\n",
       "      <td>9.000000</td>\n",
       "    </tr>\n",
       "    <tr>\n",
       "      <th>75%</th>\n",
       "      <td>29.250000</td>\n",
       "    </tr>\n",
       "    <tr>\n",
       "      <th>max</th>\n",
       "      <td>2618.000000</td>\n",
       "    </tr>\n",
       "  </tbody>\n",
       "</table>\n",
       "</div>"
      ],
      "text/plain": [
       "       spoken_languages\n",
       "count         56.000000\n",
       "mean          77.803571\n",
       "std          350.362847\n",
       "min            1.000000\n",
       "25%            3.000000\n",
       "50%            9.000000\n",
       "75%           29.250000\n",
       "max         2618.000000"
      ]
     },
     "execution_count": 48,
     "metadata": {},
     "output_type": "execute_result"
    }
   ],
   "source": [
    "df_spokenLanguages.describe(include=\"all\")"
   ]
  },
  {
   "cell_type": "code",
   "execution_count": null,
   "metadata": {},
   "outputs": [],
   "source": [
    "plt.bar(x = df_spokenLanguages.index, height = df_spokenLanguages.iloc[:,0])"
   ]
  },
  {
   "cell_type": "code",
   "execution_count": 51,
   "metadata": {},
   "outputs": [
    {
     "data": {
      "text/plain": [
       "[('English', 2618),\n",
       " ('Français', 288),\n",
       " ('Español', 239),\n",
       " ('Deutsch', 169),\n",
       " ('Pусский', 152),\n",
       " ('Italiano', 124),\n",
       " ('日本語', 89),\n",
       " ('普通话', 68),\n",
       " ('हिन्दी', 56),\n",
       " ('', 47),\n",
       " ('Português', 43),\n",
       " ('العربية', 40),\n",
       " ('한국어/조선말', 37),\n",
       " ('广州话 / 廣州話', 36),\n",
       " ('தமிழ்', 27),\n",
       " ('Polski', 25),\n",
       " ('Magyar', 24),\n",
       " ('Latin', 23),\n",
       " ('svenska', 22),\n",
       " ('ภาษาไทย', 22)]"
      ]
     },
     "execution_count": 51,
     "metadata": {},
     "output_type": "execute_result"
    }
   ],
   "source": [
    "Counter(values_to_list(\"spoken_languages\", train)).most_common(20)"
   ]
  },
  {
   "cell_type": "markdown",
   "metadata": {},
   "source": [
    "### Keywords"
   ]
  },
  {
   "cell_type": "code",
   "execution_count": 52,
   "metadata": {},
   "outputs": [
    {
     "name": "stdout",
     "output_type": "stream",
     "text": [
      "<class 'pandas.core.frame.DataFrame'>\n",
      "Index: 7400 entries, time travel to insurance risk manager\n",
      "Data columns (total 1 columns):\n",
      " #   Column    Non-Null Count  Dtype\n",
      "---  ------    --------------  -----\n",
      " 0   Keywords  7400 non-null   int64\n",
      "dtypes: int64(1)\n",
      "memory usage: 115.6+ KB\n"
     ]
    }
   ],
   "source": [
    "df_keywords = find_frequency(\"Keywords\", train)\n",
    "df_keywords.info()"
   ]
  },
  {
   "cell_type": "code",
   "execution_count": 53,
   "metadata": {},
   "outputs": [
    {
     "data": {
      "text/html": [
       "<div>\n",
       "<style scoped>\n",
       "    .dataframe tbody tr th:only-of-type {\n",
       "        vertical-align: middle;\n",
       "    }\n",
       "\n",
       "    .dataframe tbody tr th {\n",
       "        vertical-align: top;\n",
       "    }\n",
       "\n",
       "    .dataframe thead th {\n",
       "        text-align: right;\n",
       "    }\n",
       "</style>\n",
       "<table border=\"1\" class=\"dataframe\">\n",
       "  <thead>\n",
       "    <tr style=\"text-align: right;\">\n",
       "      <th></th>\n",
       "      <th>Keywords</th>\n",
       "    </tr>\n",
       "  </thead>\n",
       "  <tbody>\n",
       "    <tr>\n",
       "      <th>count</th>\n",
       "      <td>7400.00000</td>\n",
       "    </tr>\n",
       "    <tr>\n",
       "      <th>mean</th>\n",
       "      <td>2.92973</td>\n",
       "    </tr>\n",
       "    <tr>\n",
       "      <th>std</th>\n",
       "      <td>6.25387</td>\n",
       "    </tr>\n",
       "    <tr>\n",
       "      <th>min</th>\n",
       "      <td>1.00000</td>\n",
       "    </tr>\n",
       "    <tr>\n",
       "      <th>25%</th>\n",
       "      <td>1.00000</td>\n",
       "    </tr>\n",
       "    <tr>\n",
       "      <th>50%</th>\n",
       "      <td>1.00000</td>\n",
       "    </tr>\n",
       "    <tr>\n",
       "      <th>75%</th>\n",
       "      <td>3.00000</td>\n",
       "    </tr>\n",
       "    <tr>\n",
       "      <th>max</th>\n",
       "      <td>175.00000</td>\n",
       "    </tr>\n",
       "  </tbody>\n",
       "</table>\n",
       "</div>"
      ],
      "text/plain": [
       "         Keywords\n",
       "count  7400.00000\n",
       "mean      2.92973\n",
       "std       6.25387\n",
       "min       1.00000\n",
       "25%       1.00000\n",
       "50%       1.00000\n",
       "75%       3.00000\n",
       "max     175.00000"
      ]
     },
     "execution_count": 53,
     "metadata": {},
     "output_type": "execute_result"
    }
   ],
   "source": [
    "df_keywords.describe(include=\"all\")"
   ]
  },
  {
   "cell_type": "code",
   "execution_count": null,
   "metadata": {},
   "outputs": [],
   "source": [
    "plt.bar(x = df_keywords.index, height = df_keywords.iloc[:,0])"
   ]
  },
  {
   "cell_type": "code",
   "execution_count": 54,
   "metadata": {},
   "outputs": [
    {
     "data": {
      "text/plain": [
       "[('woman director', 175),\n",
       " ('independent film', 155),\n",
       " ('duringcreditsstinger', 134),\n",
       " ('murder', 123),\n",
       " ('based on novel', 111),\n",
       " ('violence', 87),\n",
       " ('sport', 82),\n",
       " ('biography', 77),\n",
       " ('aftercreditsstinger', 75),\n",
       " ('dystopia', 73),\n",
       " ('revenge', 73),\n",
       " ('friendship', 72),\n",
       " ('sex', 71),\n",
       " ('suspense', 67),\n",
       " ('sequel', 66),\n",
       " ('love', 64),\n",
       " ('police', 64),\n",
       " ('teenager', 61),\n",
       " ('nudity', 57),\n",
       " ('female nudity', 53),\n",
       " ('drug', 52),\n",
       " ('prison', 50),\n",
       " ('musical', 49),\n",
       " ('high school', 49),\n",
       " ('los angeles', 48),\n",
       " ('new york', 47),\n",
       " ('family', 45),\n",
       " ('father son relationship', 44),\n",
       " ('kidnapping', 41),\n",
       " ('investigation', 41),\n",
       " ('wedding', 40),\n",
       " ('3d', 40),\n",
       " ('detective', 38),\n",
       " ('london england', 38),\n",
       " ('paris', 37),\n",
       " ('based on comic', 37),\n",
       " ('robbery', 36),\n",
       " ('based on true story', 35),\n",
       " ('dying and death', 34),\n",
       " ('escape', 34),\n",
       " ('alien', 34),\n",
       " ('brother brother relationship', 34),\n",
       " ('prostitute', 34),\n",
       " ('suicide', 33),\n",
       " ('rape', 33),\n",
       " ('corruption', 33),\n",
       " ('death', 32),\n",
       " ('superhero', 32),\n",
       " ('new york city', 31),\n",
       " ('martial arts', 31),\n",
       " ('jealousy', 31),\n",
       " ('remake', 31),\n",
       " ('brother sister relationship', 30),\n",
       " ('soldier', 30),\n",
       " ('world war ii', 30),\n",
       " ('hospital', 30),\n",
       " ('magic', 30),\n",
       " ('future', 29),\n",
       " ('serial killer', 29),\n",
       " ('best friend', 29),\n",
       " ('daughter', 29),\n",
       " ('vampire', 29),\n",
       " ('wife husband relationship', 29),\n",
       " ('gay', 28),\n",
       " ('party', 28),\n",
       " ('blood', 28),\n",
       " ('divorce', 28),\n",
       " ('friends', 28),\n",
       " ('male nudity', 27),\n",
       " ('war', 27),\n",
       " ('explosion', 27),\n",
       " ('adultery', 26),\n",
       " ('hitman', 26),\n",
       " ('lawyer', 26),\n",
       " ('dog', 26),\n",
       " ('small town', 26),\n",
       " ('journalist', 26),\n",
       " ('post-apocalyptic', 26),\n",
       " ('monster', 26),\n",
       " ('time travel', 25),\n",
       " ('hostage', 25),\n",
       " ('money', 25),\n",
       " ('rescue', 25),\n",
       " ('romantic comedy', 25),\n",
       " ('cia', 25),\n",
       " ('love triangle', 25),\n",
       " ('hotel', 24),\n",
       " ('secret', 24),\n",
       " ('assassin', 24),\n",
       " ('fight', 23),\n",
       " (\"love of one's life\", 23),\n",
       " ('airplane', 23),\n",
       " ('infidelity', 23),\n",
       " ('gang', 23),\n",
       " ('helicopter', 23),\n",
       " ('fbi', 23),\n",
       " ('relationship', 22),\n",
       " ('terrorist', 22),\n",
       " ('psychopath', 22),\n",
       " ('survival', 22)]"
      ]
     },
     "execution_count": 54,
     "metadata": {},
     "output_type": "execute_result"
    }
   ],
   "source": [
    "Counter(values_to_list(\"Keywords\", train)).most_common(100)"
   ]
  },
  {
   "cell_type": "markdown",
   "metadata": {},
   "source": [
    "## PCA"
   ]
  },
  {
   "cell_type": "code",
   "execution_count": 62,
   "metadata": {},
   "outputs": [],
   "source": [
    "# Colonne a cui applicare OneHotEncoding\n",
    "columns_to_dummy = [\"belongs_to_collection\", \"original_language\", \"genres\", \"production_companies\", \"production_countries\", \"spoken_languages\", \"Keywords\"]"
   ]
  },
  {
   "cell_type": "code",
   "execution_count": 56,
   "metadata": {},
   "outputs": [],
   "source": [
    "reduced = reduce_columns(train, columns_to_dummy)"
   ]
  },
  {
   "cell_type": "code",
   "execution_count": 61,
   "metadata": {},
   "outputs": [],
   "source": [
    "#rimozione delle features modificate\n",
    "train.drop(labels=columns_to_dummy, axis='columns', inplace=True)"
   ]
  },
  {
   "cell_type": "code",
   "execution_count": 63,
   "metadata": {},
   "outputs": [
    {
     "name": "stdout",
     "output_type": "stream",
     "text": [
      "<class 'pandas.core.frame.DataFrame'>\n",
      "RangeIndex: 3000 entries, 0 to 2999\n",
      "Columns: 590 entries, budget to Keywords369\n",
      "dtypes: float64(584), int64(6)\n",
      "memory usage: 13.5 MB\n"
     ]
    }
   ],
   "source": [
    "reduced.info()"
   ]
  },
  {
   "cell_type": "markdown",
   "metadata": {},
   "source": [
    "## Primo Test di un Decision Tree"
   ]
  },
  {
   "cell_type": "code",
   "execution_count": 64,
   "metadata": {},
   "outputs": [],
   "source": [
    "#reduced.astype(np.float32)\n",
    "#np.any(np.isnan(reduced))\n",
    "#np.all(np.isfinite(mat))\n",
    "reduced = reduced.reset_index()"
   ]
  },
  {
   "cell_type": "code",
   "execution_count": 65,
   "metadata": {},
   "outputs": [
    {
     "data": {
      "text/html": [
       "<div>\n",
       "<style scoped>\n",
       "    .dataframe tbody tr th:only-of-type {\n",
       "        vertical-align: middle;\n",
       "    }\n",
       "\n",
       "    .dataframe tbody tr th {\n",
       "        vertical-align: top;\n",
       "    }\n",
       "\n",
       "    .dataframe thead th {\n",
       "        text-align: right;\n",
       "    }\n",
       "</style>\n",
       "<table border=\"1\" class=\"dataframe\">\n",
       "  <thead>\n",
       "    <tr style=\"text-align: right;\">\n",
       "      <th></th>\n",
       "      <th>index</th>\n",
       "      <th>budget</th>\n",
       "      <th>popularity</th>\n",
       "      <th>runtime</th>\n",
       "      <th>revenue</th>\n",
       "      <th>year_release</th>\n",
       "      <th>month_release</th>\n",
       "      <th>week_of_year_release</th>\n",
       "      <th>day_of_week_release</th>\n",
       "      <th>belongs_to_collection0</th>\n",
       "      <th>...</th>\n",
       "      <th>Keywords360</th>\n",
       "      <th>Keywords361</th>\n",
       "      <th>Keywords362</th>\n",
       "      <th>Keywords363</th>\n",
       "      <th>Keywords364</th>\n",
       "      <th>Keywords365</th>\n",
       "      <th>Keywords366</th>\n",
       "      <th>Keywords367</th>\n",
       "      <th>Keywords368</th>\n",
       "      <th>Keywords369</th>\n",
       "    </tr>\n",
       "  </thead>\n",
       "  <tbody>\n",
       "    <tr>\n",
       "      <th>0</th>\n",
       "      <td>0.0</td>\n",
       "      <td>14000000.0</td>\n",
       "      <td>6.575393</td>\n",
       "      <td>93.0</td>\n",
       "      <td>12314651.0</td>\n",
       "      <td>2015.0</td>\n",
       "      <td>2.0</td>\n",
       "      <td>8.0</td>\n",
       "      <td>4.0</td>\n",
       "      <td>-0.005536</td>\n",
       "      <td>...</td>\n",
       "      <td>0.004307</td>\n",
       "      <td>-0.004374</td>\n",
       "      <td>-0.008844</td>\n",
       "      <td>0.051224</td>\n",
       "      <td>0.016111</td>\n",
       "      <td>-0.008861</td>\n",
       "      <td>0.001753</td>\n",
       "      <td>-0.009309</td>\n",
       "      <td>-0.015240</td>\n",
       "      <td>-0.013124</td>\n",
       "    </tr>\n",
       "    <tr>\n",
       "      <th>1</th>\n",
       "      <td>1.0</td>\n",
       "      <td>40000000.0</td>\n",
       "      <td>8.248895</td>\n",
       "      <td>113.0</td>\n",
       "      <td>95149435.0</td>\n",
       "      <td>2004.0</td>\n",
       "      <td>8.0</td>\n",
       "      <td>32.0</td>\n",
       "      <td>4.0</td>\n",
       "      <td>-0.005934</td>\n",
       "      <td>...</td>\n",
       "      <td>-0.034291</td>\n",
       "      <td>-0.010710</td>\n",
       "      <td>-0.001237</td>\n",
       "      <td>0.086068</td>\n",
       "      <td>-0.010236</td>\n",
       "      <td>0.096045</td>\n",
       "      <td>-0.005936</td>\n",
       "      <td>0.018641</td>\n",
       "      <td>0.007567</td>\n",
       "      <td>-0.003873</td>\n",
       "    </tr>\n",
       "    <tr>\n",
       "      <th>2</th>\n",
       "      <td>2.0</td>\n",
       "      <td>3300000.0</td>\n",
       "      <td>64.299990</td>\n",
       "      <td>105.0</td>\n",
       "      <td>13092000.0</td>\n",
       "      <td>2014.0</td>\n",
       "      <td>10.0</td>\n",
       "      <td>41.0</td>\n",
       "      <td>4.0</td>\n",
       "      <td>-0.005189</td>\n",
       "      <td>...</td>\n",
       "      <td>-0.016951</td>\n",
       "      <td>-0.005576</td>\n",
       "      <td>-0.041605</td>\n",
       "      <td>-0.202914</td>\n",
       "      <td>-0.065527</td>\n",
       "      <td>-0.039792</td>\n",
       "      <td>-0.108476</td>\n",
       "      <td>-0.156942</td>\n",
       "      <td>-0.249683</td>\n",
       "      <td>0.044209</td>\n",
       "    </tr>\n",
       "    <tr>\n",
       "      <th>3</th>\n",
       "      <td>3.0</td>\n",
       "      <td>1200000.0</td>\n",
       "      <td>3.174936</td>\n",
       "      <td>122.0</td>\n",
       "      <td>16000000.0</td>\n",
       "      <td>2012.0</td>\n",
       "      <td>3.0</td>\n",
       "      <td>10.0</td>\n",
       "      <td>4.0</td>\n",
       "      <td>-0.005189</td>\n",
       "      <td>...</td>\n",
       "      <td>0.054333</td>\n",
       "      <td>-0.034397</td>\n",
       "      <td>0.050100</td>\n",
       "      <td>0.087008</td>\n",
       "      <td>0.012310</td>\n",
       "      <td>-0.036352</td>\n",
       "      <td>0.034916</td>\n",
       "      <td>-0.000672</td>\n",
       "      <td>-0.093985</td>\n",
       "      <td>0.008260</td>\n",
       "    </tr>\n",
       "    <tr>\n",
       "      <th>4</th>\n",
       "      <td>4.0</td>\n",
       "      <td>0.0</td>\n",
       "      <td>1.148070</td>\n",
       "      <td>118.0</td>\n",
       "      <td>3923970.0</td>\n",
       "      <td>2009.0</td>\n",
       "      <td>2.0</td>\n",
       "      <td>6.0</td>\n",
       "      <td>3.0</td>\n",
       "      <td>-0.005189</td>\n",
       "      <td>...</td>\n",
       "      <td>0.002514</td>\n",
       "      <td>-0.000863</td>\n",
       "      <td>0.000889</td>\n",
       "      <td>0.001189</td>\n",
       "      <td>0.001010</td>\n",
       "      <td>0.001663</td>\n",
       "      <td>-0.000352</td>\n",
       "      <td>0.001843</td>\n",
       "      <td>-0.004211</td>\n",
       "      <td>0.000770</td>\n",
       "    </tr>\n",
       "  </tbody>\n",
       "</table>\n",
       "<p>5 rows × 591 columns</p>\n",
       "</div>"
      ],
      "text/plain": [
       "   index      budget  popularity  runtime     revenue  year_release  \\\n",
       "0    0.0  14000000.0    6.575393     93.0  12314651.0        2015.0   \n",
       "1    1.0  40000000.0    8.248895    113.0  95149435.0        2004.0   \n",
       "2    2.0   3300000.0   64.299990    105.0  13092000.0        2014.0   \n",
       "3    3.0   1200000.0    3.174936    122.0  16000000.0        2012.0   \n",
       "4    4.0         0.0    1.148070    118.0   3923970.0        2009.0   \n",
       "\n",
       "   month_release  week_of_year_release  day_of_week_release  \\\n",
       "0            2.0                   8.0                  4.0   \n",
       "1            8.0                  32.0                  4.0   \n",
       "2           10.0                  41.0                  4.0   \n",
       "3            3.0                  10.0                  4.0   \n",
       "4            2.0                   6.0                  3.0   \n",
       "\n",
       "   belongs_to_collection0  ...  Keywords360  Keywords361  Keywords362  \\\n",
       "0               -0.005536  ...     0.004307    -0.004374    -0.008844   \n",
       "1               -0.005934  ...    -0.034291    -0.010710    -0.001237   \n",
       "2               -0.005189  ...    -0.016951    -0.005576    -0.041605   \n",
       "3               -0.005189  ...     0.054333    -0.034397     0.050100   \n",
       "4               -0.005189  ...     0.002514    -0.000863     0.000889   \n",
       "\n",
       "   Keywords363  Keywords364  Keywords365  Keywords366  Keywords367  \\\n",
       "0     0.051224     0.016111    -0.008861     0.001753    -0.009309   \n",
       "1     0.086068    -0.010236     0.096045    -0.005936     0.018641   \n",
       "2    -0.202914    -0.065527    -0.039792    -0.108476    -0.156942   \n",
       "3     0.087008     0.012310    -0.036352     0.034916    -0.000672   \n",
       "4     0.001189     0.001010     0.001663    -0.000352     0.001843   \n",
       "\n",
       "   Keywords368  Keywords369  \n",
       "0    -0.015240    -0.013124  \n",
       "1     0.007567    -0.003873  \n",
       "2    -0.249683     0.044209  \n",
       "3    -0.093985     0.008260  \n",
       "4    -0.004211     0.000770  \n",
       "\n",
       "[5 rows x 591 columns]"
      ]
     },
     "execution_count": 65,
     "metadata": {},
     "output_type": "execute_result"
    }
   ],
   "source": [
    "clean_dataset(reduced)"
   ]
  },
  {
   "cell_type": "code",
   "execution_count": 66,
   "metadata": {},
   "outputs": [],
   "source": [
    "model = tree.DecisionTreeRegressor()"
   ]
  },
  {
   "cell_type": "code",
   "execution_count": 67,
   "metadata": {},
   "outputs": [],
   "source": [
    "X = reduced.drop(\"revenue\", axis='columns', inplace = False)\n",
    "y = reduced[\"revenue\"]\n",
    "X_train, X_test, y_train, y_test = train_test_split(X, y, test_size=0.33, random_state=42)"
   ]
  },
  {
   "cell_type": "code",
   "execution_count": 68,
   "metadata": {},
   "outputs": [
    {
     "data": {
      "text/plain": [
       "DecisionTreeRegressor()"
      ]
     },
     "execution_count": 68,
     "metadata": {},
     "output_type": "execute_result"
    }
   ],
   "source": [
    "model.fit(X_train, y_train)"
   ]
  },
  {
   "cell_type": "code",
   "execution_count": 69,
   "metadata": {},
   "outputs": [
    {
     "name": "stdout",
     "output_type": "stream",
     "text": [
      "Test Accuracy: 0.0\n"
     ]
    }
   ],
   "source": [
    "y_pred = model.predict(X_test)\n",
    "print (\"Test Accuracy:\", accuracy_score(y_true=y_test, y_pred=y_pred) )"
   ]
  },
  {
   "cell_type": "code",
   "execution_count": null,
   "metadata": {},
   "outputs": [],
   "source": []
  },
  {
   "cell_type": "code",
   "execution_count": null,
   "metadata": {},
   "outputs": [],
   "source": []
  }
 ],
 "metadata": {
  "kernelspec": {
   "display_name": "Python 3",
   "language": "python",
   "name": "python3"
  },
  "language_info": {
   "codemirror_mode": {
    "name": "ipython",
    "version": 3
   },
   "file_extension": ".py",
   "mimetype": "text/x-python",
   "name": "python",
   "nbconvert_exporter": "python",
   "pygments_lexer": "ipython3",
   "version": "3.8.3"
  }
 },
 "nbformat": 4,
 "nbformat_minor": 4
}
