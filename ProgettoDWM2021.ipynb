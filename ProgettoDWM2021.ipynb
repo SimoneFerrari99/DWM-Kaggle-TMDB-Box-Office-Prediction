{
 "cells": [
  {
   "cell_type": "markdown",
   "metadata": {},
   "source": [
    "# Progetto Data and Web Mining 2021\n",
    "### Ferrari Simone, Trolese Giulio"
   ]
  },
  {
   "cell_type": "markdown",
   "metadata": {},
   "source": [
    "## Introduzione\n",
    "Il progetto di quest’anno si basa su una **competizione Kaggle**, in particolare la **TMDB Box Office Prediction**.  \n",
    "Ci vengono forniti dati su oltre 3000 film del passato presi dal **The Movie Database** con lo scopo di predirre il loro incasso. "
   ]
  },
  {
   "cell_type": "markdown",
   "metadata": {},
   "source": [
    "## Fase preliminare\n",
    "Come prima cosa, dobbiamo **preparare l'ambiente di lavoro**. \n",
    "In particolare, eseguiamo:\n",
    "- Il caricamento delle librerie\n",
    "- La lettura dei dati\n",
    "\n",
    "Inoltre, di seguito sono raccolte tutte le funzioni di uso generale."
   ]
  },
  {
   "cell_type": "markdown",
   "metadata": {},
   "source": [
    "### Caricamento delle librerie"
   ]
  },
  {
   "cell_type": "code",
   "execution_count": 241,
   "metadata": {},
   "outputs": [],
   "source": [
    "import pandas as pd    # Pandas\n",
    "import numpy as np     # Numpy\n",
    "\n",
    "from sklearn.model_selection import train_test_split    # Splitting dataframe in Train / Test\n",
    "from sklearn.decomposition import PCA                   # Dimensionality reduction\n",
    "from sklearn.preprocessing import MultiLabelBinarizer   # One Hot Encoding delle featuers\n",
    "from sklearn.metrics import accuracy_score              # Calcolo dell'accuracy \n",
    "from sklearn import tree                                # Modelli con alberi\n",
    "from sklearn.linear_model import LinearRegression       # Modello di regressione lineare\n",
    "from sklearn.metrics import mean_squared_error          # Calcolo accuracy MSE\n",
    "from sklearn.metrics import mean_squared_log_error      # Calcolo accuracy con MSLE\n",
    "from sklearn.model_selection import cross_val_score     # Kfold cross validation\n",
    "from sklearn.metrics.scorer import make_scorer          # Creazione dello scorer \n",
    "from sklearn.utils import resample\n",
    "from sklearn.ensemble import BaggingRegressor           # Bagging\n",
    "from sklearn.ensemble import AdaBoostRegressor          # Boosting\n",
    "\n",
    "import matplotlib.pyplot as plt                         # Creare plot\n",
    "import seaborn as sns                                   # Creare plot\n",
    "from collections import Counter                         # Contare le frequenze\n",
    "import json                                             \n",
    "import ast                                              # Convertire stringa in dizionario\n",
    "import scipy.stats\n",
    "from tqdm import tqdm                                   # Progress bar\n",
    "\n",
    "import warnings\n",
    "warnings.filterwarnings('ignore')"
   ]
  },
  {
   "cell_type": "markdown",
   "metadata": {},
   "source": [
    "### Funzioni utili utilizzate in seguito"
   ]
  },
  {
   "cell_type": "code",
   "execution_count": 2,
   "metadata": {},
   "outputs": [],
   "source": [
    "# Colonne del dataframe che sono in formato stringa e devono essere convertite in dizionari\n",
    "columnsToChange = ['belongs_to_collection', 'genres', 'production_companies', 'production_countries', 'spoken_languages', 'Keywords', 'cast', 'crew']\n",
    "\n",
    "# Funzione che, preso un dataframe, lo maneggia e cambia le columnsToChange da stringhe a liste di dizionari\n",
    "def stringToDictionary(dataFrame): \n",
    "    for column in columnsToChange:                                 # Per ogni colonna indicata in columnsToChange\n",
    "        dataFrame[column] = dataFrame[column].apply(               # Modifica la colonna come segue \n",
    "            lambda x: {} if pd.isna(x) else ast.literal_eval(x))   # Dizionario vuoto se l'elemento è NaN, altrimenti converte la stringa\n",
    "    return dataFrame                                               # Ritorna il dataframe modificato"
   ]
  },
  {
   "cell_type": "code",
   "execution_count": 3,
   "metadata": {},
   "outputs": [],
   "source": [
    "# Funzione che, presa una lista, ritorna una nuova lista contenente solo l'elemento name di ogni elemento nella colonna selezionata\n",
    "def convert(in_list):\n",
    "    output = []                       # Crea una lista vuota\n",
    "    for elem in in_list:              # Per ogni elemento nella colonna\n",
    "        output.append(elem[\"name\"])   # Inserisce, in ordine, solo il name degli elementi presenti nella colonna\n",
    "    return output                     # Ritorna la nuova lista"
   ]
  },
  {
   "cell_type": "code",
   "execution_count": 4,
   "metadata": {},
   "outputs": [],
   "source": [
    "# Funzione che preso un dataframe e una colonna, ritorna un dataset con il conteggio di elementi per ogni riga della colonna data\n",
    "def elem_in_column_counter(dataset, column):\n",
    "    tot_counter = []                                            # Lista vuota\n",
    "    for elem in dataset[column]:                                # per ogni elemento nella colonna\n",
    "        tot_counter.append(len(elem))                           # Inserisco nella lista il nuero di elementi contnenuti nell'elemento colonna (sono liste..)\n",
    "     \n",
    "    return pd.DataFrame(tot_counter, columns=[column+'_count'])    # ritorno il dataframe"
   ]
  },
  {
   "cell_type": "code",
   "execution_count": 5,
   "metadata": {},
   "outputs": [],
   "source": [
    "# Funzione che, presa una lista, ritorna una nuova lista contenente il nome del direttore e il numero di membri della crew di ogni film\n",
    "def convert_crew(in_list):\n",
    "    output = []                                    # Crea una lista vuota\n",
    "    i = 0                                          # contatore a 0\n",
    "    flag = 1                                       # flag per un solo regista\n",
    "    for elem in in_list:                           # Per ogni elemento nella colonna\n",
    "        i += 1                                     # aumenta il contatore\n",
    "        if flag and elem[\"job\"] == 'Director':     # Se l'elemento rappresenta un regista e non ne ho ancora travato uno\n",
    "            output.append(elem[\"name\"])            # Inserisce, il nome del regista\n",
    "            flag=0\n",
    "            \n",
    "    output.append(i)                      # Inserisce in coda il numero di componenti nella lista\n",
    "    return output                         # Ritorna la nuova lista"
   ]
  },
  {
   "cell_type": "code",
   "execution_count": 6,
   "metadata": {},
   "outputs": [],
   "source": [
    "# Funzione che prende i valori di una colonna e li ritorna in una lista\n",
    "def values_to_list(column, dataset):\n",
    "    values = []                       # Lista vuota\n",
    "    for l in dataset[column]:         # Per ogni lista conenuta nella colonna\n",
    "        for elem in l:                # Per ogni elemento nella lista \n",
    "            values.append(elem)       # Inserisce l'elemento nella lista di ritorno\n",
    "    return values                     # Ritorna la lista"
   ]
  },
  {
   "cell_type": "code",
   "execution_count": 7,
   "metadata": {},
   "outputs": [],
   "source": [
    "# Funzione che ritorna il numero di istanze vuote ([]) nella colonna selezionata\n",
    "def empty_number(column):\n",
    "    sum = 0                           # Inizializzo il totale a 0\n",
    "    for i in df[column]:              # Per ogni elementi nella colonna\n",
    "        if len(i)==0:                 # Se è vuoto\n",
    "            sum+=1                    # Aumenta il contatore\n",
    "    return sum                        # Ritorna il conteggio"
   ]
  },
  {
   "cell_type": "code",
   "execution_count": 8,
   "metadata": {},
   "outputs": [],
   "source": [
    "# Funzione che ritorna gli indici degli elementi vuoti ([]) contenuti in una colonna\n",
    "def find_empty_index(column):\n",
    "    empty = []                                       # Lista vuota\n",
    "    for index, elem in enumerate(df[column]):        # Per ogni indice ed elemento nella colonna\n",
    "        if len(elem) == 0:                           # Se l'elemento ha lunghezza 0\n",
    "            empty.append(index)                      # Significia che è vuota e aggiungo l'index alla lista\n",
    "    return empty                                     # Ritorno la lista di indici"
   ]
  },
  {
   "cell_type": "code",
   "execution_count": 9,
   "metadata": {},
   "outputs": [],
   "source": [
    "# Funzione che, preso un dataframe, preso una colonna e presa una percentuale di dati \"da tenere\", applica One Hot Encoding e riduce la dimensionalità in modo da manterene la proporzione specificata. \n",
    "def reduction(df, column):#, perc_keep):\n",
    "    mlb = MultiLabelBinarizer()                                                 # Inizializzazione del mlb                                          \n",
    "    df_conv = pd.DataFrame(mlb.fit_transform(df[column]),columns=column+\" \"+mlb.classes_, index=df.index)  # Si applica One Hot Encoding\n",
    "    #pca = PCA(n_components = int(df_conv.shape[1]*perc_keep/100))               # Si inizializza PCA per la riduzione della dimensionalità\n",
    "    #reduced = pca.fit_transform(df_conv)                                        # Si applica il PCA\n",
    "    red_df = pd.DataFrame(df_conv)#reduced)                                              # Si trasforma il risultato in un Dataframe\n",
    "    #red_df.rename(columns=lambda x: column+str(x), inplace=True)                # Si rinominano le colonne\n",
    "    out = pd.concat([df,red_df], axis = \"columns\")                              # Si concatena il vecchio dataframe con le nuove colonne generate\n",
    "    out.drop(column, axis='columns', inplace = True)                            # Si droppa la vecchia colonna utilizzata\n",
    "    return out                                                                  # Si ritorna il dataframe"
   ]
  },
  {
   "cell_type": "code",
   "execution_count": 10,
   "metadata": {},
   "outputs": [],
   "source": [
    "# Funzione che ritorna il numero di unità che costituiscono gli elementi di una colonna: es genres = Horror, Comedy, Action, ... in totale 20\n",
    "def how_many(column, dataset):\n",
    "    return len(list(Counter(values_to_list(column, dataset))))   # ritorna la lunghezza della lista generata dal counter"
   ]
  },
  {
   "cell_type": "code",
   "execution_count": 11,
   "metadata": {},
   "outputs": [],
   "source": [
    "# Funzione che conta quante occorrenze significative sono presenti in column\n",
    "def count_most_significative(dataset, column, CONST_LIST):\n",
    "    tot_counter = []                              # Lista vuota\n",
    "    for elem_list in dataset[column]:             # Per ogni lista della colonna\n",
    "        counter = 0;                              # Conteggio a 0  \n",
    "        for elem in elem_list:                    # Per ogni elemento della lista\n",
    "            if(elem in CONST_LIST):               # Se è tra quelli signfificativi\n",
    "                counter+=1                        # Aumento il contatore\n",
    "        tot_counter.append(counter)               # Aggiungo il conteggio alla lista\n",
    "    \n",
    "    return pd.DataFrame(tot_counter, columns=[column+'_most_significative'])    # Converto la lista in dataframe"
   ]
  },
  {
   "cell_type": "code",
   "execution_count": 12,
   "metadata": {},
   "outputs": [],
   "source": [
    "# Funzione che applica la mediana. \n",
    "# - datafram: dataframe a cui appilicare le operazioni\n",
    "# - column: colonna a cui applicare la modifica\n",
    "# - operation: criterio per decidere a cosa applicare la mediana\n",
    "# - value: valore soglia\n",
    "def apply_median(dataframe, column, operation, value):\n",
    "    if operation == '<=':                                                            # operazione <=\n",
    "        median = dataframe[column].median(skipna=True)                               # calcolo mediana\n",
    "        dataframe[column]=dataframe[column].mask(dataframe[column]<=value, median)   # sostituzione dei valori sotto la soglia\n",
    "    elif operation == '==':                                                          # operazione <=\n",
    "        median = dataframe[column].median(skipna=True)                               # calcolo mediana\n",
    "        dataframe[column]=dataframe[column].mask(dataframe[column]==value, median)   # sostituzione dei valori sotto la soglia\n",
    "    else:\n",
    "        print(\"Error: \" + operation + \" non valido, inserisci <= o ==\")              # operazione non valida"
   ]
  },
  {
   "cell_type": "code",
   "execution_count": 13,
   "metadata": {},
   "outputs": [],
   "source": [
    "# Funzione che rimuove tutte gli elementi della colonna column che hanno occorrenza inferiore a min_occurrence\n",
    "def delete_useless_small_value(dataframe, min_occurrence, column):\n",
    "    counter = Counter(values_to_list(column, dataframe)).most_common() # Conta le occorrenze di ogni elemento\n",
    "    result = []                                          # Lista delle collection \"buone\"\n",
    "    for elem,number in counter:                          # per ogni elemento e numero di occorrenza\n",
    "        if number >= min_occurrence:                     # se il numero di occorrenze è maggiore alla soglia voluta\n",
    "            result.append(elem)                          # si tiene l'elemento\n",
    "    \n",
    "    for i in range(0, len(dataframe)):                   # per len(dataframe) volte\n",
    "        elem = dataframe[column][i]                      # salvo la lista contenuta in dataframe[column][i]\n",
    "        temp = []                                        # lista di elementi buoni temporanea\n",
    "        if len(elem):                                    # se non è vuota\n",
    "            for elem_in_list in elem:                    # Per ogni elemento nella lista\n",
    "                if elem_in_list in result:               # Se l'elemento è in result, e quindi è buono\n",
    "                     temp.append(elem_in_list)           # Lo aggiungo alla lista temporanea\n",
    "            elem.clear()                                 # Elimino tutta la vechcia lista\n",
    "            elem.extend(temp)                            # Inserisco solo i valori buoni trovati."
   ]
  },
  {
   "cell_type": "code",
   "execution_count": 14,
   "metadata": {},
   "outputs": [],
   "source": [
    "# Funzione che rimuove tutte gli elementi della colonna column che hanno occorrenza superiore a max_occurrence\n",
    "def delete_useless_big_value(dataframe, max_occurrence, column):\n",
    "    counter = Counter(values_to_list(column, dataframe)).most_common() # Conta le occorrenze di ogni elemento\n",
    "    result = []                                          # Lista delle collection \"buone\"\n",
    "    for elem,number in counter:                          # per ogni elemento e numero di occorrenza\n",
    "        if number <= max_occurrence:                     # se il numero di occorrenze è maggiore alla soglia voluta\n",
    "            result.append(elem)                          # si tiene l'elemento\n",
    "    \n",
    "    for i in range(0, len(dataframe)):                   # per len(dataframe) volte\n",
    "        elem = dataframe[column][i]                      # salvo la lista contenuta in dataframe[column][i]\n",
    "        temp = []                                        # lista di elementi buoni temporanea\n",
    "        if len(elem):                                    # se non è vuota\n",
    "            for elem_in_list in elem:                    # Per ogni elemento nella lista\n",
    "                if elem_in_list in result:               # Se l'elemento è in result, e quindi è buono\n",
    "                     temp.append(elem_in_list)           # Lo aggiungo alla lista temporanea\n",
    "            elem.clear()                                 # Elimino tutta la vechcia lista\n",
    "            elem.extend(temp)                            # Inserisco solo i valori buoni trovati."
   ]
  },
  {
   "cell_type": "code",
   "execution_count": 15,
   "metadata": {},
   "outputs": [],
   "source": [
    "# Funzione che seleziona solo i top k elementi di ogni elemento della colonna column\n",
    "def select_first_k(dataframe, column, k):    \n",
    "    for i in range(0, len(dataframe)):                           # per ogni riga \n",
    "        elem = dataframe[column][i]                              # salvo la lista contenuta in dataframe[column][i]\n",
    "        temp = []                                                # lista di elementi buoni temporanea\n",
    "        if len(elem) > k:                                        # Se ci sono più di k elementi\n",
    "            for j in range(0, k):                                # per k volte\n",
    "                temp.append(elem[j])                             # inserisci il j-esimo elemento in temp\n",
    "            elem.clear()                                         # Elimino tutta la vechcia lista\n",
    "            elem.extend(temp)                                    # Inserisco solo i valori buoni trovati."
   ]
  },
  {
   "cell_type": "code",
   "execution_count": 16,
   "metadata": {},
   "outputs": [],
   "source": [
    "# Funzione che calcola il rmsle score\n",
    "def rmsle_score(preds, true):\n",
    "    rmsle_score = (np.sum((np.log1p(preds)-np.log1p(true))**2)/len(true))**0.5\n",
    "    return rmsle_score"
   ]
  },
  {
   "cell_type": "code",
   "execution_count": 215,
   "metadata": {},
   "outputs": [],
   "source": [
    "# Funzione per eseguire operazioni comuni sui dataframe dopo lo splitting\n",
    "def fix_dataset(X_train,X_test, y_train, y_test):\n",
    "    X_train.reset_index(drop=True, inplace=True)      # X del train\n",
    "    X_test.reset_index(drop=True, inplace=True)       # X del test\n",
    "    y_train.reset_index(drop=True, inplace=True)      # y del train\n",
    "    y_test.reset_index(drop=True, inplace=True)       # y del test\n",
    "\n",
    "    X_train.drop(labels=['imdb_id', 'keywords'], axis='columns', inplace=True)\n",
    "    X_test.drop(labels=['imdb_id', 'keywords'], axis='columns', inplace=True)\n",
    "\n",
    "    apply_median(X_train, 'budget', '<=', 999)\n",
    "    apply_median(X_test , 'budget', '<=', 999)\n",
    "    apply_median(X_train, 'runtime', '==', 0)\n",
    "    apply_median(X_test , 'runtime', '==', 0)"
   ]
  },
  {
   "cell_type": "markdown",
   "metadata": {},
   "source": [
    "### Lettura dei dati"
   ]
  },
  {
   "cell_type": "code",
   "execution_count": 18,
   "metadata": {},
   "outputs": [],
   "source": [
    "# lettura del file train.csv\n",
    "df = pd.read_csv(\"train.csv\")"
   ]
  },
  {
   "cell_type": "code",
   "execution_count": 19,
   "metadata": {},
   "outputs": [],
   "source": [
    "# Conversione delle colonne di tipo String in colonne di tipo Lista di Dizionario\n",
    "df = stringToDictionary(df)"
   ]
  },
  {
   "cell_type": "markdown",
   "metadata": {},
   "source": [
    "## Prima analisi del dataframe"
   ]
  },
  {
   "cell_type": "markdown",
   "metadata": {},
   "source": [
    "Di seguito andremo ad **analizzare nel suo insieme il dataframe**, valutando **quali features possono essere utili** per il nostro scopo e quali, invece, possono essere rimosse. "
   ]
  },
  {
   "cell_type": "code",
   "execution_count": 20,
   "metadata": {
    "scrolled": true
   },
   "outputs": [
    {
     "data": {
      "text/html": [
       "<div>\n",
       "<style scoped>\n",
       "    .dataframe tbody tr th:only-of-type {\n",
       "        vertical-align: middle;\n",
       "    }\n",
       "\n",
       "    .dataframe tbody tr th {\n",
       "        vertical-align: top;\n",
       "    }\n",
       "\n",
       "    .dataframe thead th {\n",
       "        text-align: right;\n",
       "    }\n",
       "</style>\n",
       "<table border=\"1\" class=\"dataframe\">\n",
       "  <thead>\n",
       "    <tr style=\"text-align: right;\">\n",
       "      <th></th>\n",
       "      <th>id</th>\n",
       "      <th>belongs_to_collection</th>\n",
       "      <th>budget</th>\n",
       "      <th>genres</th>\n",
       "      <th>homepage</th>\n",
       "      <th>imdb_id</th>\n",
       "      <th>original_language</th>\n",
       "      <th>original_title</th>\n",
       "      <th>overview</th>\n",
       "      <th>popularity</th>\n",
       "      <th>poster_path</th>\n",
       "      <th>production_companies</th>\n",
       "      <th>production_countries</th>\n",
       "      <th>release_date</th>\n",
       "      <th>runtime</th>\n",
       "      <th>spoken_languages</th>\n",
       "      <th>status</th>\n",
       "      <th>tagline</th>\n",
       "      <th>title</th>\n",
       "      <th>Keywords</th>\n",
       "      <th>cast</th>\n",
       "      <th>crew</th>\n",
       "      <th>revenue</th>\n",
       "    </tr>\n",
       "  </thead>\n",
       "  <tbody>\n",
       "    <tr>\n",
       "      <th>0</th>\n",
       "      <td>1</td>\n",
       "      <td>[{'id': 313576, 'name': 'Hot Tub Time Machine ...</td>\n",
       "      <td>14000000</td>\n",
       "      <td>[{'id': 35, 'name': 'Comedy'}]</td>\n",
       "      <td>NaN</td>\n",
       "      <td>tt2637294</td>\n",
       "      <td>en</td>\n",
       "      <td>Hot Tub Time Machine 2</td>\n",
       "      <td>When Lou, who has become the \"father of the In...</td>\n",
       "      <td>6.575393</td>\n",
       "      <td>/tQtWuwvMf0hCc2QR2tkolwl7c3c.jpg</td>\n",
       "      <td>[{'name': 'Paramount Pictures', 'id': 4}, {'na...</td>\n",
       "      <td>[{'iso_3166_1': 'US', 'name': 'United States o...</td>\n",
       "      <td>2/20/15</td>\n",
       "      <td>93.0</td>\n",
       "      <td>[{'iso_639_1': 'en', 'name': 'English'}]</td>\n",
       "      <td>Released</td>\n",
       "      <td>The Laws of Space and Time are About to be Vio...</td>\n",
       "      <td>Hot Tub Time Machine 2</td>\n",
       "      <td>[{'id': 4379, 'name': 'time travel'}, {'id': 9...</td>\n",
       "      <td>[{'cast_id': 4, 'character': 'Lou', 'credit_id...</td>\n",
       "      <td>[{'credit_id': '59ac067c92514107af02c8c8', 'de...</td>\n",
       "      <td>12314651</td>\n",
       "    </tr>\n",
       "    <tr>\n",
       "      <th>1</th>\n",
       "      <td>2</td>\n",
       "      <td>[{'id': 107674, 'name': 'The Princess Diaries ...</td>\n",
       "      <td>40000000</td>\n",
       "      <td>[{'id': 35, 'name': 'Comedy'}, {'id': 18, 'nam...</td>\n",
       "      <td>NaN</td>\n",
       "      <td>tt0368933</td>\n",
       "      <td>en</td>\n",
       "      <td>The Princess Diaries 2: Royal Engagement</td>\n",
       "      <td>Mia Thermopolis is now a college graduate and ...</td>\n",
       "      <td>8.248895</td>\n",
       "      <td>/w9Z7A0GHEhIp7etpj0vyKOeU1Wx.jpg</td>\n",
       "      <td>[{'name': 'Walt Disney Pictures', 'id': 2}]</td>\n",
       "      <td>[{'iso_3166_1': 'US', 'name': 'United States o...</td>\n",
       "      <td>8/6/04</td>\n",
       "      <td>113.0</td>\n",
       "      <td>[{'iso_639_1': 'en', 'name': 'English'}]</td>\n",
       "      <td>Released</td>\n",
       "      <td>It can take a lifetime to find true love; she'...</td>\n",
       "      <td>The Princess Diaries 2: Royal Engagement</td>\n",
       "      <td>[{'id': 2505, 'name': 'coronation'}, {'id': 42...</td>\n",
       "      <td>[{'cast_id': 1, 'character': 'Mia Thermopolis'...</td>\n",
       "      <td>[{'credit_id': '52fe43fe9251416c7502563d', 'de...</td>\n",
       "      <td>95149435</td>\n",
       "    </tr>\n",
       "    <tr>\n",
       "      <th>2</th>\n",
       "      <td>3</td>\n",
       "      <td>{}</td>\n",
       "      <td>3300000</td>\n",
       "      <td>[{'id': 18, 'name': 'Drama'}]</td>\n",
       "      <td>http://sonyclassics.com/whiplash/</td>\n",
       "      <td>tt2582802</td>\n",
       "      <td>en</td>\n",
       "      <td>Whiplash</td>\n",
       "      <td>Under the direction of a ruthless instructor, ...</td>\n",
       "      <td>64.299990</td>\n",
       "      <td>/lIv1QinFqz4dlp5U4lQ6HaiskOZ.jpg</td>\n",
       "      <td>[{'name': 'Bold Films', 'id': 2266}, {'name': ...</td>\n",
       "      <td>[{'iso_3166_1': 'US', 'name': 'United States o...</td>\n",
       "      <td>10/10/14</td>\n",
       "      <td>105.0</td>\n",
       "      <td>[{'iso_639_1': 'en', 'name': 'English'}]</td>\n",
       "      <td>Released</td>\n",
       "      <td>The road to greatness can take you to the edge.</td>\n",
       "      <td>Whiplash</td>\n",
       "      <td>[{'id': 1416, 'name': 'jazz'}, {'id': 1523, 'n...</td>\n",
       "      <td>[{'cast_id': 5, 'character': 'Andrew Neimann',...</td>\n",
       "      <td>[{'credit_id': '54d5356ec3a3683ba0000039', 'de...</td>\n",
       "      <td>13092000</td>\n",
       "    </tr>\n",
       "    <tr>\n",
       "      <th>3</th>\n",
       "      <td>4</td>\n",
       "      <td>{}</td>\n",
       "      <td>1200000</td>\n",
       "      <td>[{'id': 53, 'name': 'Thriller'}, {'id': 18, 'n...</td>\n",
       "      <td>http://kahaanithefilm.com/</td>\n",
       "      <td>tt1821480</td>\n",
       "      <td>hi</td>\n",
       "      <td>Kahaani</td>\n",
       "      <td>Vidya Bagchi (Vidya Balan) arrives in Kolkata ...</td>\n",
       "      <td>3.174936</td>\n",
       "      <td>/aTXRaPrWSinhcmCrcfJK17urp3F.jpg</td>\n",
       "      <td>{}</td>\n",
       "      <td>[{'iso_3166_1': 'IN', 'name': 'India'}]</td>\n",
       "      <td>3/9/12</td>\n",
       "      <td>122.0</td>\n",
       "      <td>[{'iso_639_1': 'en', 'name': 'English'}, {'iso...</td>\n",
       "      <td>Released</td>\n",
       "      <td>NaN</td>\n",
       "      <td>Kahaani</td>\n",
       "      <td>[{'id': 10092, 'name': 'mystery'}, {'id': 1054...</td>\n",
       "      <td>[{'cast_id': 1, 'character': 'Vidya Bagchi', '...</td>\n",
       "      <td>[{'credit_id': '52fe48779251416c9108d6eb', 'de...</td>\n",
       "      <td>16000000</td>\n",
       "    </tr>\n",
       "    <tr>\n",
       "      <th>4</th>\n",
       "      <td>5</td>\n",
       "      <td>{}</td>\n",
       "      <td>0</td>\n",
       "      <td>[{'id': 28, 'name': 'Action'}, {'id': 53, 'nam...</td>\n",
       "      <td>NaN</td>\n",
       "      <td>tt1380152</td>\n",
       "      <td>ko</td>\n",
       "      <td>마린보이</td>\n",
       "      <td>Marine Boy is the story of a former national s...</td>\n",
       "      <td>1.148070</td>\n",
       "      <td>/m22s7zvkVFDU9ir56PiiqIEWFdT.jpg</td>\n",
       "      <td>{}</td>\n",
       "      <td>[{'iso_3166_1': 'KR', 'name': 'South Korea'}]</td>\n",
       "      <td>2/5/09</td>\n",
       "      <td>118.0</td>\n",
       "      <td>[{'iso_639_1': 'ko', 'name': '한국어/조선말'}]</td>\n",
       "      <td>Released</td>\n",
       "      <td>NaN</td>\n",
       "      <td>Marine Boy</td>\n",
       "      <td>{}</td>\n",
       "      <td>[{'cast_id': 3, 'character': 'Chun-soo', 'cred...</td>\n",
       "      <td>[{'credit_id': '52fe464b9251416c75073b43', 'de...</td>\n",
       "      <td>3923970</td>\n",
       "    </tr>\n",
       "  </tbody>\n",
       "</table>\n",
       "</div>"
      ],
      "text/plain": [
       "   id                              belongs_to_collection    budget  \\\n",
       "0   1  [{'id': 313576, 'name': 'Hot Tub Time Machine ...  14000000   \n",
       "1   2  [{'id': 107674, 'name': 'The Princess Diaries ...  40000000   \n",
       "2   3                                                 {}   3300000   \n",
       "3   4                                                 {}   1200000   \n",
       "4   5                                                 {}         0   \n",
       "\n",
       "                                              genres  \\\n",
       "0                     [{'id': 35, 'name': 'Comedy'}]   \n",
       "1  [{'id': 35, 'name': 'Comedy'}, {'id': 18, 'nam...   \n",
       "2                      [{'id': 18, 'name': 'Drama'}]   \n",
       "3  [{'id': 53, 'name': 'Thriller'}, {'id': 18, 'n...   \n",
       "4  [{'id': 28, 'name': 'Action'}, {'id': 53, 'nam...   \n",
       "\n",
       "                            homepage    imdb_id original_language  \\\n",
       "0                                NaN  tt2637294                en   \n",
       "1                                NaN  tt0368933                en   \n",
       "2  http://sonyclassics.com/whiplash/  tt2582802                en   \n",
       "3         http://kahaanithefilm.com/  tt1821480                hi   \n",
       "4                                NaN  tt1380152                ko   \n",
       "\n",
       "                             original_title  \\\n",
       "0                    Hot Tub Time Machine 2   \n",
       "1  The Princess Diaries 2: Royal Engagement   \n",
       "2                                  Whiplash   \n",
       "3                                   Kahaani   \n",
       "4                                      마린보이   \n",
       "\n",
       "                                            overview  popularity  \\\n",
       "0  When Lou, who has become the \"father of the In...    6.575393   \n",
       "1  Mia Thermopolis is now a college graduate and ...    8.248895   \n",
       "2  Under the direction of a ruthless instructor, ...   64.299990   \n",
       "3  Vidya Bagchi (Vidya Balan) arrives in Kolkata ...    3.174936   \n",
       "4  Marine Boy is the story of a former national s...    1.148070   \n",
       "\n",
       "                        poster_path  \\\n",
       "0  /tQtWuwvMf0hCc2QR2tkolwl7c3c.jpg   \n",
       "1  /w9Z7A0GHEhIp7etpj0vyKOeU1Wx.jpg   \n",
       "2  /lIv1QinFqz4dlp5U4lQ6HaiskOZ.jpg   \n",
       "3  /aTXRaPrWSinhcmCrcfJK17urp3F.jpg   \n",
       "4  /m22s7zvkVFDU9ir56PiiqIEWFdT.jpg   \n",
       "\n",
       "                                production_companies  \\\n",
       "0  [{'name': 'Paramount Pictures', 'id': 4}, {'na...   \n",
       "1        [{'name': 'Walt Disney Pictures', 'id': 2}]   \n",
       "2  [{'name': 'Bold Films', 'id': 2266}, {'name': ...   \n",
       "3                                                 {}   \n",
       "4                                                 {}   \n",
       "\n",
       "                                production_countries release_date  runtime  \\\n",
       "0  [{'iso_3166_1': 'US', 'name': 'United States o...      2/20/15     93.0   \n",
       "1  [{'iso_3166_1': 'US', 'name': 'United States o...       8/6/04    113.0   \n",
       "2  [{'iso_3166_1': 'US', 'name': 'United States o...     10/10/14    105.0   \n",
       "3            [{'iso_3166_1': 'IN', 'name': 'India'}]       3/9/12    122.0   \n",
       "4      [{'iso_3166_1': 'KR', 'name': 'South Korea'}]       2/5/09    118.0   \n",
       "\n",
       "                                    spoken_languages    status  \\\n",
       "0           [{'iso_639_1': 'en', 'name': 'English'}]  Released   \n",
       "1           [{'iso_639_1': 'en', 'name': 'English'}]  Released   \n",
       "2           [{'iso_639_1': 'en', 'name': 'English'}]  Released   \n",
       "3  [{'iso_639_1': 'en', 'name': 'English'}, {'iso...  Released   \n",
       "4           [{'iso_639_1': 'ko', 'name': '한국어/조선말'}]  Released   \n",
       "\n",
       "                                             tagline  \\\n",
       "0  The Laws of Space and Time are About to be Vio...   \n",
       "1  It can take a lifetime to find true love; she'...   \n",
       "2    The road to greatness can take you to the edge.   \n",
       "3                                                NaN   \n",
       "4                                                NaN   \n",
       "\n",
       "                                      title  \\\n",
       "0                    Hot Tub Time Machine 2   \n",
       "1  The Princess Diaries 2: Royal Engagement   \n",
       "2                                  Whiplash   \n",
       "3                                   Kahaani   \n",
       "4                                Marine Boy   \n",
       "\n",
       "                                            Keywords  \\\n",
       "0  [{'id': 4379, 'name': 'time travel'}, {'id': 9...   \n",
       "1  [{'id': 2505, 'name': 'coronation'}, {'id': 42...   \n",
       "2  [{'id': 1416, 'name': 'jazz'}, {'id': 1523, 'n...   \n",
       "3  [{'id': 10092, 'name': 'mystery'}, {'id': 1054...   \n",
       "4                                                 {}   \n",
       "\n",
       "                                                cast  \\\n",
       "0  [{'cast_id': 4, 'character': 'Lou', 'credit_id...   \n",
       "1  [{'cast_id': 1, 'character': 'Mia Thermopolis'...   \n",
       "2  [{'cast_id': 5, 'character': 'Andrew Neimann',...   \n",
       "3  [{'cast_id': 1, 'character': 'Vidya Bagchi', '...   \n",
       "4  [{'cast_id': 3, 'character': 'Chun-soo', 'cred...   \n",
       "\n",
       "                                                crew   revenue  \n",
       "0  [{'credit_id': '59ac067c92514107af02c8c8', 'de...  12314651  \n",
       "1  [{'credit_id': '52fe43fe9251416c7502563d', 'de...  95149435  \n",
       "2  [{'credit_id': '54d5356ec3a3683ba0000039', 'de...  13092000  \n",
       "3  [{'credit_id': '52fe48779251416c9108d6eb', 'de...  16000000  \n",
       "4  [{'credit_id': '52fe464b9251416c75073b43', 'de...   3923970  "
      ]
     },
     "execution_count": 20,
     "metadata": {},
     "output_type": "execute_result"
    }
   ],
   "source": [
    "pd.set_option('display.max_columns', None) # Visualizza tutte le colonne del dataframe\n",
    "df.head() # Visualizzazione delle prime entry del dataframe"
   ]
  },
  {
   "cell_type": "markdown",
   "metadata": {},
   "source": [
    "**Osservazioni**: \n",
    "- Il dataframe comprende 23 colonne (features), di cui alcune sembrano poco utili al nostro scopo... successivamente approfondiremo. \n",
    "- Alcune features sono dati strutturati, comprendendo più informazioni all'interno della stessa colonna.  \n",
    "Esempi sono `belongs to collection`, `genres`, ..."
   ]
  },
  {
   "cell_type": "code",
   "execution_count": 21,
   "metadata": {
    "scrolled": false
   },
   "outputs": [
    {
     "name": "stdout",
     "output_type": "stream",
     "text": [
      "<class 'pandas.core.frame.DataFrame'>\n",
      "RangeIndex: 3000 entries, 0 to 2999\n",
      "Data columns (total 23 columns):\n",
      " #   Column                 Non-Null Count  Dtype  \n",
      "---  ------                 --------------  -----  \n",
      " 0   id                     3000 non-null   int64  \n",
      " 1   belongs_to_collection  3000 non-null   object \n",
      " 2   budget                 3000 non-null   int64  \n",
      " 3   genres                 3000 non-null   object \n",
      " 4   homepage               946 non-null    object \n",
      " 5   imdb_id                3000 non-null   object \n",
      " 6   original_language      3000 non-null   object \n",
      " 7   original_title         3000 non-null   object \n",
      " 8   overview               2992 non-null   object \n",
      " 9   popularity             3000 non-null   float64\n",
      " 10  poster_path            2999 non-null   object \n",
      " 11  production_companies   3000 non-null   object \n",
      " 12  production_countries   3000 non-null   object \n",
      " 13  release_date           3000 non-null   object \n",
      " 14  runtime                2998 non-null   float64\n",
      " 15  spoken_languages       3000 non-null   object \n",
      " 16  status                 3000 non-null   object \n",
      " 17  tagline                2403 non-null   object \n",
      " 18  title                  3000 non-null   object \n",
      " 19  Keywords               3000 non-null   object \n",
      " 20  cast                   3000 non-null   object \n",
      " 21  crew                   3000 non-null   object \n",
      " 22  revenue                3000 non-null   int64  \n",
      "dtypes: float64(2), int64(3), object(18)\n",
      "memory usage: 539.2+ KB\n"
     ]
    }
   ],
   "source": [
    "df.info() # Visualizzazione delle info delle colonne"
   ]
  },
  {
   "cell_type": "markdown",
   "metadata": {},
   "source": [
    "**Osservazioni**: \n",
    "- Alcune features hanno valori nulli: sarà materia di successive indagini. "
   ]
  },
  {
   "cell_type": "code",
   "execution_count": 22,
   "metadata": {},
   "outputs": [
    {
     "data": {
      "text/html": [
       "<div>\n",
       "<style scoped>\n",
       "    .dataframe tbody tr th:only-of-type {\n",
       "        vertical-align: middle;\n",
       "    }\n",
       "\n",
       "    .dataframe tbody tr th {\n",
       "        vertical-align: top;\n",
       "    }\n",
       "\n",
       "    .dataframe thead th {\n",
       "        text-align: right;\n",
       "    }\n",
       "</style>\n",
       "<table border=\"1\" class=\"dataframe\">\n",
       "  <thead>\n",
       "    <tr style=\"text-align: right;\">\n",
       "      <th></th>\n",
       "      <th>id</th>\n",
       "      <th>belongs_to_collection</th>\n",
       "      <th>budget</th>\n",
       "      <th>genres</th>\n",
       "      <th>homepage</th>\n",
       "      <th>imdb_id</th>\n",
       "      <th>original_language</th>\n",
       "      <th>original_title</th>\n",
       "      <th>overview</th>\n",
       "      <th>popularity</th>\n",
       "      <th>poster_path</th>\n",
       "      <th>production_companies</th>\n",
       "      <th>production_countries</th>\n",
       "      <th>release_date</th>\n",
       "      <th>runtime</th>\n",
       "      <th>spoken_languages</th>\n",
       "      <th>status</th>\n",
       "      <th>tagline</th>\n",
       "      <th>title</th>\n",
       "      <th>Keywords</th>\n",
       "      <th>cast</th>\n",
       "      <th>crew</th>\n",
       "      <th>revenue</th>\n",
       "    </tr>\n",
       "  </thead>\n",
       "  <tbody>\n",
       "    <tr>\n",
       "      <th>count</th>\n",
       "      <td>3000.000000</td>\n",
       "      <td>3000</td>\n",
       "      <td>3.000000e+03</td>\n",
       "      <td>3000</td>\n",
       "      <td>946</td>\n",
       "      <td>3000</td>\n",
       "      <td>3000</td>\n",
       "      <td>3000</td>\n",
       "      <td>2992</td>\n",
       "      <td>3000.000000</td>\n",
       "      <td>2999</td>\n",
       "      <td>3000</td>\n",
       "      <td>3000</td>\n",
       "      <td>3000</td>\n",
       "      <td>2998.000000</td>\n",
       "      <td>3000</td>\n",
       "      <td>3000</td>\n",
       "      <td>2403</td>\n",
       "      <td>3000</td>\n",
       "      <td>3000</td>\n",
       "      <td>3000</td>\n",
       "      <td>3000</td>\n",
       "      <td>3.000000e+03</td>\n",
       "    </tr>\n",
       "    <tr>\n",
       "      <th>unique</th>\n",
       "      <td>NaN</td>\n",
       "      <td>423</td>\n",
       "      <td>NaN</td>\n",
       "      <td>873</td>\n",
       "      <td>941</td>\n",
       "      <td>3000</td>\n",
       "      <td>36</td>\n",
       "      <td>2975</td>\n",
       "      <td>2992</td>\n",
       "      <td>NaN</td>\n",
       "      <td>2999</td>\n",
       "      <td>2384</td>\n",
       "      <td>322</td>\n",
       "      <td>2398</td>\n",
       "      <td>NaN</td>\n",
       "      <td>402</td>\n",
       "      <td>2</td>\n",
       "      <td>2400</td>\n",
       "      <td>2969</td>\n",
       "      <td>2649</td>\n",
       "      <td>2976</td>\n",
       "      <td>2985</td>\n",
       "      <td>NaN</td>\n",
       "    </tr>\n",
       "    <tr>\n",
       "      <th>top</th>\n",
       "      <td>NaN</td>\n",
       "      <td>{}</td>\n",
       "      <td>NaN</td>\n",
       "      <td>[{'id': 18, 'name': 'Drama'}]</td>\n",
       "      <td>http://www.transformersmovie.com/</td>\n",
       "      <td>tt0120836</td>\n",
       "      <td>en</td>\n",
       "      <td>The Three Musketeers</td>\n",
       "      <td>Charismatic teen Ferris Bueller plays hooky in...</td>\n",
       "      <td>NaN</td>\n",
       "      <td>/luwGvHjRqWyCl7d1tImwbUuxd1s.jpg</td>\n",
       "      <td>{}</td>\n",
       "      <td>[{'iso_3166_1': 'US', 'name': 'United States o...</td>\n",
       "      <td>9/10/10</td>\n",
       "      <td>NaN</td>\n",
       "      <td>[{'iso_639_1': 'en', 'name': 'English'}]</td>\n",
       "      <td>Released</td>\n",
       "      <td>Based on a true story.</td>\n",
       "      <td>Beauty and the Beast</td>\n",
       "      <td>{}</td>\n",
       "      <td>{}</td>\n",
       "      <td>{}</td>\n",
       "      <td>NaN</td>\n",
       "    </tr>\n",
       "    <tr>\n",
       "      <th>freq</th>\n",
       "      <td>NaN</td>\n",
       "      <td>2396</td>\n",
       "      <td>NaN</td>\n",
       "      <td>266</td>\n",
       "      <td>4</td>\n",
       "      <td>1</td>\n",
       "      <td>2575</td>\n",
       "      <td>2</td>\n",
       "      <td>1</td>\n",
       "      <td>NaN</td>\n",
       "      <td>1</td>\n",
       "      <td>156</td>\n",
       "      <td>1752</td>\n",
       "      <td>5</td>\n",
       "      <td>NaN</td>\n",
       "      <td>1817</td>\n",
       "      <td>2996</td>\n",
       "      <td>3</td>\n",
       "      <td>2</td>\n",
       "      <td>276</td>\n",
       "      <td>13</td>\n",
       "      <td>16</td>\n",
       "      <td>NaN</td>\n",
       "    </tr>\n",
       "    <tr>\n",
       "      <th>mean</th>\n",
       "      <td>1500.500000</td>\n",
       "      <td>NaN</td>\n",
       "      <td>2.253133e+07</td>\n",
       "      <td>NaN</td>\n",
       "      <td>NaN</td>\n",
       "      <td>NaN</td>\n",
       "      <td>NaN</td>\n",
       "      <td>NaN</td>\n",
       "      <td>NaN</td>\n",
       "      <td>8.463274</td>\n",
       "      <td>NaN</td>\n",
       "      <td>NaN</td>\n",
       "      <td>NaN</td>\n",
       "      <td>NaN</td>\n",
       "      <td>107.856571</td>\n",
       "      <td>NaN</td>\n",
       "      <td>NaN</td>\n",
       "      <td>NaN</td>\n",
       "      <td>NaN</td>\n",
       "      <td>NaN</td>\n",
       "      <td>NaN</td>\n",
       "      <td>NaN</td>\n",
       "      <td>6.672585e+07</td>\n",
       "    </tr>\n",
       "    <tr>\n",
       "      <th>std</th>\n",
       "      <td>866.169729</td>\n",
       "      <td>NaN</td>\n",
       "      <td>3.702609e+07</td>\n",
       "      <td>NaN</td>\n",
       "      <td>NaN</td>\n",
       "      <td>NaN</td>\n",
       "      <td>NaN</td>\n",
       "      <td>NaN</td>\n",
       "      <td>NaN</td>\n",
       "      <td>12.104000</td>\n",
       "      <td>NaN</td>\n",
       "      <td>NaN</td>\n",
       "      <td>NaN</td>\n",
       "      <td>NaN</td>\n",
       "      <td>22.086434</td>\n",
       "      <td>NaN</td>\n",
       "      <td>NaN</td>\n",
       "      <td>NaN</td>\n",
       "      <td>NaN</td>\n",
       "      <td>NaN</td>\n",
       "      <td>NaN</td>\n",
       "      <td>NaN</td>\n",
       "      <td>1.375323e+08</td>\n",
       "    </tr>\n",
       "    <tr>\n",
       "      <th>min</th>\n",
       "      <td>1.000000</td>\n",
       "      <td>NaN</td>\n",
       "      <td>0.000000e+00</td>\n",
       "      <td>NaN</td>\n",
       "      <td>NaN</td>\n",
       "      <td>NaN</td>\n",
       "      <td>NaN</td>\n",
       "      <td>NaN</td>\n",
       "      <td>NaN</td>\n",
       "      <td>0.000001</td>\n",
       "      <td>NaN</td>\n",
       "      <td>NaN</td>\n",
       "      <td>NaN</td>\n",
       "      <td>NaN</td>\n",
       "      <td>0.000000</td>\n",
       "      <td>NaN</td>\n",
       "      <td>NaN</td>\n",
       "      <td>NaN</td>\n",
       "      <td>NaN</td>\n",
       "      <td>NaN</td>\n",
       "      <td>NaN</td>\n",
       "      <td>NaN</td>\n",
       "      <td>1.000000e+00</td>\n",
       "    </tr>\n",
       "    <tr>\n",
       "      <th>25%</th>\n",
       "      <td>750.750000</td>\n",
       "      <td>NaN</td>\n",
       "      <td>0.000000e+00</td>\n",
       "      <td>NaN</td>\n",
       "      <td>NaN</td>\n",
       "      <td>NaN</td>\n",
       "      <td>NaN</td>\n",
       "      <td>NaN</td>\n",
       "      <td>NaN</td>\n",
       "      <td>4.018053</td>\n",
       "      <td>NaN</td>\n",
       "      <td>NaN</td>\n",
       "      <td>NaN</td>\n",
       "      <td>NaN</td>\n",
       "      <td>94.000000</td>\n",
       "      <td>NaN</td>\n",
       "      <td>NaN</td>\n",
       "      <td>NaN</td>\n",
       "      <td>NaN</td>\n",
       "      <td>NaN</td>\n",
       "      <td>NaN</td>\n",
       "      <td>NaN</td>\n",
       "      <td>2.379808e+06</td>\n",
       "    </tr>\n",
       "    <tr>\n",
       "      <th>50%</th>\n",
       "      <td>1500.500000</td>\n",
       "      <td>NaN</td>\n",
       "      <td>8.000000e+06</td>\n",
       "      <td>NaN</td>\n",
       "      <td>NaN</td>\n",
       "      <td>NaN</td>\n",
       "      <td>NaN</td>\n",
       "      <td>NaN</td>\n",
       "      <td>NaN</td>\n",
       "      <td>7.374861</td>\n",
       "      <td>NaN</td>\n",
       "      <td>NaN</td>\n",
       "      <td>NaN</td>\n",
       "      <td>NaN</td>\n",
       "      <td>104.000000</td>\n",
       "      <td>NaN</td>\n",
       "      <td>NaN</td>\n",
       "      <td>NaN</td>\n",
       "      <td>NaN</td>\n",
       "      <td>NaN</td>\n",
       "      <td>NaN</td>\n",
       "      <td>NaN</td>\n",
       "      <td>1.680707e+07</td>\n",
       "    </tr>\n",
       "    <tr>\n",
       "      <th>75%</th>\n",
       "      <td>2250.250000</td>\n",
       "      <td>NaN</td>\n",
       "      <td>2.900000e+07</td>\n",
       "      <td>NaN</td>\n",
       "      <td>NaN</td>\n",
       "      <td>NaN</td>\n",
       "      <td>NaN</td>\n",
       "      <td>NaN</td>\n",
       "      <td>NaN</td>\n",
       "      <td>10.890983</td>\n",
       "      <td>NaN</td>\n",
       "      <td>NaN</td>\n",
       "      <td>NaN</td>\n",
       "      <td>NaN</td>\n",
       "      <td>118.000000</td>\n",
       "      <td>NaN</td>\n",
       "      <td>NaN</td>\n",
       "      <td>NaN</td>\n",
       "      <td>NaN</td>\n",
       "      <td>NaN</td>\n",
       "      <td>NaN</td>\n",
       "      <td>NaN</td>\n",
       "      <td>6.891920e+07</td>\n",
       "    </tr>\n",
       "    <tr>\n",
       "      <th>max</th>\n",
       "      <td>3000.000000</td>\n",
       "      <td>NaN</td>\n",
       "      <td>3.800000e+08</td>\n",
       "      <td>NaN</td>\n",
       "      <td>NaN</td>\n",
       "      <td>NaN</td>\n",
       "      <td>NaN</td>\n",
       "      <td>NaN</td>\n",
       "      <td>NaN</td>\n",
       "      <td>294.337037</td>\n",
       "      <td>NaN</td>\n",
       "      <td>NaN</td>\n",
       "      <td>NaN</td>\n",
       "      <td>NaN</td>\n",
       "      <td>338.000000</td>\n",
       "      <td>NaN</td>\n",
       "      <td>NaN</td>\n",
       "      <td>NaN</td>\n",
       "      <td>NaN</td>\n",
       "      <td>NaN</td>\n",
       "      <td>NaN</td>\n",
       "      <td>NaN</td>\n",
       "      <td>1.519558e+09</td>\n",
       "    </tr>\n",
       "  </tbody>\n",
       "</table>\n",
       "</div>"
      ],
      "text/plain": [
       "                 id belongs_to_collection        budget  \\\n",
       "count   3000.000000                  3000  3.000000e+03   \n",
       "unique          NaN                   423           NaN   \n",
       "top             NaN                    {}           NaN   \n",
       "freq            NaN                  2396           NaN   \n",
       "mean    1500.500000                   NaN  2.253133e+07   \n",
       "std      866.169729                   NaN  3.702609e+07   \n",
       "min        1.000000                   NaN  0.000000e+00   \n",
       "25%      750.750000                   NaN  0.000000e+00   \n",
       "50%     1500.500000                   NaN  8.000000e+06   \n",
       "75%     2250.250000                   NaN  2.900000e+07   \n",
       "max     3000.000000                   NaN  3.800000e+08   \n",
       "\n",
       "                               genres                           homepage  \\\n",
       "count                            3000                                946   \n",
       "unique                            873                                941   \n",
       "top     [{'id': 18, 'name': 'Drama'}]  http://www.transformersmovie.com/   \n",
       "freq                              266                                  4   \n",
       "mean                              NaN                                NaN   \n",
       "std                               NaN                                NaN   \n",
       "min                               NaN                                NaN   \n",
       "25%                               NaN                                NaN   \n",
       "50%                               NaN                                NaN   \n",
       "75%                               NaN                                NaN   \n",
       "max                               NaN                                NaN   \n",
       "\n",
       "          imdb_id original_language        original_title  \\\n",
       "count        3000              3000                  3000   \n",
       "unique       3000                36                  2975   \n",
       "top     tt0120836                en  The Three Musketeers   \n",
       "freq            1              2575                     2   \n",
       "mean          NaN               NaN                   NaN   \n",
       "std           NaN               NaN                   NaN   \n",
       "min           NaN               NaN                   NaN   \n",
       "25%           NaN               NaN                   NaN   \n",
       "50%           NaN               NaN                   NaN   \n",
       "75%           NaN               NaN                   NaN   \n",
       "max           NaN               NaN                   NaN   \n",
       "\n",
       "                                                 overview   popularity  \\\n",
       "count                                                2992  3000.000000   \n",
       "unique                                               2992          NaN   \n",
       "top     Charismatic teen Ferris Bueller plays hooky in...          NaN   \n",
       "freq                                                    1          NaN   \n",
       "mean                                                  NaN     8.463274   \n",
       "std                                                   NaN    12.104000   \n",
       "min                                                   NaN     0.000001   \n",
       "25%                                                   NaN     4.018053   \n",
       "50%                                                   NaN     7.374861   \n",
       "75%                                                   NaN    10.890983   \n",
       "max                                                   NaN   294.337037   \n",
       "\n",
       "                             poster_path production_companies  \\\n",
       "count                               2999                 3000   \n",
       "unique                              2999                 2384   \n",
       "top     /luwGvHjRqWyCl7d1tImwbUuxd1s.jpg                   {}   \n",
       "freq                                   1                  156   \n",
       "mean                                 NaN                  NaN   \n",
       "std                                  NaN                  NaN   \n",
       "min                                  NaN                  NaN   \n",
       "25%                                  NaN                  NaN   \n",
       "50%                                  NaN                  NaN   \n",
       "75%                                  NaN                  NaN   \n",
       "max                                  NaN                  NaN   \n",
       "\n",
       "                                     production_countries release_date  \\\n",
       "count                                                3000         3000   \n",
       "unique                                                322         2398   \n",
       "top     [{'iso_3166_1': 'US', 'name': 'United States o...      9/10/10   \n",
       "freq                                                 1752            5   \n",
       "mean                                                  NaN          NaN   \n",
       "std                                                   NaN          NaN   \n",
       "min                                                   NaN          NaN   \n",
       "25%                                                   NaN          NaN   \n",
       "50%                                                   NaN          NaN   \n",
       "75%                                                   NaN          NaN   \n",
       "max                                                   NaN          NaN   \n",
       "\n",
       "            runtime                          spoken_languages    status  \\\n",
       "count   2998.000000                                      3000      3000   \n",
       "unique          NaN                                       402         2   \n",
       "top             NaN  [{'iso_639_1': 'en', 'name': 'English'}]  Released   \n",
       "freq            NaN                                      1817      2996   \n",
       "mean     107.856571                                       NaN       NaN   \n",
       "std       22.086434                                       NaN       NaN   \n",
       "min        0.000000                                       NaN       NaN   \n",
       "25%       94.000000                                       NaN       NaN   \n",
       "50%      104.000000                                       NaN       NaN   \n",
       "75%      118.000000                                       NaN       NaN   \n",
       "max      338.000000                                       NaN       NaN   \n",
       "\n",
       "                       tagline                 title Keywords  cast  crew  \\\n",
       "count                     2403                  3000     3000  3000  3000   \n",
       "unique                    2400                  2969     2649  2976  2985   \n",
       "top     Based on a true story.  Beauty and the Beast       {}    {}    {}   \n",
       "freq                         3                     2      276    13    16   \n",
       "mean                       NaN                   NaN      NaN   NaN   NaN   \n",
       "std                        NaN                   NaN      NaN   NaN   NaN   \n",
       "min                        NaN                   NaN      NaN   NaN   NaN   \n",
       "25%                        NaN                   NaN      NaN   NaN   NaN   \n",
       "50%                        NaN                   NaN      NaN   NaN   NaN   \n",
       "75%                        NaN                   NaN      NaN   NaN   NaN   \n",
       "max                        NaN                   NaN      NaN   NaN   NaN   \n",
       "\n",
       "             revenue  \n",
       "count   3.000000e+03  \n",
       "unique           NaN  \n",
       "top              NaN  \n",
       "freq             NaN  \n",
       "mean    6.672585e+07  \n",
       "std     1.375323e+08  \n",
       "min     1.000000e+00  \n",
       "25%     2.379808e+06  \n",
       "50%     1.680707e+07  \n",
       "75%     6.891920e+07  \n",
       "max     1.519558e+09  "
      ]
     },
     "execution_count": 22,
     "metadata": {},
     "output_type": "execute_result"
    }
   ],
   "source": [
    "df.describe(include='all') # Visualizzazione delle statistiche principali di tutte le colonne"
   ]
  },
  {
   "cell_type": "markdown",
   "metadata": {},
   "source": [
    "**Osservazioni**: \n",
    "- Alcuni valori sono sospetti, ad esempio: \n",
    "    - Il minimo `budget` è pari a 0... ma un film può avere budget 0? Poco probabile.\n",
    "    - Il minimo di `runtime` è pari, nuovamente, a 0... anche in questo caso, è poco probabile, in quanto un film sicuramente dura più di 0 minuti!\n",
    "    - Ha senso una `revenue` pari ad 1? Non troppo...\n",
    "- Osserviamo che `status` ha solo due possibili valori\n",
    "- Si osserva invece che `id` e `imdb_id` hanno valori univoci"
   ]
  },
  {
   "cell_type": "markdown",
   "metadata": {},
   "source": [
    "## Manipolazione del dataframe"
   ]
  },
  {
   "cell_type": "markdown",
   "metadata": {},
   "source": [
    "Dalle **analisi** eseguite ai punti **precedenti**, **abbiamo appreso** le seguenti informazioni:\n",
    "- Abbiamo features che, molto probabilemnte, sono poco utili ai nosti scopi\n",
    "- Abbiamo features strutturate che si potrebbero semplificare\n",
    "\n",
    "Procediamo, quindi, **manipolando i dati in modo da renderli più maneggevoli e corretti**."
   ]
  },
  {
   "cell_type": "code",
   "execution_count": 23,
   "metadata": {},
   "outputs": [],
   "source": [
    "# Rinomina della colonna Keywords, per puri motivi di coerenza con uso di maiuscole. \n",
    "df.rename(columns={'Keywords': 'keywords'}, inplace=True) "
   ]
  },
  {
   "cell_type": "markdown",
   "metadata": {},
   "source": [
    "### Rimozione delle features poco utili"
   ]
  },
  {
   "cell_type": "markdown",
   "metadata": {},
   "source": [
    "#### ID e IMDB_ID\n",
    "Come detto, `id` e `imdb_id` hanno **valori univoci**, per cui possono essere rimossi in quanto non hanno rilevanza nella predizione. "
   ]
  },
  {
   "cell_type": "code",
   "execution_count": 24,
   "metadata": {},
   "outputs": [],
   "source": [
    "# Rimozione delle colonne id e imdb_id dal dataframe df\n",
    "df.drop(['id'], axis='columns', inplace=True)\n",
    "\n",
    "# NOTA: imdb_id verrà droppato solo a fine analisi, in quanto ci è utile per recuperare dati mancanti dei film"
   ]
  },
  {
   "cell_type": "markdown",
   "metadata": {},
   "source": [
    "#### Titoli dei film\n",
    "Gli `original_title` e `title`, nella maggior parte dei casi, sono **valori univoci** (`2975/3000 e 2969/3000`), mentre quei **pochi titoli duplicati** sono molto probabilmente **incorrelati** tra di loro.  \n",
    "Possiamo quindi rimuoverli dal nostro dataframe.  "
   ]
  },
  {
   "cell_type": "code",
   "execution_count": 25,
   "metadata": {},
   "outputs": [],
   "source": [
    "# Rimozione delle colonne original_title e title dal dataframe df\n",
    "df.drop(labels=['original_title','title'], axis='columns', inplace=True)"
   ]
  },
  {
   "cell_type": "markdown",
   "metadata": {},
   "source": [
    "#### Homepage, PosterPath e Status\n",
    "Le `homepage` e i `poster_path` risultano essere features da cui è **difficile estrapolare informazioni utili**. Possiamo quindi rimuoverle. "
   ]
  },
  {
   "cell_type": "code",
   "execution_count": 26,
   "metadata": {},
   "outputs": [],
   "source": [
    "# Rimozione delle colonne homepage, poster_path e status dal dataframe df\n",
    "df.drop(labels=['homepage','poster_path', 'status'], axis='columns', inplace=True)"
   ]
  },
  {
   "cell_type": "markdown",
   "metadata": {},
   "source": [
    "#### Lingua originale\n",
    "L'`original_language` la riteniamo **poco utile** ai fini di predirre la revenue, in quanto sono molto più d'interesse le lingue in cui un film è stato tradotto: contenute in `spoken_languages`"
   ]
  },
  {
   "cell_type": "code",
   "execution_count": 27,
   "metadata": {},
   "outputs": [],
   "source": [
    "# Rimozione della colonna original_language dal dataframe df\n",
    "df.drop(labels=['original_language'], axis='columns', inplace=True)"
   ]
  },
  {
   "cell_type": "markdown",
   "metadata": {},
   "source": [
    "#### Overview e Tagline\n",
    "Le features `overview` e `tagline` sono di tipo testuale e sono **complesse da analizzare**.  \n",
    "Per ora le rimuoviamo, in quanto, per i nostri scopi, l'insieme delle `keywords` sicuramente ci può essere di **sufficiente** aiuto. "
   ]
  },
  {
   "cell_type": "code",
   "execution_count": 28,
   "metadata": {},
   "outputs": [],
   "source": [
    "# Rimozione delle colonne overview e tagline dal dataframe df\n",
    "df.drop(labels=['overview', 'tagline'], axis='columns', inplace=True)"
   ]
  },
  {
   "cell_type": "markdown",
   "metadata": {},
   "source": [
    "#### Rivalutare il dataframe\n",
    "Arrivati a questo punto, abbiamo rimosso alcune features e **il nostro dataframe appare nel seguente modo:**"
   ]
  },
  {
   "cell_type": "code",
   "execution_count": 29,
   "metadata": {},
   "outputs": [
    {
     "data": {
      "text/html": [
       "<div>\n",
       "<style scoped>\n",
       "    .dataframe tbody tr th:only-of-type {\n",
       "        vertical-align: middle;\n",
       "    }\n",
       "\n",
       "    .dataframe tbody tr th {\n",
       "        vertical-align: top;\n",
       "    }\n",
       "\n",
       "    .dataframe thead th {\n",
       "        text-align: right;\n",
       "    }\n",
       "</style>\n",
       "<table border=\"1\" class=\"dataframe\">\n",
       "  <thead>\n",
       "    <tr style=\"text-align: right;\">\n",
       "      <th></th>\n",
       "      <th>belongs_to_collection</th>\n",
       "      <th>budget</th>\n",
       "      <th>genres</th>\n",
       "      <th>imdb_id</th>\n",
       "      <th>popularity</th>\n",
       "      <th>production_companies</th>\n",
       "      <th>production_countries</th>\n",
       "      <th>release_date</th>\n",
       "      <th>runtime</th>\n",
       "      <th>spoken_languages</th>\n",
       "      <th>keywords</th>\n",
       "      <th>cast</th>\n",
       "      <th>crew</th>\n",
       "      <th>revenue</th>\n",
       "    </tr>\n",
       "  </thead>\n",
       "  <tbody>\n",
       "    <tr>\n",
       "      <th>0</th>\n",
       "      <td>[{'id': 313576, 'name': 'Hot Tub Time Machine ...</td>\n",
       "      <td>14000000</td>\n",
       "      <td>[{'id': 35, 'name': 'Comedy'}]</td>\n",
       "      <td>tt2637294</td>\n",
       "      <td>6.575393</td>\n",
       "      <td>[{'name': 'Paramount Pictures', 'id': 4}, {'na...</td>\n",
       "      <td>[{'iso_3166_1': 'US', 'name': 'United States o...</td>\n",
       "      <td>2/20/15</td>\n",
       "      <td>93.0</td>\n",
       "      <td>[{'iso_639_1': 'en', 'name': 'English'}]</td>\n",
       "      <td>[{'id': 4379, 'name': 'time travel'}, {'id': 9...</td>\n",
       "      <td>[{'cast_id': 4, 'character': 'Lou', 'credit_id...</td>\n",
       "      <td>[{'credit_id': '59ac067c92514107af02c8c8', 'de...</td>\n",
       "      <td>12314651</td>\n",
       "    </tr>\n",
       "    <tr>\n",
       "      <th>1</th>\n",
       "      <td>[{'id': 107674, 'name': 'The Princess Diaries ...</td>\n",
       "      <td>40000000</td>\n",
       "      <td>[{'id': 35, 'name': 'Comedy'}, {'id': 18, 'nam...</td>\n",
       "      <td>tt0368933</td>\n",
       "      <td>8.248895</td>\n",
       "      <td>[{'name': 'Walt Disney Pictures', 'id': 2}]</td>\n",
       "      <td>[{'iso_3166_1': 'US', 'name': 'United States o...</td>\n",
       "      <td>8/6/04</td>\n",
       "      <td>113.0</td>\n",
       "      <td>[{'iso_639_1': 'en', 'name': 'English'}]</td>\n",
       "      <td>[{'id': 2505, 'name': 'coronation'}, {'id': 42...</td>\n",
       "      <td>[{'cast_id': 1, 'character': 'Mia Thermopolis'...</td>\n",
       "      <td>[{'credit_id': '52fe43fe9251416c7502563d', 'de...</td>\n",
       "      <td>95149435</td>\n",
       "    </tr>\n",
       "    <tr>\n",
       "      <th>2</th>\n",
       "      <td>{}</td>\n",
       "      <td>3300000</td>\n",
       "      <td>[{'id': 18, 'name': 'Drama'}]</td>\n",
       "      <td>tt2582802</td>\n",
       "      <td>64.299990</td>\n",
       "      <td>[{'name': 'Bold Films', 'id': 2266}, {'name': ...</td>\n",
       "      <td>[{'iso_3166_1': 'US', 'name': 'United States o...</td>\n",
       "      <td>10/10/14</td>\n",
       "      <td>105.0</td>\n",
       "      <td>[{'iso_639_1': 'en', 'name': 'English'}]</td>\n",
       "      <td>[{'id': 1416, 'name': 'jazz'}, {'id': 1523, 'n...</td>\n",
       "      <td>[{'cast_id': 5, 'character': 'Andrew Neimann',...</td>\n",
       "      <td>[{'credit_id': '54d5356ec3a3683ba0000039', 'de...</td>\n",
       "      <td>13092000</td>\n",
       "    </tr>\n",
       "    <tr>\n",
       "      <th>3</th>\n",
       "      <td>{}</td>\n",
       "      <td>1200000</td>\n",
       "      <td>[{'id': 53, 'name': 'Thriller'}, {'id': 18, 'n...</td>\n",
       "      <td>tt1821480</td>\n",
       "      <td>3.174936</td>\n",
       "      <td>{}</td>\n",
       "      <td>[{'iso_3166_1': 'IN', 'name': 'India'}]</td>\n",
       "      <td>3/9/12</td>\n",
       "      <td>122.0</td>\n",
       "      <td>[{'iso_639_1': 'en', 'name': 'English'}, {'iso...</td>\n",
       "      <td>[{'id': 10092, 'name': 'mystery'}, {'id': 1054...</td>\n",
       "      <td>[{'cast_id': 1, 'character': 'Vidya Bagchi', '...</td>\n",
       "      <td>[{'credit_id': '52fe48779251416c9108d6eb', 'de...</td>\n",
       "      <td>16000000</td>\n",
       "    </tr>\n",
       "    <tr>\n",
       "      <th>4</th>\n",
       "      <td>{}</td>\n",
       "      <td>0</td>\n",
       "      <td>[{'id': 28, 'name': 'Action'}, {'id': 53, 'nam...</td>\n",
       "      <td>tt1380152</td>\n",
       "      <td>1.148070</td>\n",
       "      <td>{}</td>\n",
       "      <td>[{'iso_3166_1': 'KR', 'name': 'South Korea'}]</td>\n",
       "      <td>2/5/09</td>\n",
       "      <td>118.0</td>\n",
       "      <td>[{'iso_639_1': 'ko', 'name': '한국어/조선말'}]</td>\n",
       "      <td>{}</td>\n",
       "      <td>[{'cast_id': 3, 'character': 'Chun-soo', 'cred...</td>\n",
       "      <td>[{'credit_id': '52fe464b9251416c75073b43', 'de...</td>\n",
       "      <td>3923970</td>\n",
       "    </tr>\n",
       "  </tbody>\n",
       "</table>\n",
       "</div>"
      ],
      "text/plain": [
       "                               belongs_to_collection    budget  \\\n",
       "0  [{'id': 313576, 'name': 'Hot Tub Time Machine ...  14000000   \n",
       "1  [{'id': 107674, 'name': 'The Princess Diaries ...  40000000   \n",
       "2                                                 {}   3300000   \n",
       "3                                                 {}   1200000   \n",
       "4                                                 {}         0   \n",
       "\n",
       "                                              genres    imdb_id  popularity  \\\n",
       "0                     [{'id': 35, 'name': 'Comedy'}]  tt2637294    6.575393   \n",
       "1  [{'id': 35, 'name': 'Comedy'}, {'id': 18, 'nam...  tt0368933    8.248895   \n",
       "2                      [{'id': 18, 'name': 'Drama'}]  tt2582802   64.299990   \n",
       "3  [{'id': 53, 'name': 'Thriller'}, {'id': 18, 'n...  tt1821480    3.174936   \n",
       "4  [{'id': 28, 'name': 'Action'}, {'id': 53, 'nam...  tt1380152    1.148070   \n",
       "\n",
       "                                production_companies  \\\n",
       "0  [{'name': 'Paramount Pictures', 'id': 4}, {'na...   \n",
       "1        [{'name': 'Walt Disney Pictures', 'id': 2}]   \n",
       "2  [{'name': 'Bold Films', 'id': 2266}, {'name': ...   \n",
       "3                                                 {}   \n",
       "4                                                 {}   \n",
       "\n",
       "                                production_countries release_date  runtime  \\\n",
       "0  [{'iso_3166_1': 'US', 'name': 'United States o...      2/20/15     93.0   \n",
       "1  [{'iso_3166_1': 'US', 'name': 'United States o...       8/6/04    113.0   \n",
       "2  [{'iso_3166_1': 'US', 'name': 'United States o...     10/10/14    105.0   \n",
       "3            [{'iso_3166_1': 'IN', 'name': 'India'}]       3/9/12    122.0   \n",
       "4      [{'iso_3166_1': 'KR', 'name': 'South Korea'}]       2/5/09    118.0   \n",
       "\n",
       "                                    spoken_languages  \\\n",
       "0           [{'iso_639_1': 'en', 'name': 'English'}]   \n",
       "1           [{'iso_639_1': 'en', 'name': 'English'}]   \n",
       "2           [{'iso_639_1': 'en', 'name': 'English'}]   \n",
       "3  [{'iso_639_1': 'en', 'name': 'English'}, {'iso...   \n",
       "4           [{'iso_639_1': 'ko', 'name': '한국어/조선말'}]   \n",
       "\n",
       "                                            keywords  \\\n",
       "0  [{'id': 4379, 'name': 'time travel'}, {'id': 9...   \n",
       "1  [{'id': 2505, 'name': 'coronation'}, {'id': 42...   \n",
       "2  [{'id': 1416, 'name': 'jazz'}, {'id': 1523, 'n...   \n",
       "3  [{'id': 10092, 'name': 'mystery'}, {'id': 1054...   \n",
       "4                                                 {}   \n",
       "\n",
       "                                                cast  \\\n",
       "0  [{'cast_id': 4, 'character': 'Lou', 'credit_id...   \n",
       "1  [{'cast_id': 1, 'character': 'Mia Thermopolis'...   \n",
       "2  [{'cast_id': 5, 'character': 'Andrew Neimann',...   \n",
       "3  [{'cast_id': 1, 'character': 'Vidya Bagchi', '...   \n",
       "4  [{'cast_id': 3, 'character': 'Chun-soo', 'cred...   \n",
       "\n",
       "                                                crew   revenue  \n",
       "0  [{'credit_id': '59ac067c92514107af02c8c8', 'de...  12314651  \n",
       "1  [{'credit_id': '52fe43fe9251416c7502563d', 'de...  95149435  \n",
       "2  [{'credit_id': '54d5356ec3a3683ba0000039', 'de...  13092000  \n",
       "3  [{'credit_id': '52fe48779251416c9108d6eb', 'de...  16000000  \n",
       "4  [{'credit_id': '52fe464b9251416c75073b43', 'de...   3923970  "
      ]
     },
     "execution_count": 29,
     "metadata": {},
     "output_type": "execute_result"
    }
   ],
   "source": [
    "pd.set_option('display.max_columns', None) # Visualizza tutte le colonne del dataframe\n",
    "df.head()"
   ]
  },
  {
   "cell_type": "code",
   "execution_count": 30,
   "metadata": {},
   "outputs": [
    {
     "name": "stdout",
     "output_type": "stream",
     "text": [
      "<class 'pandas.core.frame.DataFrame'>\n",
      "RangeIndex: 3000 entries, 0 to 2999\n",
      "Data columns (total 14 columns):\n",
      " #   Column                 Non-Null Count  Dtype  \n",
      "---  ------                 --------------  -----  \n",
      " 0   belongs_to_collection  3000 non-null   object \n",
      " 1   budget                 3000 non-null   int64  \n",
      " 2   genres                 3000 non-null   object \n",
      " 3   imdb_id                3000 non-null   object \n",
      " 4   popularity             3000 non-null   float64\n",
      " 5   production_companies   3000 non-null   object \n",
      " 6   production_countries   3000 non-null   object \n",
      " 7   release_date           3000 non-null   object \n",
      " 8   runtime                2998 non-null   float64\n",
      " 9   spoken_languages       3000 non-null   object \n",
      " 10  keywords               3000 non-null   object \n",
      " 11  cast                   3000 non-null   object \n",
      " 12  crew                   3000 non-null   object \n",
      " 13  revenue                3000 non-null   int64  \n",
      "dtypes: float64(2), int64(2), object(10)\n",
      "memory usage: 328.2+ KB\n"
     ]
    }
   ],
   "source": [
    "df.info()"
   ]
  },
  {
   "cell_type": "code",
   "execution_count": 31,
   "metadata": {},
   "outputs": [
    {
     "data": {
      "text/html": [
       "<div>\n",
       "<style scoped>\n",
       "    .dataframe tbody tr th:only-of-type {\n",
       "        vertical-align: middle;\n",
       "    }\n",
       "\n",
       "    .dataframe tbody tr th {\n",
       "        vertical-align: top;\n",
       "    }\n",
       "\n",
       "    .dataframe thead th {\n",
       "        text-align: right;\n",
       "    }\n",
       "</style>\n",
       "<table border=\"1\" class=\"dataframe\">\n",
       "  <thead>\n",
       "    <tr style=\"text-align: right;\">\n",
       "      <th></th>\n",
       "      <th>belongs_to_collection</th>\n",
       "      <th>budget</th>\n",
       "      <th>genres</th>\n",
       "      <th>imdb_id</th>\n",
       "      <th>popularity</th>\n",
       "      <th>production_companies</th>\n",
       "      <th>production_countries</th>\n",
       "      <th>release_date</th>\n",
       "      <th>runtime</th>\n",
       "      <th>spoken_languages</th>\n",
       "      <th>keywords</th>\n",
       "      <th>cast</th>\n",
       "      <th>crew</th>\n",
       "      <th>revenue</th>\n",
       "    </tr>\n",
       "  </thead>\n",
       "  <tbody>\n",
       "    <tr>\n",
       "      <th>count</th>\n",
       "      <td>3000</td>\n",
       "      <td>3.000000e+03</td>\n",
       "      <td>3000</td>\n",
       "      <td>3000</td>\n",
       "      <td>3000.000000</td>\n",
       "      <td>3000</td>\n",
       "      <td>3000</td>\n",
       "      <td>3000</td>\n",
       "      <td>2998.000000</td>\n",
       "      <td>3000</td>\n",
       "      <td>3000</td>\n",
       "      <td>3000</td>\n",
       "      <td>3000</td>\n",
       "      <td>3.000000e+03</td>\n",
       "    </tr>\n",
       "    <tr>\n",
       "      <th>unique</th>\n",
       "      <td>423</td>\n",
       "      <td>NaN</td>\n",
       "      <td>873</td>\n",
       "      <td>3000</td>\n",
       "      <td>NaN</td>\n",
       "      <td>2384</td>\n",
       "      <td>322</td>\n",
       "      <td>2398</td>\n",
       "      <td>NaN</td>\n",
       "      <td>402</td>\n",
       "      <td>2649</td>\n",
       "      <td>2976</td>\n",
       "      <td>2985</td>\n",
       "      <td>NaN</td>\n",
       "    </tr>\n",
       "    <tr>\n",
       "      <th>top</th>\n",
       "      <td>{}</td>\n",
       "      <td>NaN</td>\n",
       "      <td>[{'id': 18, 'name': 'Drama'}]</td>\n",
       "      <td>tt0120836</td>\n",
       "      <td>NaN</td>\n",
       "      <td>{}</td>\n",
       "      <td>[{'iso_3166_1': 'US', 'name': 'United States o...</td>\n",
       "      <td>9/10/10</td>\n",
       "      <td>NaN</td>\n",
       "      <td>[{'iso_639_1': 'en', 'name': 'English'}]</td>\n",
       "      <td>{}</td>\n",
       "      <td>{}</td>\n",
       "      <td>{}</td>\n",
       "      <td>NaN</td>\n",
       "    </tr>\n",
       "    <tr>\n",
       "      <th>freq</th>\n",
       "      <td>2396</td>\n",
       "      <td>NaN</td>\n",
       "      <td>266</td>\n",
       "      <td>1</td>\n",
       "      <td>NaN</td>\n",
       "      <td>156</td>\n",
       "      <td>1752</td>\n",
       "      <td>5</td>\n",
       "      <td>NaN</td>\n",
       "      <td>1817</td>\n",
       "      <td>276</td>\n",
       "      <td>13</td>\n",
       "      <td>16</td>\n",
       "      <td>NaN</td>\n",
       "    </tr>\n",
       "    <tr>\n",
       "      <th>mean</th>\n",
       "      <td>NaN</td>\n",
       "      <td>2.253133e+07</td>\n",
       "      <td>NaN</td>\n",
       "      <td>NaN</td>\n",
       "      <td>8.463274</td>\n",
       "      <td>NaN</td>\n",
       "      <td>NaN</td>\n",
       "      <td>NaN</td>\n",
       "      <td>107.856571</td>\n",
       "      <td>NaN</td>\n",
       "      <td>NaN</td>\n",
       "      <td>NaN</td>\n",
       "      <td>NaN</td>\n",
       "      <td>6.672585e+07</td>\n",
       "    </tr>\n",
       "    <tr>\n",
       "      <th>std</th>\n",
       "      <td>NaN</td>\n",
       "      <td>3.702609e+07</td>\n",
       "      <td>NaN</td>\n",
       "      <td>NaN</td>\n",
       "      <td>12.104000</td>\n",
       "      <td>NaN</td>\n",
       "      <td>NaN</td>\n",
       "      <td>NaN</td>\n",
       "      <td>22.086434</td>\n",
       "      <td>NaN</td>\n",
       "      <td>NaN</td>\n",
       "      <td>NaN</td>\n",
       "      <td>NaN</td>\n",
       "      <td>1.375323e+08</td>\n",
       "    </tr>\n",
       "    <tr>\n",
       "      <th>min</th>\n",
       "      <td>NaN</td>\n",
       "      <td>0.000000e+00</td>\n",
       "      <td>NaN</td>\n",
       "      <td>NaN</td>\n",
       "      <td>0.000001</td>\n",
       "      <td>NaN</td>\n",
       "      <td>NaN</td>\n",
       "      <td>NaN</td>\n",
       "      <td>0.000000</td>\n",
       "      <td>NaN</td>\n",
       "      <td>NaN</td>\n",
       "      <td>NaN</td>\n",
       "      <td>NaN</td>\n",
       "      <td>1.000000e+00</td>\n",
       "    </tr>\n",
       "    <tr>\n",
       "      <th>25%</th>\n",
       "      <td>NaN</td>\n",
       "      <td>0.000000e+00</td>\n",
       "      <td>NaN</td>\n",
       "      <td>NaN</td>\n",
       "      <td>4.018053</td>\n",
       "      <td>NaN</td>\n",
       "      <td>NaN</td>\n",
       "      <td>NaN</td>\n",
       "      <td>94.000000</td>\n",
       "      <td>NaN</td>\n",
       "      <td>NaN</td>\n",
       "      <td>NaN</td>\n",
       "      <td>NaN</td>\n",
       "      <td>2.379808e+06</td>\n",
       "    </tr>\n",
       "    <tr>\n",
       "      <th>50%</th>\n",
       "      <td>NaN</td>\n",
       "      <td>8.000000e+06</td>\n",
       "      <td>NaN</td>\n",
       "      <td>NaN</td>\n",
       "      <td>7.374861</td>\n",
       "      <td>NaN</td>\n",
       "      <td>NaN</td>\n",
       "      <td>NaN</td>\n",
       "      <td>104.000000</td>\n",
       "      <td>NaN</td>\n",
       "      <td>NaN</td>\n",
       "      <td>NaN</td>\n",
       "      <td>NaN</td>\n",
       "      <td>1.680707e+07</td>\n",
       "    </tr>\n",
       "    <tr>\n",
       "      <th>75%</th>\n",
       "      <td>NaN</td>\n",
       "      <td>2.900000e+07</td>\n",
       "      <td>NaN</td>\n",
       "      <td>NaN</td>\n",
       "      <td>10.890983</td>\n",
       "      <td>NaN</td>\n",
       "      <td>NaN</td>\n",
       "      <td>NaN</td>\n",
       "      <td>118.000000</td>\n",
       "      <td>NaN</td>\n",
       "      <td>NaN</td>\n",
       "      <td>NaN</td>\n",
       "      <td>NaN</td>\n",
       "      <td>6.891920e+07</td>\n",
       "    </tr>\n",
       "    <tr>\n",
       "      <th>max</th>\n",
       "      <td>NaN</td>\n",
       "      <td>3.800000e+08</td>\n",
       "      <td>NaN</td>\n",
       "      <td>NaN</td>\n",
       "      <td>294.337037</td>\n",
       "      <td>NaN</td>\n",
       "      <td>NaN</td>\n",
       "      <td>NaN</td>\n",
       "      <td>338.000000</td>\n",
       "      <td>NaN</td>\n",
       "      <td>NaN</td>\n",
       "      <td>NaN</td>\n",
       "      <td>NaN</td>\n",
       "      <td>1.519558e+09</td>\n",
       "    </tr>\n",
       "  </tbody>\n",
       "</table>\n",
       "</div>"
      ],
      "text/plain": [
       "       belongs_to_collection        budget                         genres  \\\n",
       "count                   3000  3.000000e+03                           3000   \n",
       "unique                   423           NaN                            873   \n",
       "top                       {}           NaN  [{'id': 18, 'name': 'Drama'}]   \n",
       "freq                    2396           NaN                            266   \n",
       "mean                     NaN  2.253133e+07                            NaN   \n",
       "std                      NaN  3.702609e+07                            NaN   \n",
       "min                      NaN  0.000000e+00                            NaN   \n",
       "25%                      NaN  0.000000e+00                            NaN   \n",
       "50%                      NaN  8.000000e+06                            NaN   \n",
       "75%                      NaN  2.900000e+07                            NaN   \n",
       "max                      NaN  3.800000e+08                            NaN   \n",
       "\n",
       "          imdb_id   popularity production_companies  \\\n",
       "count        3000  3000.000000                 3000   \n",
       "unique       3000          NaN                 2384   \n",
       "top     tt0120836          NaN                   {}   \n",
       "freq            1          NaN                  156   \n",
       "mean          NaN     8.463274                  NaN   \n",
       "std           NaN    12.104000                  NaN   \n",
       "min           NaN     0.000001                  NaN   \n",
       "25%           NaN     4.018053                  NaN   \n",
       "50%           NaN     7.374861                  NaN   \n",
       "75%           NaN    10.890983                  NaN   \n",
       "max           NaN   294.337037                  NaN   \n",
       "\n",
       "                                     production_countries release_date  \\\n",
       "count                                                3000         3000   \n",
       "unique                                                322         2398   \n",
       "top     [{'iso_3166_1': 'US', 'name': 'United States o...      9/10/10   \n",
       "freq                                                 1752            5   \n",
       "mean                                                  NaN          NaN   \n",
       "std                                                   NaN          NaN   \n",
       "min                                                   NaN          NaN   \n",
       "25%                                                   NaN          NaN   \n",
       "50%                                                   NaN          NaN   \n",
       "75%                                                   NaN          NaN   \n",
       "max                                                   NaN          NaN   \n",
       "\n",
       "            runtime                          spoken_languages keywords  cast  \\\n",
       "count   2998.000000                                      3000     3000  3000   \n",
       "unique          NaN                                       402     2649  2976   \n",
       "top             NaN  [{'iso_639_1': 'en', 'name': 'English'}]       {}    {}   \n",
       "freq            NaN                                      1817      276    13   \n",
       "mean     107.856571                                       NaN      NaN   NaN   \n",
       "std       22.086434                                       NaN      NaN   NaN   \n",
       "min        0.000000                                       NaN      NaN   NaN   \n",
       "25%       94.000000                                       NaN      NaN   NaN   \n",
       "50%      104.000000                                       NaN      NaN   NaN   \n",
       "75%      118.000000                                       NaN      NaN   NaN   \n",
       "max      338.000000                                       NaN      NaN   NaN   \n",
       "\n",
       "        crew       revenue  \n",
       "count   3000  3.000000e+03  \n",
       "unique  2985           NaN  \n",
       "top       {}           NaN  \n",
       "freq      16           NaN  \n",
       "mean     NaN  6.672585e+07  \n",
       "std      NaN  1.375323e+08  \n",
       "min      NaN  1.000000e+00  \n",
       "25%      NaN  2.379808e+06  \n",
       "50%      NaN  1.680707e+07  \n",
       "75%      NaN  6.891920e+07  \n",
       "max      NaN  1.519558e+09  "
      ]
     },
     "execution_count": 31,
     "metadata": {},
     "output_type": "execute_result"
    }
   ],
   "source": [
    "df.describe(include='all')"
   ]
  },
  {
   "cell_type": "markdown",
   "metadata": {},
   "source": [
    "### Manipolazione delle features strutturate"
   ]
  },
  {
   "cell_type": "markdown",
   "metadata": {},
   "source": [
    "Come accennato in precedenza, nel dataframe sono presenti alcune **features strutturate**.\n",
    "**In particolare**, esse sono: `belongs_to_collection`, `genres`, `production_companies`, `production_countries`, `spoken_languages`, `keywords`, `cast` e `crew`. \n",
    "\n",
    "Entriamo nel dettaglio analizzandole e **semplificandole, se possibile**. "
   ]
  },
  {
   "cell_type": "markdown",
   "metadata": {},
   "source": [
    "#### Come sono strutturate tali features?"
   ]
  },
  {
   "cell_type": "code",
   "execution_count": 32,
   "metadata": {},
   "outputs": [
    {
     "data": {
      "text/plain": [
       "[{'id': 107674,\n",
       "  'name': 'The Princess Diaries Collection',\n",
       "  'poster_path': '/wt5AMbxPTS4Kfjx7Fgm149qPfZl.jpg',\n",
       "  'backdrop_path': '/zSEtYD77pKRJlUPx34BJgUG9v1c.jpg'}]"
      ]
     },
     "execution_count": 32,
     "metadata": {},
     "output_type": "execute_result"
    }
   ],
   "source": [
    "# Seleziono la prima entry e prendo il valore di belongs to collection\n",
    "df['belongs_to_collection'][1]"
   ]
  },
  {
   "cell_type": "code",
   "execution_count": 33,
   "metadata": {},
   "outputs": [
    {
     "data": {
      "text/plain": [
       "[{'id': 35, 'name': 'Comedy'},\n",
       " {'id': 18, 'name': 'Drama'},\n",
       " {'id': 10751, 'name': 'Family'},\n",
       " {'id': 10749, 'name': 'Romance'}]"
      ]
     },
     "execution_count": 33,
     "metadata": {},
     "output_type": "execute_result"
    }
   ],
   "source": [
    "df['genres'][1]"
   ]
  },
  {
   "cell_type": "code",
   "execution_count": 34,
   "metadata": {},
   "outputs": [
    {
     "data": {
      "text/plain": [
       "[{'name': 'Walt Disney Pictures', 'id': 2}]"
      ]
     },
     "execution_count": 34,
     "metadata": {},
     "output_type": "execute_result"
    }
   ],
   "source": [
    "df['production_companies'][1]"
   ]
  },
  {
   "cell_type": "code",
   "execution_count": 35,
   "metadata": {},
   "outputs": [
    {
     "data": {
      "text/plain": [
       "[{'iso_3166_1': 'US', 'name': 'United States of America'}]"
      ]
     },
     "execution_count": 35,
     "metadata": {},
     "output_type": "execute_result"
    }
   ],
   "source": [
    "df['production_countries'][1]"
   ]
  },
  {
   "cell_type": "code",
   "execution_count": 36,
   "metadata": {},
   "outputs": [
    {
     "data": {
      "text/plain": [
       "[{'iso_639_1': 'en', 'name': 'English'}]"
      ]
     },
     "execution_count": 36,
     "metadata": {},
     "output_type": "execute_result"
    }
   ],
   "source": [
    "df['spoken_languages'][1]"
   ]
  },
  {
   "cell_type": "code",
   "execution_count": 37,
   "metadata": {},
   "outputs": [
    {
     "data": {
      "text/plain": [
       "[{'id': 2505, 'name': 'coronation'},\n",
       " {'id': 4263, 'name': 'duty'},\n",
       " {'id': 6038, 'name': 'marriage'},\n",
       " {'id': 13072, 'name': 'falling in love'}]"
      ]
     },
     "execution_count": 37,
     "metadata": {},
     "output_type": "execute_result"
    }
   ],
   "source": [
    "df['keywords'][1]"
   ]
  },
  {
   "cell_type": "markdown",
   "metadata": {},
   "source": [
    "**Osservazioni**: notiamo che tutti i dati strutturati sono **composti da più valori**, ma tutti hanno `name` in comune.\n",
    "In particolare:\n",
    "- `belongs_to_collection`: ci interessa ben poco delle immagini\n",
    "- `genres`: non ci serve l'id\n",
    "- `production_companies`: non ci interessa l'id\n",
    "- `production_countries`: non ci interessa l'abbreviazione iso_639_1\n",
    "- `keywords`: l'id ancora una volta non è utile. \n",
    "\n",
    "Possiamo quindi **modificare tali dati strutturati** eliminando le informazioni superflue. "
   ]
  },
  {
   "cell_type": "markdown",
   "metadata": {},
   "source": [
    "#### Modifica dei dati strutturati\n",
    "Ora che sappiamo cosa ci è utile, andiamo a **semplificare i nostri dati strutturati** in modo che essi siano più semplici da utilizzare. \n",
    "A tale scopo, vogliamo ottenere delle liste."
   ]
  },
  {
   "cell_type": "code",
   "execution_count": 38,
   "metadata": {},
   "outputs": [],
   "source": [
    "# Lista delle colonne da modificare\n",
    "columns_to_change = [\"belongs_to_collection\", \"genres\", \"production_companies\", \n",
    "                     \"production_countries\", \"spoken_languages\", \"keywords\"]"
   ]
  },
  {
   "cell_type": "code",
   "execution_count": 39,
   "metadata": {},
   "outputs": [],
   "source": [
    "# Per ogni colonna da modificare, si esegue la procedura convert. (Vedere funzioni utili ad inizio documento)\n",
    "for column in columns_to_change:                    # Per ogni colonna da modificare\n",
    "    df[column] = df[column].apply(convert)          # Applica la funzione convert"
   ]
  },
  {
   "cell_type": "markdown",
   "metadata": {},
   "source": [
    "#### Rivalutare nuovamente il dataframe\n",
    "Arrivati a questo punto, **le nostre features modificate contendono liste di valori**."
   ]
  },
  {
   "cell_type": "code",
   "execution_count": 40,
   "metadata": {},
   "outputs": [
    {
     "data": {
      "text/plain": [
       "['The Princess Diaries Collection']"
      ]
     },
     "execution_count": 40,
     "metadata": {},
     "output_type": "execute_result"
    }
   ],
   "source": [
    "# Seleziono la prima entry e prendo il valore di belongs to collection\n",
    "df['belongs_to_collection'][1]"
   ]
  },
  {
   "cell_type": "code",
   "execution_count": 41,
   "metadata": {},
   "outputs": [
    {
     "data": {
      "text/plain": [
       "['Comedy', 'Drama', 'Family', 'Romance']"
      ]
     },
     "execution_count": 41,
     "metadata": {},
     "output_type": "execute_result"
    }
   ],
   "source": [
    "df['genres'][1]"
   ]
  },
  {
   "cell_type": "code",
   "execution_count": 42,
   "metadata": {},
   "outputs": [
    {
     "data": {
      "text/plain": [
       "['Walt Disney Pictures']"
      ]
     },
     "execution_count": 42,
     "metadata": {},
     "output_type": "execute_result"
    }
   ],
   "source": [
    "df['production_companies'][1]"
   ]
  },
  {
   "cell_type": "code",
   "execution_count": 43,
   "metadata": {},
   "outputs": [
    {
     "data": {
      "text/plain": [
       "['United States of America']"
      ]
     },
     "execution_count": 43,
     "metadata": {},
     "output_type": "execute_result"
    }
   ],
   "source": [
    "df['production_countries'][1]"
   ]
  },
  {
   "cell_type": "code",
   "execution_count": 44,
   "metadata": {},
   "outputs": [
    {
     "data": {
      "text/plain": [
       "['English']"
      ]
     },
     "execution_count": 44,
     "metadata": {},
     "output_type": "execute_result"
    }
   ],
   "source": [
    "df['spoken_languages'][1]"
   ]
  },
  {
   "cell_type": "code",
   "execution_count": 45,
   "metadata": {},
   "outputs": [
    {
     "data": {
      "text/plain": [
       "['coronation', 'duty', 'marriage', 'falling in love']"
      ]
     },
     "execution_count": 45,
     "metadata": {},
     "output_type": "execute_result"
    }
   ],
   "source": [
    "df['keywords'][1]"
   ]
  },
  {
   "cell_type": "markdown",
   "metadata": {},
   "source": [
    "#### Cast\n",
    "Analizziamo la features `cast`."
   ]
  },
  {
   "cell_type": "code",
   "execution_count": 46,
   "metadata": {
    "scrolled": false
   },
   "outputs": [
    {
     "data": {
      "text/plain": [
       "[{'cast_id': 46,\n",
       "  'character': 'Tony Stark / Iron Man',\n",
       "  'credit_id': '52fe4495c3a368484e02b251',\n",
       "  'gender': 2,\n",
       "  'id': 3223,\n",
       "  'name': 'Robert Downey Jr.',\n",
       "  'order': 0,\n",
       "  'profile_path': '/1YjdSym1jTG7xjHSI0yGGWEsw5i.jpg'},\n",
       " {'cast_id': 2,\n",
       "  'character': 'Steve Rogers / Captain America',\n",
       "  'credit_id': '52fe4495c3a368484e02b19b',\n",
       "  'gender': 2,\n",
       "  'id': 16828,\n",
       "  'name': 'Chris Evans',\n",
       "  'order': 1,\n",
       "  'profile_path': '/8CgFKCZJVwZxa1F88n8drEux0vT.jpg'},\n",
       " {'cast_id': 32,\n",
       "  'character': 'Bruce Banner / The Hulk',\n",
       "  'credit_id': '52fe4495c3a368484e02b221',\n",
       "  'gender': 2,\n",
       "  'id': 103,\n",
       "  'name': 'Mark Ruffalo',\n",
       "  'order': 2,\n",
       "  'profile_path': '/zdM6RgCR5LpZwnL8UA3m7CfVpiq.jpg'}]"
      ]
     },
     "execution_count": 46,
     "metadata": {},
     "output_type": "execute_result"
    }
   ],
   "source": [
    "# 1126 è l'id di un film a noi noto (the avengers)\n",
    "df['cast'][1126][0:3]   # per motivi di output, abbiamo stampato solo i primi 3 elementi"
   ]
  },
  {
   "cell_type": "markdown",
   "metadata": {},
   "source": [
    "Cosa si può notare? Notiamo che **il cast ha un ordine**. \n",
    "Ci siamo chiesti: quest'ordine significa qualcosa? **Gli attori con ordine più basso sono gli attori principali?**\n",
    "Analizzando anche altri film a noi noti, abbiamo visto che **questa** nostra **teoria sembra corretta**. \n",
    "\n",
    "Riteniamo che il `nome` dell'attore sia sufficiente per aiutarci nel nostro scopo... si potrebbe pensare di mantenere anche il campo `order`, in quanto lo stesso attore avrà contribuito maggiormente in un film in cui l'`order` è più basso, ma è più complesso da gestire. \n",
    "\n",
    "Andiamo quindi a modificare la features `cast` estrapolando solo il `nome` degli attori e mantenendo i 5 attori più rilevanti per ogni film. "
   ]
  },
  {
   "cell_type": "code",
   "execution_count": 47,
   "metadata": {},
   "outputs": [],
   "source": [
    "df['cast'] = df['cast'].apply(convert) # funzione convert utilizzata anche precedentemente"
   ]
  },
  {
   "cell_type": "code",
   "execution_count": 48,
   "metadata": {},
   "outputs": [],
   "source": [
    "cast_count = elem_in_column_counter(df, 'cast')        # ritorna un dataframe\n",
    "df = pd.concat([df, cast_count], axis = \"columns\")  # Si concatena il dataframe con il train"
   ]
  },
  {
   "cell_type": "code",
   "execution_count": 49,
   "metadata": {},
   "outputs": [],
   "source": [
    "select_first_k(df, 'cast', 5)"
   ]
  },
  {
   "cell_type": "code",
   "execution_count": 50,
   "metadata": {
    "scrolled": false
   },
   "outputs": [
    {
     "data": {
      "text/plain": [
       "['Robert Downey Jr.',\n",
       " 'Chris Evans',\n",
       " 'Mark Ruffalo',\n",
       " 'Chris Hemsworth',\n",
       " 'Scarlett Johansson']"
      ]
     },
     "execution_count": 50,
     "metadata": {},
     "output_type": "execute_result"
    }
   ],
   "source": [
    "df['cast'][1126][0:10]"
   ]
  },
  {
   "cell_type": "markdown",
   "metadata": {},
   "source": [
    "#### Crew\n",
    "Analizziamo la features `crew`."
   ]
  },
  {
   "cell_type": "code",
   "execution_count": 51,
   "metadata": {
    "scrolled": false
   },
   "outputs": [
    {
     "data": {
      "text/plain": [
       "[{'credit_id': '52fe4495c3a368484e02b1cf',\n",
       "  'department': 'Sound',\n",
       "  'gender': 2,\n",
       "  'id': 37,\n",
       "  'job': 'Original Music Composer',\n",
       "  'name': 'Alan Silvestri',\n",
       "  'profile_path': '/chEsfnDEtRmv1bfOaNAoVEzhCc6.jpg'},\n",
       " {'credit_id': '5496018d9251416e1e0047c3',\n",
       "  'department': 'Sound',\n",
       "  'gender': 0,\n",
       "  'id': 900,\n",
       "  'job': 'Sound Designer',\n",
       "  'name': 'Christopher Boyes',\n",
       "  'profile_path': '/qPYrAJif2AYqgUckgE9bEkjrdVw.jpg'},\n",
       " {'credit_id': '549601ad9251412c4e00333b',\n",
       "  'department': 'Sound',\n",
       "  'gender': 0,\n",
       "  'id': 900,\n",
       "  'job': 'Sound Re-Recording Mixer',\n",
       "  'name': 'Christopher Boyes',\n",
       "  'profile_path': '/qPYrAJif2AYqgUckgE9bEkjrdVw.jpg'},\n",
       " {'credit_id': '56472df0c3a368261a0031bb',\n",
       "  'department': 'Camera',\n",
       "  'gender': 0,\n",
       "  'id': 3285,\n",
       "  'job': 'Director of Photography',\n",
       "  'name': 'Seamus McGarvey',\n",
       "  'profile_path': '/yXEsxEMHlMDemBy8JrHZFAmd3uD.jpg'},\n",
       " {'credit_id': '539c4d08c3a36810c100214e',\n",
       "  'department': 'Production',\n",
       "  'gender': 1,\n",
       "  'id': 7232,\n",
       "  'job': 'Casting',\n",
       "  'name': 'Sarah Finn',\n",
       "  'profile_path': None}]"
      ]
     },
     "execution_count": 51,
     "metadata": {},
     "output_type": "execute_result"
    }
   ],
   "source": [
    "# 1126 è l'id di un film a noi noto (the avengers)\n",
    "df['crew'][1126][0:5]   # per motivi di output, abbiamo stampato solo i primi 5 elementi"
   ]
  },
  {
   "cell_type": "markdown",
   "metadata": {},
   "source": [
    "Cosa si può notare? Notiamo che **ogni membro della crew ha un dipartimento**. \n",
    "Fra le varie tipologie, notiamo sicuramente il regista. \n",
    "\n",
    "Riteniamo che il `nome` del regista sia significativo, per cui lo manteniamo, mentre il resto della crew la codifichiamo in un numero decimale indicante il numero di componenti della crew, in quanto risulterebbe troppo complesso mantenere una colonna per ogni dipartimento. \n",
    "\n",
    "Andiamo quindi a modificare la features `crew` estrapolando solo il `nome` del regista e il numero di componenti della crew. "
   ]
  },
  {
   "cell_type": "code",
   "execution_count": 52,
   "metadata": {},
   "outputs": [],
   "source": [
    "df['crew'] = df['crew'].apply(convert_crew)   # funzione convert utilizzata anche precedentemente"
   ]
  },
  {
   "cell_type": "code",
   "execution_count": 53,
   "metadata": {},
   "outputs": [
    {
     "data": {
      "text/plain": [
       "['Joe Swanberg', 19]"
      ]
     },
     "execution_count": 53,
     "metadata": {},
     "output_type": "execute_result"
    }
   ],
   "source": [
    "df['crew'][22]"
   ]
  },
  {
   "cell_type": "code",
   "execution_count": 54,
   "metadata": {},
   "outputs": [],
   "source": [
    "crew_dataframe = df['crew'].apply(pd.Series)                                    # Separzione in colonne\n",
    "crew_dataframe.rename(columns={0: 'director', 1: 'crew_count'}, inplace=True)      # Rinominazione colonne\n",
    "crew_dataframe['crew_count']=crew_dataframe['crew_count'].mask(crew_dataframe['crew_count'].isna(), 0) # Eliminazione dei NaN\n",
    "\n",
    "crew_dataframe.director = crew_dataframe.director.astype(str)  \n",
    "crew_dataframe['director'] = crew_dataframe.apply(lambda row: row['director'].strip('[]').replace('\"', '').replace(' ', '').split(','),axis=1)    # Trasformazione della stirnga in lista\n",
    "crew_dataframe.crew_count = crew_dataframe.crew_count.astype(int) # Cast to int del conteggio"
   ]
  },
  {
   "cell_type": "code",
   "execution_count": 55,
   "metadata": {},
   "outputs": [],
   "source": [
    "for i in range(0, len(crew_dataframe)):\n",
    "    elem = crew_dataframe['director'][i]\n",
    "    if len(elem) and elem[0]=='0.0':\n",
    "        crew_dataframe['director'][i].clear()"
   ]
  },
  {
   "cell_type": "code",
   "execution_count": 56,
   "metadata": {
    "scrolled": false
   },
   "outputs": [
    {
     "name": "stdout",
     "output_type": "stream",
     "text": [
      "<class 'pandas.core.frame.DataFrame'>\n",
      "RangeIndex: 3000 entries, 0 to 2999\n",
      "Data columns (total 2 columns):\n",
      " #   Column      Non-Null Count  Dtype \n",
      "---  ------      --------------  ----- \n",
      " 0   director    3000 non-null   object\n",
      " 1   crew_count  3000 non-null   int32 \n",
      "dtypes: int32(1), object(1)\n",
      "memory usage: 35.3+ KB\n"
     ]
    }
   ],
   "source": [
    "crew_dataframe.info()"
   ]
  },
  {
   "cell_type": "code",
   "execution_count": 57,
   "metadata": {},
   "outputs": [
    {
     "data": {
      "text/html": [
       "<div>\n",
       "<style scoped>\n",
       "    .dataframe tbody tr th:only-of-type {\n",
       "        vertical-align: middle;\n",
       "    }\n",
       "\n",
       "    .dataframe tbody tr th {\n",
       "        vertical-align: top;\n",
       "    }\n",
       "\n",
       "    .dataframe thead th {\n",
       "        text-align: right;\n",
       "    }\n",
       "</style>\n",
       "<table border=\"1\" class=\"dataframe\">\n",
       "  <thead>\n",
       "    <tr style=\"text-align: right;\">\n",
       "      <th></th>\n",
       "      <th>belongs_to_collection</th>\n",
       "      <th>budget</th>\n",
       "      <th>genres</th>\n",
       "      <th>imdb_id</th>\n",
       "      <th>popularity</th>\n",
       "      <th>production_companies</th>\n",
       "      <th>production_countries</th>\n",
       "      <th>release_date</th>\n",
       "      <th>runtime</th>\n",
       "      <th>spoken_languages</th>\n",
       "      <th>keywords</th>\n",
       "      <th>cast</th>\n",
       "      <th>revenue</th>\n",
       "      <th>cast_count</th>\n",
       "      <th>director</th>\n",
       "      <th>crew_count</th>\n",
       "    </tr>\n",
       "  </thead>\n",
       "  <tbody>\n",
       "    <tr>\n",
       "      <th>0</th>\n",
       "      <td>[Hot Tub Time Machine Collection]</td>\n",
       "      <td>14000000</td>\n",
       "      <td>[Comedy]</td>\n",
       "      <td>tt2637294</td>\n",
       "      <td>6.575393</td>\n",
       "      <td>[Paramount Pictures, United Artists, Metro-Gol...</td>\n",
       "      <td>[United States of America]</td>\n",
       "      <td>2/20/15</td>\n",
       "      <td>93.0</td>\n",
       "      <td>[English]</td>\n",
       "      <td>[time travel, sequel, hot tub, duringcreditsst...</td>\n",
       "      <td>[Rob Corddry, Craig Robinson, Clark Duke, Adam...</td>\n",
       "      <td>12314651</td>\n",
       "      <td>24</td>\n",
       "      <td>[StevePink]</td>\n",
       "      <td>72</td>\n",
       "    </tr>\n",
       "    <tr>\n",
       "      <th>1</th>\n",
       "      <td>[The Princess Diaries Collection]</td>\n",
       "      <td>40000000</td>\n",
       "      <td>[Comedy, Drama, Family, Romance]</td>\n",
       "      <td>tt0368933</td>\n",
       "      <td>8.248895</td>\n",
       "      <td>[Walt Disney Pictures]</td>\n",
       "      <td>[United States of America]</td>\n",
       "      <td>8/6/04</td>\n",
       "      <td>113.0</td>\n",
       "      <td>[English]</td>\n",
       "      <td>[coronation, duty, marriage, falling in love]</td>\n",
       "      <td>[Anne Hathaway, Julie Andrews, H√©ctor Elizond...</td>\n",
       "      <td>95149435</td>\n",
       "      <td>20</td>\n",
       "      <td>[GarryMarshall]</td>\n",
       "      <td>9</td>\n",
       "    </tr>\n",
       "    <tr>\n",
       "      <th>2</th>\n",
       "      <td>[]</td>\n",
       "      <td>3300000</td>\n",
       "      <td>[Drama]</td>\n",
       "      <td>tt2582802</td>\n",
       "      <td>64.299990</td>\n",
       "      <td>[Bold Films, Blumhouse Productions, Right of W...</td>\n",
       "      <td>[United States of America]</td>\n",
       "      <td>10/10/14</td>\n",
       "      <td>105.0</td>\n",
       "      <td>[English]</td>\n",
       "      <td>[jazz, obsession, conservatory, music teacher,...</td>\n",
       "      <td>[Miles Teller, J.K. Simmons, Melissa Benoist, ...</td>\n",
       "      <td>13092000</td>\n",
       "      <td>51</td>\n",
       "      <td>[DamienChazelle]</td>\n",
       "      <td>64</td>\n",
       "    </tr>\n",
       "    <tr>\n",
       "      <th>3</th>\n",
       "      <td>[]</td>\n",
       "      <td>1200000</td>\n",
       "      <td>[Thriller, Drama]</td>\n",
       "      <td>tt1821480</td>\n",
       "      <td>3.174936</td>\n",
       "      <td>[]</td>\n",
       "      <td>[India]</td>\n",
       "      <td>3/9/12</td>\n",
       "      <td>122.0</td>\n",
       "      <td>[English, हिन्दी]</td>\n",
       "      <td>[mystery, bollywood, police corruption, crime,...</td>\n",
       "      <td>[Vidya Balan, Nawazuddin Siddiqui, Parambrata ...</td>\n",
       "      <td>16000000</td>\n",
       "      <td>7</td>\n",
       "      <td>[SujoyGhosh]</td>\n",
       "      <td>3</td>\n",
       "    </tr>\n",
       "    <tr>\n",
       "      <th>4</th>\n",
       "      <td>[]</td>\n",
       "      <td>0</td>\n",
       "      <td>[Action, Thriller]</td>\n",
       "      <td>tt1380152</td>\n",
       "      <td>1.148070</td>\n",
       "      <td>[]</td>\n",
       "      <td>[South Korea]</td>\n",
       "      <td>2/5/09</td>\n",
       "      <td>118.0</td>\n",
       "      <td>[한국어/조선말]</td>\n",
       "      <td>[]</td>\n",
       "      <td>[Kim Kang-woo, Jo Jae-hyeon, Park Si-yeon, Kim...</td>\n",
       "      <td>3923970</td>\n",
       "      <td>4</td>\n",
       "      <td>[Jong-seokYoon]</td>\n",
       "      <td>2</td>\n",
       "    </tr>\n",
       "  </tbody>\n",
       "</table>\n",
       "</div>"
      ],
      "text/plain": [
       "               belongs_to_collection    budget  \\\n",
       "0  [Hot Tub Time Machine Collection]  14000000   \n",
       "1  [The Princess Diaries Collection]  40000000   \n",
       "2                                 []   3300000   \n",
       "3                                 []   1200000   \n",
       "4                                 []         0   \n",
       "\n",
       "                             genres    imdb_id  popularity  \\\n",
       "0                          [Comedy]  tt2637294    6.575393   \n",
       "1  [Comedy, Drama, Family, Romance]  tt0368933    8.248895   \n",
       "2                           [Drama]  tt2582802   64.299990   \n",
       "3                 [Thriller, Drama]  tt1821480    3.174936   \n",
       "4                [Action, Thriller]  tt1380152    1.148070   \n",
       "\n",
       "                                production_companies  \\\n",
       "0  [Paramount Pictures, United Artists, Metro-Gol...   \n",
       "1                             [Walt Disney Pictures]   \n",
       "2  [Bold Films, Blumhouse Productions, Right of W...   \n",
       "3                                                 []   \n",
       "4                                                 []   \n",
       "\n",
       "         production_countries release_date  runtime   spoken_languages  \\\n",
       "0  [United States of America]      2/20/15     93.0          [English]   \n",
       "1  [United States of America]       8/6/04    113.0          [English]   \n",
       "2  [United States of America]     10/10/14    105.0          [English]   \n",
       "3                     [India]       3/9/12    122.0  [English, हिन्दी]   \n",
       "4               [South Korea]       2/5/09    118.0          [한국어/조선말]   \n",
       "\n",
       "                                            keywords  \\\n",
       "0  [time travel, sequel, hot tub, duringcreditsst...   \n",
       "1      [coronation, duty, marriage, falling in love]   \n",
       "2  [jazz, obsession, conservatory, music teacher,...   \n",
       "3  [mystery, bollywood, police corruption, crime,...   \n",
       "4                                                 []   \n",
       "\n",
       "                                                cast   revenue  cast_count  \\\n",
       "0  [Rob Corddry, Craig Robinson, Clark Duke, Adam...  12314651          24   \n",
       "1  [Anne Hathaway, Julie Andrews, H√©ctor Elizond...  95149435          20   \n",
       "2  [Miles Teller, J.K. Simmons, Melissa Benoist, ...  13092000          51   \n",
       "3  [Vidya Balan, Nawazuddin Siddiqui, Parambrata ...  16000000           7   \n",
       "4  [Kim Kang-woo, Jo Jae-hyeon, Park Si-yeon, Kim...   3923970           4   \n",
       "\n",
       "           director  crew_count  \n",
       "0       [StevePink]          72  \n",
       "1   [GarryMarshall]           9  \n",
       "2  [DamienChazelle]          64  \n",
       "3      [SujoyGhosh]           3  \n",
       "4   [Jong-seokYoon]           2  "
      ]
     },
     "execution_count": 57,
     "metadata": {},
     "output_type": "execute_result"
    }
   ],
   "source": [
    "df = pd.concat([df, crew_dataframe], axis = \"columns\")\n",
    "df.drop('crew', axis='columns', inplace = True)\n",
    "df.head()"
   ]
  },
  {
   "cell_type": "markdown",
   "metadata": {},
   "source": [
    "## Analisi delle Features e sistemazione dei valori pre-splitting\n",
    "Arrivati a questo punto, il nostro dataframe dovrebbe essere molto più **maneggevole** ma spesso non **contiene dati corretti**. \n",
    "Di seguito andremo ad **analizzare le singole features rimaste**, visualizzando i **dati**, eventualmente **sistemandoli** includendo dati presi dall'esterno o applicando operazioni costati."
   ]
  },
  {
   "cell_type": "code",
   "execution_count": 58,
   "metadata": {},
   "outputs": [
    {
     "data": {
      "text/html": [
       "<div>\n",
       "<style scoped>\n",
       "    .dataframe tbody tr th:only-of-type {\n",
       "        vertical-align: middle;\n",
       "    }\n",
       "\n",
       "    .dataframe tbody tr th {\n",
       "        vertical-align: top;\n",
       "    }\n",
       "\n",
       "    .dataframe thead th {\n",
       "        text-align: right;\n",
       "    }\n",
       "</style>\n",
       "<table border=\"1\" class=\"dataframe\">\n",
       "  <thead>\n",
       "    <tr style=\"text-align: right;\">\n",
       "      <th></th>\n",
       "      <th>budget</th>\n",
       "      <th>popularity</th>\n",
       "      <th>runtime</th>\n",
       "      <th>revenue</th>\n",
       "      <th>cast_count</th>\n",
       "      <th>crew_count</th>\n",
       "    </tr>\n",
       "  </thead>\n",
       "  <tbody>\n",
       "    <tr>\n",
       "      <th>count</th>\n",
       "      <td>3.000000e+03</td>\n",
       "      <td>3000.000000</td>\n",
       "      <td>2998.000000</td>\n",
       "      <td>3.000000e+03</td>\n",
       "      <td>3000.000000</td>\n",
       "      <td>3000.000000</td>\n",
       "    </tr>\n",
       "    <tr>\n",
       "      <th>mean</th>\n",
       "      <td>2.253133e+07</td>\n",
       "      <td>8.463274</td>\n",
       "      <td>107.856571</td>\n",
       "      <td>6.672585e+07</td>\n",
       "      <td>20.603667</td>\n",
       "      <td>24.365667</td>\n",
       "    </tr>\n",
       "    <tr>\n",
       "      <th>std</th>\n",
       "      <td>3.702609e+07</td>\n",
       "      <td>12.104000</td>\n",
       "      <td>22.086434</td>\n",
       "      <td>1.375323e+08</td>\n",
       "      <td>16.629635</td>\n",
       "      <td>28.066419</td>\n",
       "    </tr>\n",
       "    <tr>\n",
       "      <th>min</th>\n",
       "      <td>0.000000e+00</td>\n",
       "      <td>0.000001</td>\n",
       "      <td>0.000000</td>\n",
       "      <td>1.000000e+00</td>\n",
       "      <td>0.000000</td>\n",
       "      <td>0.000000</td>\n",
       "    </tr>\n",
       "    <tr>\n",
       "      <th>25%</th>\n",
       "      <td>0.000000e+00</td>\n",
       "      <td>4.018053</td>\n",
       "      <td>94.000000</td>\n",
       "      <td>2.379808e+06</td>\n",
       "      <td>11.000000</td>\n",
       "      <td>8.000000</td>\n",
       "    </tr>\n",
       "    <tr>\n",
       "      <th>50%</th>\n",
       "      <td>8.000000e+06</td>\n",
       "      <td>7.374861</td>\n",
       "      <td>104.000000</td>\n",
       "      <td>1.680707e+07</td>\n",
       "      <td>16.000000</td>\n",
       "      <td>14.000000</td>\n",
       "    </tr>\n",
       "    <tr>\n",
       "      <th>75%</th>\n",
       "      <td>2.900000e+07</td>\n",
       "      <td>10.890983</td>\n",
       "      <td>118.000000</td>\n",
       "      <td>6.891920e+07</td>\n",
       "      <td>24.000000</td>\n",
       "      <td>28.000000</td>\n",
       "    </tr>\n",
       "    <tr>\n",
       "      <th>max</th>\n",
       "      <td>3.800000e+08</td>\n",
       "      <td>294.337037</td>\n",
       "      <td>338.000000</td>\n",
       "      <td>1.519558e+09</td>\n",
       "      <td>156.000000</td>\n",
       "      <td>194.000000</td>\n",
       "    </tr>\n",
       "  </tbody>\n",
       "</table>\n",
       "</div>"
      ],
      "text/plain": [
       "             budget   popularity      runtime       revenue   cast_count  \\\n",
       "count  3.000000e+03  3000.000000  2998.000000  3.000000e+03  3000.000000   \n",
       "mean   2.253133e+07     8.463274   107.856571  6.672585e+07    20.603667   \n",
       "std    3.702609e+07    12.104000    22.086434  1.375323e+08    16.629635   \n",
       "min    0.000000e+00     0.000001     0.000000  1.000000e+00     0.000000   \n",
       "25%    0.000000e+00     4.018053    94.000000  2.379808e+06    11.000000   \n",
       "50%    8.000000e+06     7.374861   104.000000  1.680707e+07    16.000000   \n",
       "75%    2.900000e+07    10.890983   118.000000  6.891920e+07    24.000000   \n",
       "max    3.800000e+08   294.337037   338.000000  1.519558e+09   156.000000   \n",
       "\n",
       "        crew_count  \n",
       "count  3000.000000  \n",
       "mean     24.365667  \n",
       "std      28.066419  \n",
       "min       0.000000  \n",
       "25%       8.000000  \n",
       "50%      14.000000  \n",
       "75%      28.000000  \n",
       "max     194.000000  "
      ]
     },
     "execution_count": 58,
     "metadata": {},
     "output_type": "execute_result"
    }
   ],
   "source": [
    "df.describe()"
   ]
  },
  {
   "cell_type": "markdown",
   "metadata": {},
   "source": [
    "Dei **valori numerici osseviamo** che:\n",
    "- Il valore minimo pari ad 1 della `revenue` sembra avere poco senso;\n",
    "- Spesso il `budget` vale 0;\n",
    "- Le `runtime` pari a 0 non hanno alcun significato utile. \n",
    "\n",
    "E successivamente analizzeremo il restante dei valori, osservando che **ci sono molti dati mancanti.**"
   ]
  },
  {
   "cell_type": "code",
   "execution_count": 59,
   "metadata": {},
   "outputs": [
    {
     "data": {
      "text/plain": [
       "Index(['belongs_to_collection', 'budget', 'genres', 'imdb_id', 'popularity',\n",
       "       'production_companies', 'production_countries', 'release_date',\n",
       "       'runtime', 'spoken_languages', 'keywords', 'cast', 'revenue',\n",
       "       'cast_count', 'director', 'crew_count'],\n",
       "      dtype='object')"
      ]
     },
     "execution_count": 59,
     "metadata": {},
     "output_type": "execute_result"
    }
   ],
   "source": [
    "df.columns"
   ]
  },
  {
   "cell_type": "markdown",
   "metadata": {},
   "source": [
    "### Revenue\n",
    "E' la nostra variabile risposta, ciò che vogliamo predirre. "
   ]
  },
  {
   "cell_type": "code",
   "execution_count": 60,
   "metadata": {},
   "outputs": [
    {
     "data": {
      "text/plain": [
       "Text(0.5, 1.0, 'Istogramma della Revenue')"
      ]
     },
     "execution_count": 60,
     "metadata": {},
     "output_type": "execute_result"
    },
    {
     "data": {
      "image/png": "[encoded data removed]",
      "text/plain": [
       "<Figure size 1080x360 with 1 Axes>"
      ]
     },
     "metadata": {
      "needs_background": "light"
     },
     "output_type": "display_data"
    }
   ],
   "source": [
    "plt.figure(figsize=(15,5)) # Grandezza del grafico\n",
    "sns.distplot(df['revenue']).set_title(\"Istogramma della Revenue\") # generazione del grafico"
   ]
  },
  {
   "cell_type": "markdown",
   "metadata": {},
   "source": [
    "Si può notare che nessun film ha valore NaN di `revenue`"
   ]
  },
  {
   "cell_type": "code",
   "execution_count": 61,
   "metadata": {},
   "outputs": [
    {
     "data": {
      "text/plain": [
       "0"
      ]
     },
     "execution_count": 61,
     "metadata": {},
     "output_type": "execute_result"
    }
   ],
   "source": [
    "df['revenue'].isna().sum()"
   ]
  },
  {
   "cell_type": "markdown",
   "metadata": {},
   "source": [
    "Alcuni film, però, hanno `revenue` \"basse\" (sembrano valori strani per un incasso di un film...)"
   ]
  },
  {
   "cell_type": "code",
   "execution_count": 62,
   "metadata": {},
   "outputs": [
    {
     "data": {
      "text/plain": [
       "57"
      ]
     },
     "execution_count": 62,
     "metadata": {},
     "output_type": "execute_result"
    }
   ],
   "source": [
    "(df['revenue']<=999).sum()"
   ]
  },
  {
   "cell_type": "markdown",
   "metadata": {},
   "source": [
    "**Esplorando i dati e cercando informazioni sul web**, abbiamo notato che **alcuni film hanno una revenue bassa** in quanto sono scritti in unità diverse (migliaia, milioni...) mentre altri hanno revenue realmente basse. \n",
    "Ad esempio, alcuni film con revenue pari a 500 stanno ad indicare 500.000, altri film con revenue ad esempio pari a 200 invece indicano una effettiva revenue di 200!!\n",
    "\n",
    "C'è un chiaro **problema di unità di misura**, ma analizzando i dati abbiamo notato **più valori bassi che in realtà sarebbero alti**, e solitamente i **valori espressi in al più 3 cifre** sono **considerati in milioni**, per cui i valori **sotto la soglia di 999 abbiamo deciso di moltiplicarli per 1.000.000**. "
   ]
  },
  {
   "cell_type": "markdown",
   "metadata": {},
   "source": [
    "Sistemiamo i valori"
   ]
  },
  {
   "cell_type": "code",
   "execution_count": 63,
   "metadata": {},
   "outputs": [],
   "source": [
    "# Moltiplica per 1 milione tutti i valori di revenue inferiori a 999\n",
    "df['revenue']=df.revenue.mask(df.revenue<=999, df.revenue*1000000)"
   ]
  },
  {
   "cell_type": "code",
   "execution_count": 64,
   "metadata": {},
   "outputs": [
    {
     "data": {
      "text/plain": [
       "0"
      ]
     },
     "execution_count": 64,
     "metadata": {},
     "output_type": "execute_result"
    }
   ],
   "source": [
    "# Conta tutti i valori sotto a 999\n",
    "(df['revenue']<=999).sum()"
   ]
  },
  {
   "cell_type": "markdown",
   "metadata": {},
   "source": [
    "Valutiamo nuovamente il grafico"
   ]
  },
  {
   "cell_type": "code",
   "execution_count": 65,
   "metadata": {
    "scrolled": false
   },
   "outputs": [
    {
     "data": {
      "text/plain": [
       "Text(0.5, 1.0, 'Istogramma della Revenue')"
      ]
     },
     "execution_count": 65,
     "metadata": {},
     "output_type": "execute_result"
    },
    {
     "data": {
      "image/png": "[encoded data removed]",
      "text/plain": [
       "<Figure size 1080x360 with 1 Axes>"
      ]
     },
     "metadata": {
      "needs_background": "light"
     },
     "output_type": "display_data"
    }
   ],
   "source": [
    "plt.figure(figsize=(15,5)) # Grandezza del grafico\n",
    "sns.distplot(df['revenue']).set_title(\"Istogramma della Revenue\") # generazione del grafico"
   ]
  },
  {
   "cell_type": "markdown",
   "metadata": {},
   "source": [
    "### Belongs to collection\n",
    "Nome della collezione a cui il film può appartenenre."
   ]
  },
  {
   "cell_type": "code",
   "execution_count": 66,
   "metadata": {
    "scrolled": false
   },
   "outputs": [
    {
     "data": {
      "text/plain": [
       "[('James Bond Collection', 16),\n",
       " ('Friday the 13th Collection', 7),\n",
       " ('The Pink Panther (Original) Collection', 6),\n",
       " ('Police Academy Collection', 5),\n",
       " ('Pokémon Collection', 5),\n",
       " ('Rocky Collection', 4),\n",
       " ('Ice Age Collection', 4),\n",
       " ('The Fast and the Furious Collection', 4),\n",
       " ('Rambo Collection', 4),\n",
       " ('Alien Collection', 4),\n",
       " ('Resident Evil Collection', 4),\n",
       " (\"Child's Play Collection\", 4),\n",
       " ('Transformers Collection', 4),\n",
       " ('Paranormal Activity Collection', 4),\n",
       " ('Rush Hour Collection', 3)]"
      ]
     },
     "execution_count": 66,
     "metadata": {},
     "output_type": "execute_result"
    }
   ],
   "source": [
    "Counter(values_to_list(\"belongs_to_collection\", df)).most_common(15)"
   ]
  },
  {
   "cell_type": "markdown",
   "metadata": {},
   "source": [
    "Vediamo che nessun film ha valore NaN di `belongs_to_collection`"
   ]
  },
  {
   "cell_type": "code",
   "execution_count": 67,
   "metadata": {},
   "outputs": [
    {
     "data": {
      "text/plain": [
       "0"
      ]
     },
     "execution_count": 67,
     "metadata": {},
     "output_type": "execute_result"
    }
   ],
   "source": [
    "df['belongs_to_collection'].isna().sum()"
   ]
  },
  {
   "cell_type": "markdown",
   "metadata": {},
   "source": [
    "Abbiamo comunque molti film che non appartengono ad alcuna collection"
   ]
  },
  {
   "cell_type": "code",
   "execution_count": 68,
   "metadata": {},
   "outputs": [
    {
     "data": {
      "text/plain": [
       "2396"
      ]
     },
     "execution_count": 68,
     "metadata": {},
     "output_type": "execute_result"
    }
   ],
   "source": [
    "empty_number('belongs_to_collection')"
   ]
  },
  {
   "cell_type": "markdown",
   "metadata": {},
   "source": [
    "Dato l'elevato numero di empty, riteniamo **più utile** conoscere il **numero di collections**(solitamente una sola) di cui il film fa parte **rispetto** a sapere in **quali collections**: questo per vari motivi, il principale è la difficoltà di gestione dei dati.\n",
    "Ad esempio, applicando one hot encoding, si verrebbero a creare molte colonne, spesso sparse. "
   ]
  },
  {
   "cell_type": "code",
   "execution_count": 69,
   "metadata": {
    "scrolled": false
   },
   "outputs": [],
   "source": [
    "df['belongs_to_collection'] = df['belongs_to_collection'].apply(len)"
   ]
  },
  {
   "cell_type": "markdown",
   "metadata": {},
   "source": [
    "### Budget\n",
    "Budget del film."
   ]
  },
  {
   "cell_type": "code",
   "execution_count": 70,
   "metadata": {},
   "outputs": [
    {
     "data": {
      "text/plain": [
       "Text(0.5, 1.0, 'Istogramma del budget')"
      ]
     },
     "execution_count": 70,
     "metadata": {},
     "output_type": "execute_result"
    },
    {
     "data": {
      "image/png": "[encoded data removed]",
      "text/plain": [
       "<Figure size 1080x360 with 1 Axes>"
      ]
     },
     "metadata": {
      "needs_background": "light"
     },
     "output_type": "display_data"
    }
   ],
   "source": [
    "plt.figure(figsize=(15,5)) # Grandezza del grafico\n",
    "sns.distplot(df['budget']).set_title(\"Istogramma del budget\") # generazione del grafico"
   ]
  },
  {
   "cell_type": "markdown",
   "metadata": {},
   "source": [
    "Vediamo che nessun film ha valore NaN di `budget`"
   ]
  },
  {
   "cell_type": "code",
   "execution_count": 71,
   "metadata": {},
   "outputs": [
    {
     "data": {
      "text/plain": [
       "0"
      ]
     },
     "execution_count": 71,
     "metadata": {},
     "output_type": "execute_result"
    }
   ],
   "source": [
    "df['budget'].isna().sum()"
   ]
  },
  {
   "cell_type": "markdown",
   "metadata": {},
   "source": [
    "Molti film, però, hanno `budget` bassi, il che ovviamente non è normale.  \n",
    "Per ovviare al problema, **applicheremo la mediana a tali valori dopo aver splittato il dataframe.**"
   ]
  },
  {
   "cell_type": "code",
   "execution_count": 72,
   "metadata": {
    "scrolled": true
   },
   "outputs": [
    {
     "data": {
      "text/plain": [
       "830"
      ]
     },
     "execution_count": 72,
     "metadata": {},
     "output_type": "execute_result"
    }
   ],
   "source": [
    "(df['budget']<=999).sum()"
   ]
  },
  {
   "cell_type": "markdown",
   "metadata": {},
   "source": [
    "La sistemazione dei valori con **l'applicazione dela mediana ai valori che sembrano troppo bassi** verrà eseguita dopo lo splitting in train e test."
   ]
  },
  {
   "cell_type": "markdown",
   "metadata": {},
   "source": [
    "### Genres\n",
    "Generi del film."
   ]
  },
  {
   "cell_type": "code",
   "execution_count": 73,
   "metadata": {},
   "outputs": [
    {
     "data": {
      "text/plain": [
       "[('Drama', 1531),\n",
       " ('Comedy', 1028),\n",
       " ('Thriller', 789),\n",
       " ('Action', 741),\n",
       " ('Romance', 571),\n",
       " ('Crime', 469),\n",
       " ('Adventure', 439),\n",
       " ('Horror', 301),\n",
       " ('Science Fiction', 290),\n",
       " ('Family', 260),\n",
       " ('Fantasy', 232),\n",
       " ('Mystery', 225),\n",
       " ('Animation', 141),\n",
       " ('History', 132),\n",
       " ('Music', 100)]"
      ]
     },
     "execution_count": 73,
     "metadata": {},
     "output_type": "execute_result"
    }
   ],
   "source": [
    "Counter(values_to_list(\"genres\", df)).most_common(15)"
   ]
  },
  {
   "cell_type": "markdown",
   "metadata": {},
   "source": [
    "Si può notare una forte popolarità di alcuni generi: **il che è poco significativa**. \n",
    "Si potrebbe pensare di mantenere solo i generi meno frequenti, ma ciò porterebbe, eseguendo one hot encoding, ad avere colonne molto sparse: ciò non ci piace. \n",
    "\n",
    "Decidiamo quindi di **eliminare la features** in quanto il genere di un film probabilmente non influisce sulla revenue. "
   ]
  },
  {
   "cell_type": "code",
   "execution_count": 74,
   "metadata": {},
   "outputs": [],
   "source": [
    "df.drop(labels=['genres'], axis=1, inplace=True)"
   ]
  },
  {
   "cell_type": "code",
   "execution_count": 75,
   "metadata": {},
   "outputs": [],
   "source": [
    "#df['genres'].isna().sum()\n",
    "#empty_number('genres')\n",
    "#df.iloc[find_empty_index('genres')]\n",
    "#df.loc[470, 'genres'].extend(['Drama', 'Adventure'])                # https://en.wikipedia.org/wiki/The_Book_of_Mormon_Movie\n",
    "#df.loc[1622,'genres'].extend(['Drama', 'Comedy'])                   # https://en.wikipedia.org/wiki/Jackpot_(2001_film)\n",
    "#df.loc[1814,'genres'].extend(['Comedy'])                            # https://it.wikipedia.org/wiki/Asja_e_la_gallina_dalle_uova_d'oro\n",
    "#df.loc[1819,'genres'].extend(['Drama', 'Romance'])                  # https://www.google.com/search?q=Nebo.+Samolyot.+Devushka.&rlz=1C1CHBF_itIT898IT898&oq=Nebo.+Samolyot.+Devushka.&aqs=chrome..69i57j69i61.643j0j4&sourceid=chrome&ie=UTF-8\n",
    "#df.loc[2423,'genres'].extend(['Action','Drama', 'Romance'])         # https://www.imdb.com/showtimes/title/tt0984177\n",
    "#df.loc[2686,'genres'].extend(['Mystery', 'Thriller'])               # https://embed.letterboxd.com/film/lift-2006/genres/\n",
    "#df.loc[2900,'genres'].extend(['Mystery', 'Fantasy'])                # https://it.wikipedia.org/wiki/Poslednjaja_skazka_Rity\n",
    "#empty_number('genres')"
   ]
  },
  {
   "cell_type": "markdown",
   "metadata": {},
   "source": [
    "Vediamo che nessun film ha valore NaN di `genres`"
   ]
  },
  {
   "cell_type": "markdown",
   "metadata": {},
   "source": [
    "Analizziamo **quanti film** sono registrati **senza un genere**."
   ]
  },
  {
   "cell_type": "markdown",
   "metadata": {},
   "source": [
    "Dato il **numero ridotto**, possiamo tentare di **sistemare i dati manualmente**. \n",
    "Vediamo quali sono i film con genere mancante:"
   ]
  },
  {
   "cell_type": "markdown",
   "metadata": {},
   "source": [
    "Ora non dovremmo avere più dati mancanti."
   ]
  },
  {
   "cell_type": "markdown",
   "metadata": {},
   "source": [
    "### Popularity\n",
    "Popolarità del film"
   ]
  },
  {
   "cell_type": "code",
   "execution_count": 76,
   "metadata": {},
   "outputs": [
    {
     "data": {
      "text/plain": [
       "Text(0.5, 1.0, 'Istogramma della Popularity')"
      ]
     },
     "execution_count": 76,
     "metadata": {},
     "output_type": "execute_result"
    },
    {
     "data": {
      "image/png": "[encoded data removed]",
      "text/plain": [
       "<Figure size 1080x360 with 1 Axes>"
      ]
     },
     "metadata": {
      "needs_background": "light"
     },
     "output_type": "display_data"
    }
   ],
   "source": [
    "plt.figure(figsize=(15,5)) # Grandezza del grafico\n",
    "sns.distplot(df['popularity']).set_title(\"Istogramma della Popularity\") # generazione del grafico"
   ]
  },
  {
   "cell_type": "markdown",
   "metadata": {},
   "source": [
    "Vediamo che nessun film ha valore NaN di `popularity`"
   ]
  },
  {
   "cell_type": "code",
   "execution_count": 77,
   "metadata": {},
   "outputs": [
    {
     "data": {
      "text/plain": [
       "0"
      ]
     },
     "execution_count": 77,
     "metadata": {},
     "output_type": "execute_result"
    }
   ],
   "source": [
    "df['popularity'].isna().sum()"
   ]
  },
  {
   "cell_type": "markdown",
   "metadata": {},
   "source": [
    "Possiamo notare che alcuni valori di **popolarità sono estremamente lontani dagli altri**: è normale?\n",
    "Analizziamo tali valori e decidiamo cosa fare. "
   ]
  },
  {
   "cell_type": "code",
   "execution_count": 78,
   "metadata": {},
   "outputs": [
    {
     "data": {
      "text/plain": [
       "20"
      ]
     },
     "execution_count": 78,
     "metadata": {},
     "output_type": "execute_result"
    }
   ],
   "source": [
    "(df['popularity'] >= 40).sum()"
   ]
  },
  {
   "cell_type": "code",
   "execution_count": 79,
   "metadata": {
    "scrolled": false
   },
   "outputs": [
    {
     "data": {
      "text/html": [
       "<div>\n",
       "<style scoped>\n",
       "    .dataframe tbody tr th:only-of-type {\n",
       "        vertical-align: middle;\n",
       "    }\n",
       "\n",
       "    .dataframe tbody tr th {\n",
       "        vertical-align: top;\n",
       "    }\n",
       "\n",
       "    .dataframe thead th {\n",
       "        text-align: right;\n",
       "    }\n",
       "</style>\n",
       "<table border=\"1\" class=\"dataframe\">\n",
       "  <thead>\n",
       "    <tr style=\"text-align: right;\">\n",
       "      <th></th>\n",
       "      <th>belongs_to_collection</th>\n",
       "      <th>budget</th>\n",
       "      <th>imdb_id</th>\n",
       "      <th>popularity</th>\n",
       "      <th>production_companies</th>\n",
       "      <th>production_countries</th>\n",
       "      <th>release_date</th>\n",
       "      <th>runtime</th>\n",
       "      <th>spoken_languages</th>\n",
       "      <th>keywords</th>\n",
       "      <th>cast</th>\n",
       "      <th>revenue</th>\n",
       "      <th>cast_count</th>\n",
       "      <th>director</th>\n",
       "      <th>crew_count</th>\n",
       "    </tr>\n",
       "  </thead>\n",
       "  <tbody>\n",
       "    <tr>\n",
       "      <th>2</th>\n",
       "      <td>0</td>\n",
       "      <td>3300000</td>\n",
       "      <td>tt2582802</td>\n",
       "      <td>64.299990</td>\n",
       "      <td>[Bold Films, Blumhouse Productions, Right of W...</td>\n",
       "      <td>[United States of America]</td>\n",
       "      <td>10/10/14</td>\n",
       "      <td>105.0</td>\n",
       "      <td>[English]</td>\n",
       "      <td>[jazz, obsession, conservatory, music teacher,...</td>\n",
       "      <td>[Miles Teller, J.K. Simmons, Melissa Benoist, ...</td>\n",
       "      <td>13092000</td>\n",
       "      <td>51</td>\n",
       "      <td>[DamienChazelle]</td>\n",
       "      <td>64</td>\n",
       "    </tr>\n",
       "    <tr>\n",
       "      <th>518</th>\n",
       "      <td>1</td>\n",
       "      <td>149000000</td>\n",
       "      <td>tt0451279</td>\n",
       "      <td>294.337037</td>\n",
       "      <td>[Dune Entertainment, Atlas Entertainment, Warn...</td>\n",
       "      <td>[United States of America]</td>\n",
       "      <td>5/30/17</td>\n",
       "      <td>141.0</td>\n",
       "      <td>[Deutsch, English]</td>\n",
       "      <td>[dc comics, hero, greek mythology, island, wor...</td>\n",
       "      <td>[]</td>\n",
       "      <td>820580447</td>\n",
       "      <td>0</td>\n",
       "      <td>[]</td>\n",
       "      <td>0</td>\n",
       "    </tr>\n",
       "    <tr>\n",
       "      <th>684</th>\n",
       "      <td>0</td>\n",
       "      <td>160000000</td>\n",
       "      <td>tt2771200</td>\n",
       "      <td>287.253654</td>\n",
       "      <td>[Walt Disney Pictures, Mandeville Films]</td>\n",
       "      <td>[United Kingdom, United States of America]</td>\n",
       "      <td>3/16/17</td>\n",
       "      <td>129.0</td>\n",
       "      <td>[English]</td>\n",
       "      <td>[france, magic, castle, fairy tale, musical, c...</td>\n",
       "      <td>[Emma Watson, Dan Stevens, Luke Evans, Kevin K...</td>\n",
       "      <td>1262886337</td>\n",
       "      <td>156</td>\n",
       "      <td>[BillCondon]</td>\n",
       "      <td>115</td>\n",
       "    </tr>\n",
       "    <tr>\n",
       "      <th>934</th>\n",
       "      <td>1</td>\n",
       "      <td>40000000</td>\n",
       "      <td>tt4425200</td>\n",
       "      <td>49.247505</td>\n",
       "      <td>[Thunder Road Pictures, LionsGate, 87Eleven]</td>\n",
       "      <td>[United States of America]</td>\n",
       "      <td>2/8/17</td>\n",
       "      <td>122.0</td>\n",
       "      <td>[English, Italiano]</td>\n",
       "      <td>[italy, gun, roof, party, sequel, handshake]</td>\n",
       "      <td>[]</td>\n",
       "      <td>171539887</td>\n",
       "      <td>0</td>\n",
       "      <td>[]</td>\n",
       "      <td>0</td>\n",
       "    </tr>\n",
       "    <tr>\n",
       "      <th>1093</th>\n",
       "      <td>1</td>\n",
       "      <td>6000000</td>\n",
       "      <td>tt0068646</td>\n",
       "      <td>41.109264</td>\n",
       "      <td>[Paramount Pictures, Alfran Productions]</td>\n",
       "      <td>[United States of America]</td>\n",
       "      <td>3/14/72</td>\n",
       "      <td>175.0</td>\n",
       "      <td>[English, Italiano, Latin]</td>\n",
       "      <td>[italy, love at first sight, loss of father, p...</td>\n",
       "      <td>[Marlon Brando, Al Pacino, James Caan, Richard...</td>\n",
       "      <td>245066411</td>\n",
       "      <td>58</td>\n",
       "      <td>[FrancisFordCoppola]</td>\n",
       "      <td>42</td>\n",
       "    </tr>\n",
       "    <tr>\n",
       "      <th>1126</th>\n",
       "      <td>1</td>\n",
       "      <td>220000000</td>\n",
       "      <td>tt0848228</td>\n",
       "      <td>89.887648</td>\n",
       "      <td>[Paramount Pictures, Marvel Studios]</td>\n",
       "      <td>[United States of America]</td>\n",
       "      <td>4/25/12</td>\n",
       "      <td>143.0</td>\n",
       "      <td>[English]</td>\n",
       "      <td>[new york, shield, marvel comic, superhero, ba...</td>\n",
       "      <td>[Robert Downey Jr., Chris Evans, Mark Ruffalo,...</td>\n",
       "      <td>1519557910</td>\n",
       "      <td>115</td>\n",
       "      <td>[JossWhedon]</td>\n",
       "      <td>147</td>\n",
       "    </tr>\n",
       "    <tr>\n",
       "      <th>1309</th>\n",
       "      <td>0</td>\n",
       "      <td>61000000</td>\n",
       "      <td>tt2267998</td>\n",
       "      <td>154.801009</td>\n",
       "      <td>[Twentieth Century Fox Film Corporation, Regen...</td>\n",
       "      <td>[United States of America]</td>\n",
       "      <td>10/1/14</td>\n",
       "      <td>145.0</td>\n",
       "      <td>[English]</td>\n",
       "      <td>[based on novel, marriage crisis, disappearanc...</td>\n",
       "      <td>[Ben Affleck, Rosamund Pike, Carrie Coon, Neil...</td>\n",
       "      <td>369330363</td>\n",
       "      <td>72</td>\n",
       "      <td>[DavidFincher]</td>\n",
       "      <td>82</td>\n",
       "    </tr>\n",
       "    <tr>\n",
       "      <th>1643</th>\n",
       "      <td>1</td>\n",
       "      <td>61000000</td>\n",
       "      <td>tt4046784</td>\n",
       "      <td>41.225769</td>\n",
       "      <td>[Gotham Group, Temple Hill Entertainment, TSG ...</td>\n",
       "      <td>[United States of America]</td>\n",
       "      <td>9/9/15</td>\n",
       "      <td>132.0</td>\n",
       "      <td>[English]</td>\n",
       "      <td>[based on novel, resistance, maze, post-apocal...</td>\n",
       "      <td>[Dylan O'Brien, Kaya Scodelario, Thomas Brodie...</td>\n",
       "      <td>311256926</td>\n",
       "      <td>37</td>\n",
       "      <td>[WesBall]</td>\n",
       "      <td>99</td>\n",
       "    </tr>\n",
       "    <tr>\n",
       "      <th>1673</th>\n",
       "      <td>1</td>\n",
       "      <td>185000000</td>\n",
       "      <td>tt0468569</td>\n",
       "      <td>123.167259</td>\n",
       "      <td>[DC Comics, Legendary Pictures, Warner Bros., ...</td>\n",
       "      <td>[United Kingdom, United States of America]</td>\n",
       "      <td>7/16/08</td>\n",
       "      <td>152.0</td>\n",
       "      <td>[English, 普通话]</td>\n",
       "      <td>[dc comics, crime fighter, secret identity, sc...</td>\n",
       "      <td>[Christian Bale, Michael Caine, Heath Ledger, ...</td>\n",
       "      <td>1004558444</td>\n",
       "      <td>134</td>\n",
       "      <td>[ChristopherNolan]</td>\n",
       "      <td>81</td>\n",
       "    </tr>\n",
       "    <tr>\n",
       "      <th>1695</th>\n",
       "      <td>0</td>\n",
       "      <td>34000000</td>\n",
       "      <td>tt3890160</td>\n",
       "      <td>228.032744</td>\n",
       "      <td>[Big Talk Productions, TriStar Pictures, Media...</td>\n",
       "      <td>[United Kingdom, United States of America]</td>\n",
       "      <td>6/28/17</td>\n",
       "      <td>113.0</td>\n",
       "      <td>[English]</td>\n",
       "      <td>[robbery, atlanta, music, crime boss, romance,...</td>\n",
       "      <td>[Ansel Elgort, Lily James, Kevin Spacey, Jamie...</td>\n",
       "      <td>224511319</td>\n",
       "      <td>56</td>\n",
       "      <td>[EdgarWright]</td>\n",
       "      <td>183</td>\n",
       "    </tr>\n",
       "    <tr>\n",
       "      <th>1715</th>\n",
       "      <td>1</td>\n",
       "      <td>152000000</td>\n",
       "      <td>tt3450958</td>\n",
       "      <td>146.161786</td>\n",
       "      <td>[Chernin Entertainment]</td>\n",
       "      <td>[Canada, United States of America]</td>\n",
       "      <td>7/11/17</td>\n",
       "      <td>140.0</td>\n",
       "      <td>[English]</td>\n",
       "      <td>[based on novel, sequel, talking animal, ape]</td>\n",
       "      <td>[Andy Serkis, Woody Harrelson, Steve Zahn, Kar...</td>\n",
       "      <td>369907963</td>\n",
       "      <td>20</td>\n",
       "      <td>[MattReeves]</td>\n",
       "      <td>9</td>\n",
       "    </tr>\n",
       "    <tr>\n",
       "      <th>1783</th>\n",
       "      <td>1</td>\n",
       "      <td>97000000</td>\n",
       "      <td>tt3315342</td>\n",
       "      <td>54.581997</td>\n",
       "      <td>[Twentieth Century Fox Film Corporation, Donne...</td>\n",
       "      <td>[United States of America]</td>\n",
       "      <td>2/28/17</td>\n",
       "      <td>137.0</td>\n",
       "      <td>[English, Español]</td>\n",
       "      <td>[cyborg, experiment, self-destruction, mutant,...</td>\n",
       "      <td>[]</td>\n",
       "      <td>616801808</td>\n",
       "      <td>0</td>\n",
       "      <td>[]</td>\n",
       "      <td>0</td>\n",
       "    </tr>\n",
       "    <tr>\n",
       "      <th>2016</th>\n",
       "      <td>0</td>\n",
       "      <td>25000000</td>\n",
       "      <td>tt0111161</td>\n",
       "      <td>51.645403</td>\n",
       "      <td>[Castle Rock Entertainment, Warner Bros.]</td>\n",
       "      <td>[United States of America]</td>\n",
       "      <td>9/23/94</td>\n",
       "      <td>142.0</td>\n",
       "      <td>[English]</td>\n",
       "      <td>[prison, corruption, police brutality, prison ...</td>\n",
       "      <td>[Tim Robbins, Morgan Freeman, Bob Gunton, Clan...</td>\n",
       "      <td>28341469</td>\n",
       "      <td>42</td>\n",
       "      <td>[FrankDarabont]</td>\n",
       "      <td>90</td>\n",
       "    </tr>\n",
       "    <tr>\n",
       "      <th>2018</th>\n",
       "      <td>1</td>\n",
       "      <td>170000000</td>\n",
       "      <td>tt2015381</td>\n",
       "      <td>53.291601</td>\n",
       "      <td>[Marvel Studios, Moving Picture Company (MPC),...</td>\n",
       "      <td>[United Kingdom, United States of America]</td>\n",
       "      <td>7/30/14</td>\n",
       "      <td>121.0</td>\n",
       "      <td>[English]</td>\n",
       "      <td>[marvel comic, spaceship, space, outer space, ...</td>\n",
       "      <td>[Chris Pratt, Zoe Saldana, Dave Bautista, Vin ...</td>\n",
       "      <td>773328629</td>\n",
       "      <td>80</td>\n",
       "      <td>[JamesGunn]</td>\n",
       "      <td>105</td>\n",
       "    </tr>\n",
       "    <tr>\n",
       "      <th>2097</th>\n",
       "      <td>1</td>\n",
       "      <td>140000000</td>\n",
       "      <td>tt0325980</td>\n",
       "      <td>47.326665</td>\n",
       "      <td>[Walt Disney Pictures, Jerry Bruckheimer Films]</td>\n",
       "      <td>[United States of America]</td>\n",
       "      <td>7/9/03</td>\n",
       "      <td>143.0</td>\n",
       "      <td>[English]</td>\n",
       "      <td>[exotic island, blacksmith, east india trading...</td>\n",
       "      <td>[Johnny Depp, Geoffrey Rush, Orlando Bloom, Ke...</td>\n",
       "      <td>655011224</td>\n",
       "      <td>70</td>\n",
       "      <td>[GoreVerbinski]</td>\n",
       "      <td>160</td>\n",
       "    </tr>\n",
       "    <tr>\n",
       "      <th>2126</th>\n",
       "      <td>1</td>\n",
       "      <td>200000000</td>\n",
       "      <td>tt3896198</td>\n",
       "      <td>185.330992</td>\n",
       "      <td>[Walt Disney Pictures, Marvel Studios]</td>\n",
       "      <td>[United States of America]</td>\n",
       "      <td>4/19/17</td>\n",
       "      <td>137.0</td>\n",
       "      <td>[English]</td>\n",
       "      <td>[sequel, superhero, based on comic, misfit, sp...</td>\n",
       "      <td>[Chris Pratt, Zoe Saldana, Dave Bautista, Vin ...</td>\n",
       "      <td>863416141</td>\n",
       "      <td>63</td>\n",
       "      <td>[JamesGunn]</td>\n",
       "      <td>131</td>\n",
       "    </tr>\n",
       "    <tr>\n",
       "      <th>2293</th>\n",
       "      <td>0</td>\n",
       "      <td>18000000</td>\n",
       "      <td>tt4287320</td>\n",
       "      <td>88.439243</td>\n",
       "      <td>[Likely Story, Playtone, Image Nation]</td>\n",
       "      <td>[United States of America]</td>\n",
       "      <td>4/27/17</td>\n",
       "      <td>110.0</td>\n",
       "      <td>[English]</td>\n",
       "      <td>[technology, video surveillance, company, crim...</td>\n",
       "      <td>[Emma Watson, Tom Hanks, John Boyega, Karen Gi...</td>\n",
       "      <td>20497844</td>\n",
       "      <td>78</td>\n",
       "      <td>[JamesPonsoldt]</td>\n",
       "      <td>92</td>\n",
       "    </tr>\n",
       "    <tr>\n",
       "      <th>2326</th>\n",
       "      <td>1</td>\n",
       "      <td>58000000</td>\n",
       "      <td>tt1431045</td>\n",
       "      <td>187.860492</td>\n",
       "      <td>[Twentieth Century Fox Film Corporation, Marve...</td>\n",
       "      <td>[United States of America]</td>\n",
       "      <td>2/9/16</td>\n",
       "      <td>108.0</td>\n",
       "      <td>[English]</td>\n",
       "      <td>[anti hero, mercenary, marvel comic, superhero...</td>\n",
       "      <td>[Ryan Reynolds, Morena Baccarin, Ed Skrein, T....</td>\n",
       "      <td>783112979</td>\n",
       "      <td>46</td>\n",
       "      <td>[TimMiller]</td>\n",
       "      <td>88</td>\n",
       "    </tr>\n",
       "    <tr>\n",
       "      <th>2338</th>\n",
       "      <td>0</td>\n",
       "      <td>63000000</td>\n",
       "      <td>tt0137523</td>\n",
       "      <td>63.869599</td>\n",
       "      <td>[Twentieth Century Fox Film Corporation, Regen...</td>\n",
       "      <td>[Germany, United States of America]</td>\n",
       "      <td>10/15/99</td>\n",
       "      <td>139.0</td>\n",
       "      <td>[English]</td>\n",
       "      <td>[support group, dual identity, nihilism, rage ...</td>\n",
       "      <td>[Edward Norton, Brad Pitt, Meat Loaf, Jared Le...</td>\n",
       "      <td>100853753</td>\n",
       "      <td>77</td>\n",
       "      <td>[DavidFincher]</td>\n",
       "      <td>107</td>\n",
       "    </tr>\n",
       "    <tr>\n",
       "      <th>2793</th>\n",
       "      <td>1</td>\n",
       "      <td>68000000</td>\n",
       "      <td>tt2637276</td>\n",
       "      <td>42.061481</td>\n",
       "      <td>[Universal Pictures, Fuzzy Door Productions, B...</td>\n",
       "      <td>[United States of America]</td>\n",
       "      <td>6/25/15</td>\n",
       "      <td>115.0</td>\n",
       "      <td>[English]</td>\n",
       "      <td>[sperm bank, sequel, buddy, courthouse, teddy ...</td>\n",
       "      <td>[Mark Wahlberg, Seth MacFarlane, Amanda Seyfri...</td>\n",
       "      <td>217022588</td>\n",
       "      <td>105</td>\n",
       "      <td>[SethMacFarlane]</td>\n",
       "      <td>76</td>\n",
       "    </tr>\n",
       "  </tbody>\n",
       "</table>\n",
       "</div>"
      ],
      "text/plain": [
       "      belongs_to_collection     budget    imdb_id  popularity  \\\n",
       "2                         0    3300000  tt2582802   64.299990   \n",
       "518                       1  149000000  tt0451279  294.337037   \n",
       "684                       0  160000000  tt2771200  287.253654   \n",
       "934                       1   40000000  tt4425200   49.247505   \n",
       "1093                      1    6000000  tt0068646   41.109264   \n",
       "1126                      1  220000000  tt0848228   89.887648   \n",
       "1309                      0   61000000  tt2267998  154.801009   \n",
       "1643                      1   61000000  tt4046784   41.225769   \n",
       "1673                      1  185000000  tt0468569  123.167259   \n",
       "1695                      0   34000000  tt3890160  228.032744   \n",
       "1715                      1  152000000  tt3450958  146.161786   \n",
       "1783                      1   97000000  tt3315342   54.581997   \n",
       "2016                      0   25000000  tt0111161   51.645403   \n",
       "2018                      1  170000000  tt2015381   53.291601   \n",
       "2097                      1  140000000  tt0325980   47.326665   \n",
       "2126                      1  200000000  tt3896198  185.330992   \n",
       "2293                      0   18000000  tt4287320   88.439243   \n",
       "2326                      1   58000000  tt1431045  187.860492   \n",
       "2338                      0   63000000  tt0137523   63.869599   \n",
       "2793                      1   68000000  tt2637276   42.061481   \n",
       "\n",
       "                                   production_companies  \\\n",
       "2     [Bold Films, Blumhouse Productions, Right of W...   \n",
       "518   [Dune Entertainment, Atlas Entertainment, Warn...   \n",
       "684            [Walt Disney Pictures, Mandeville Films]   \n",
       "934        [Thunder Road Pictures, LionsGate, 87Eleven]   \n",
       "1093           [Paramount Pictures, Alfran Productions]   \n",
       "1126               [Paramount Pictures, Marvel Studios]   \n",
       "1309  [Twentieth Century Fox Film Corporation, Regen...   \n",
       "1643  [Gotham Group, Temple Hill Entertainment, TSG ...   \n",
       "1673  [DC Comics, Legendary Pictures, Warner Bros., ...   \n",
       "1695  [Big Talk Productions, TriStar Pictures, Media...   \n",
       "1715                            [Chernin Entertainment]   \n",
       "1783  [Twentieth Century Fox Film Corporation, Donne...   \n",
       "2016          [Castle Rock Entertainment, Warner Bros.]   \n",
       "2018  [Marvel Studios, Moving Picture Company (MPC),...   \n",
       "2097    [Walt Disney Pictures, Jerry Bruckheimer Films]   \n",
       "2126             [Walt Disney Pictures, Marvel Studios]   \n",
       "2293             [Likely Story, Playtone, Image Nation]   \n",
       "2326  [Twentieth Century Fox Film Corporation, Marve...   \n",
       "2338  [Twentieth Century Fox Film Corporation, Regen...   \n",
       "2793  [Universal Pictures, Fuzzy Door Productions, B...   \n",
       "\n",
       "                            production_countries release_date  runtime  \\\n",
       "2                     [United States of America]     10/10/14    105.0   \n",
       "518                   [United States of America]      5/30/17    141.0   \n",
       "684   [United Kingdom, United States of America]      3/16/17    129.0   \n",
       "934                   [United States of America]       2/8/17    122.0   \n",
       "1093                  [United States of America]      3/14/72    175.0   \n",
       "1126                  [United States of America]      4/25/12    143.0   \n",
       "1309                  [United States of America]      10/1/14    145.0   \n",
       "1643                  [United States of America]       9/9/15    132.0   \n",
       "1673  [United Kingdom, United States of America]      7/16/08    152.0   \n",
       "1695  [United Kingdom, United States of America]      6/28/17    113.0   \n",
       "1715          [Canada, United States of America]      7/11/17    140.0   \n",
       "1783                  [United States of America]      2/28/17    137.0   \n",
       "2016                  [United States of America]      9/23/94    142.0   \n",
       "2018  [United Kingdom, United States of America]      7/30/14    121.0   \n",
       "2097                  [United States of America]       7/9/03    143.0   \n",
       "2126                  [United States of America]      4/19/17    137.0   \n",
       "2293                  [United States of America]      4/27/17    110.0   \n",
       "2326                  [United States of America]       2/9/16    108.0   \n",
       "2338         [Germany, United States of America]     10/15/99    139.0   \n",
       "2793                  [United States of America]      6/25/15    115.0   \n",
       "\n",
       "                spoken_languages  \\\n",
       "2                      [English]   \n",
       "518           [Deutsch, English]   \n",
       "684                    [English]   \n",
       "934          [English, Italiano]   \n",
       "1093  [English, Italiano, Latin]   \n",
       "1126                   [English]   \n",
       "1309                   [English]   \n",
       "1643                   [English]   \n",
       "1673              [English, 普通话]   \n",
       "1695                   [English]   \n",
       "1715                   [English]   \n",
       "1783          [English, Español]   \n",
       "2016                   [English]   \n",
       "2018                   [English]   \n",
       "2097                   [English]   \n",
       "2126                   [English]   \n",
       "2293                   [English]   \n",
       "2326                   [English]   \n",
       "2338                   [English]   \n",
       "2793                   [English]   \n",
       "\n",
       "                                               keywords  \\\n",
       "2     [jazz, obsession, conservatory, music teacher,...   \n",
       "518   [dc comics, hero, greek mythology, island, wor...   \n",
       "684   [france, magic, castle, fairy tale, musical, c...   \n",
       "934        [italy, gun, roof, party, sequel, handshake]   \n",
       "1093  [italy, love at first sight, loss of father, p...   \n",
       "1126  [new york, shield, marvel comic, superhero, ba...   \n",
       "1309  [based on novel, marriage crisis, disappearanc...   \n",
       "1643  [based on novel, resistance, maze, post-apocal...   \n",
       "1673  [dc comics, crime fighter, secret identity, sc...   \n",
       "1695  [robbery, atlanta, music, crime boss, romance,...   \n",
       "1715      [based on novel, sequel, talking animal, ape]   \n",
       "1783  [cyborg, experiment, self-destruction, mutant,...   \n",
       "2016  [prison, corruption, police brutality, prison ...   \n",
       "2018  [marvel comic, spaceship, space, outer space, ...   \n",
       "2097  [exotic island, blacksmith, east india trading...   \n",
       "2126  [sequel, superhero, based on comic, misfit, sp...   \n",
       "2293  [technology, video surveillance, company, crim...   \n",
       "2326  [anti hero, mercenary, marvel comic, superhero...   \n",
       "2338  [support group, dual identity, nihilism, rage ...   \n",
       "2793  [sperm bank, sequel, buddy, courthouse, teddy ...   \n",
       "\n",
       "                                                   cast     revenue  \\\n",
       "2     [Miles Teller, J.K. Simmons, Melissa Benoist, ...    13092000   \n",
       "518                                                  []   820580447   \n",
       "684   [Emma Watson, Dan Stevens, Luke Evans, Kevin K...  1262886337   \n",
       "934                                                  []   171539887   \n",
       "1093  [Marlon Brando, Al Pacino, James Caan, Richard...   245066411   \n",
       "1126  [Robert Downey Jr., Chris Evans, Mark Ruffalo,...  1519557910   \n",
       "1309  [Ben Affleck, Rosamund Pike, Carrie Coon, Neil...   369330363   \n",
       "1643  [Dylan O'Brien, Kaya Scodelario, Thomas Brodie...   311256926   \n",
       "1673  [Christian Bale, Michael Caine, Heath Ledger, ...  1004558444   \n",
       "1695  [Ansel Elgort, Lily James, Kevin Spacey, Jamie...   224511319   \n",
       "1715  [Andy Serkis, Woody Harrelson, Steve Zahn, Kar...   369907963   \n",
       "1783                                                 []   616801808   \n",
       "2016  [Tim Robbins, Morgan Freeman, Bob Gunton, Clan...    28341469   \n",
       "2018  [Chris Pratt, Zoe Saldana, Dave Bautista, Vin ...   773328629   \n",
       "2097  [Johnny Depp, Geoffrey Rush, Orlando Bloom, Ke...   655011224   \n",
       "2126  [Chris Pratt, Zoe Saldana, Dave Bautista, Vin ...   863416141   \n",
       "2293  [Emma Watson, Tom Hanks, John Boyega, Karen Gi...    20497844   \n",
       "2326  [Ryan Reynolds, Morena Baccarin, Ed Skrein, T....   783112979   \n",
       "2338  [Edward Norton, Brad Pitt, Meat Loaf, Jared Le...   100853753   \n",
       "2793  [Mark Wahlberg, Seth MacFarlane, Amanda Seyfri...   217022588   \n",
       "\n",
       "      cast_count              director  crew_count  \n",
       "2             51      [DamienChazelle]          64  \n",
       "518            0                    []           0  \n",
       "684          156          [BillCondon]         115  \n",
       "934            0                    []           0  \n",
       "1093          58  [FrancisFordCoppola]          42  \n",
       "1126         115          [JossWhedon]         147  \n",
       "1309          72        [DavidFincher]          82  \n",
       "1643          37             [WesBall]          99  \n",
       "1673         134    [ChristopherNolan]          81  \n",
       "1695          56         [EdgarWright]         183  \n",
       "1715          20          [MattReeves]           9  \n",
       "1783           0                    []           0  \n",
       "2016          42       [FrankDarabont]          90  \n",
       "2018          80           [JamesGunn]         105  \n",
       "2097          70       [GoreVerbinski]         160  \n",
       "2126          63           [JamesGunn]         131  \n",
       "2293          78       [JamesPonsoldt]          92  \n",
       "2326          46           [TimMiller]          88  \n",
       "2338          77        [DavidFincher]         107  \n",
       "2793         105      [SethMacFarlane]          76  "
      ]
     },
     "execution_count": 79,
     "metadata": {},
     "output_type": "execute_result"
    }
   ],
   "source": [
    "df[df['popularity'] >= 40]"
   ]
  },
  {
   "cell_type": "markdown",
   "metadata": {},
   "source": [
    "Notiamo che **molti di questi film** appartengono a **collezioni di grande notorietà**, ad esempio Pirati dei Caraibi, The Avengers, The Maze Runner... quindi riteniamo che una popolarità così elevata è un **segno distintivo e corretto**: ne segue che **non apportiamo modifiche**. "
   ]
  },
  {
   "cell_type": "markdown",
   "metadata": {},
   "source": [
    "### Production Companies\n",
    "Casa produttrice del film."
   ]
  },
  {
   "cell_type": "code",
   "execution_count": 80,
   "metadata": {},
   "outputs": [
    {
     "data": {
      "text/plain": [
       "[('Warner Bros.', 202),\n",
       " ('Universal Pictures', 188),\n",
       " ('Paramount Pictures', 161),\n",
       " ('Twentieth Century Fox Film Corporation', 138),\n",
       " ('Columbia Pictures', 91),\n",
       " ('Metro-Goldwyn-Mayer (MGM)', 84),\n",
       " ('New Line Cinema', 75),\n",
       " ('Touchstone Pictures', 63),\n",
       " ('Walt Disney Pictures', 62),\n",
       " ('Columbia Pictures Corporation', 61),\n",
       " ('TriStar Pictures', 53),\n",
       " ('Relativity Media', 48),\n",
       " ('Canal+', 46),\n",
       " ('United Artists', 44),\n",
       " ('Miramax Films', 40)]"
      ]
     },
     "execution_count": 80,
     "metadata": {},
     "output_type": "execute_result"
    }
   ],
   "source": [
    "Counter(values_to_list(\"production_companies\", df)).most_common(15)"
   ]
  },
  {
   "cell_type": "markdown",
   "metadata": {},
   "source": [
    "Vediamo che nessun film ha valore NaN di `production_companies`"
   ]
  },
  {
   "cell_type": "code",
   "execution_count": 81,
   "metadata": {},
   "outputs": [
    {
     "data": {
      "text/plain": [
       "0"
      ]
     },
     "execution_count": 81,
     "metadata": {},
     "output_type": "execute_result"
    }
   ],
   "source": [
    "df['production_companies'].isna().sum()"
   ]
  },
  {
   "cell_type": "markdown",
   "metadata": {},
   "source": [
    "Analizziamo **quanti film** sono registrati **senza casa produttrice**."
   ]
  },
  {
   "cell_type": "code",
   "execution_count": 82,
   "metadata": {},
   "outputs": [
    {
     "data": {
      "text/plain": [
       "156"
      ]
     },
     "execution_count": 82,
     "metadata": {},
     "output_type": "execute_result"
    }
   ],
   "source": [
    "empty_number('production_companies')"
   ]
  },
  {
   "cell_type": "code",
   "execution_count": 83,
   "metadata": {},
   "outputs": [
    {
     "data": {
      "text/plain": [
       "3695"
      ]
     },
     "execution_count": 83,
     "metadata": {},
     "output_type": "execute_result"
    }
   ],
   "source": [
    "how_many('production_companies', df)"
   ]
  },
  {
   "cell_type": "markdown",
   "metadata": {},
   "source": [
    "Assolutamente troppe...  \n",
    "Non potendo applicare one hot encoding (verrebbero troppe colonne sparse), dobbiamo ridurre di molto!\n",
    "\n",
    "**Idea:** \n",
    "- Si mantengono le **most-significative** fra tutti le compagnie, in modo da ottenere una lista delle compagnie più frequenti nel dataframe (che, secondo noi, sono anche le più famose, tranne alcune eccezioni)\n",
    "- Per ogni film, si mantiene il **numero di compagnie most-common** che hanno prodotto il film"
   ]
  },
  {
   "cell_type": "code",
   "execution_count": 84,
   "metadata": {},
   "outputs": [],
   "source": [
    "# Rimozion di tutti gli attori con meno di 10 occorrenze\n",
    "delete_useless_small_value(df, 25, 'production_companies')"
   ]
  },
  {
   "cell_type": "code",
   "execution_count": 85,
   "metadata": {},
   "outputs": [
    {
     "data": {
      "text/plain": [
       "25"
      ]
     },
     "execution_count": 85,
     "metadata": {},
     "output_type": "execute_result"
    }
   ],
   "source": [
    "how_many('production_companies', df)"
   ]
  },
  {
   "cell_type": "code",
   "execution_count": 86,
   "metadata": {},
   "outputs": [],
   "source": [
    "MOST_IMPORTANT_COMPANIES = list(Counter(values_to_list('production_companies', df))) # queste 25 companies sono le nostre most_common"
   ]
  },
  {
   "cell_type": "markdown",
   "metadata": {},
   "source": [
    "Per ogni film, andiamo ora a computare il **numero di attori presenti nella lista** `MOST_IMPORTANT_COMPANIES`"
   ]
  },
  {
   "cell_type": "code",
   "execution_count": 87,
   "metadata": {},
   "outputs": [],
   "source": [
    "counter_most_significative = count_most_significative(df, 'production_companies', MOST_IMPORTANT_COMPANIES)   # ritorna un dataframe\n",
    "df = pd.concat([df, counter_most_significative], axis = \"columns\")                  # Si concatena il dataframe con il df\n",
    "df.drop(labels=['production_companies'], axis=1, inplace=True)                      # Drop della colonna production_companies"
   ]
  },
  {
   "cell_type": "markdown",
   "metadata": {},
   "source": [
    "### Production Countries\n",
    "Nazionalità del film."
   ]
  },
  {
   "cell_type": "code",
   "execution_count": 88,
   "metadata": {},
   "outputs": [
    {
     "data": {
      "text/plain": [
       "[('United States of America', 2282),\n",
       " ('United Kingdom', 380),\n",
       " ('France', 222),\n",
       " ('Germany', 167),\n",
       " ('Canada', 120),\n",
       " ('India', 81),\n",
       " ('Italy', 64),\n",
       " ('Japan', 61),\n",
       " ('Australia', 61),\n",
       " ('Russia', 58),\n",
       " ('Spain', 54),\n",
       " ('China', 42),\n",
       " ('Hong Kong', 42),\n",
       " ('Ireland', 23),\n",
       " ('Belgium', 23)]"
      ]
     },
     "execution_count": 88,
     "metadata": {},
     "output_type": "execute_result"
    }
   ],
   "source": [
    "Counter(values_to_list(\"production_countries\", df)).most_common(15)"
   ]
  },
  {
   "cell_type": "markdown",
   "metadata": {},
   "source": [
    "Vediamo che nessun film ha valore NaN di `production_countries`"
   ]
  },
  {
   "cell_type": "code",
   "execution_count": 89,
   "metadata": {},
   "outputs": [
    {
     "data": {
      "text/plain": [
       "0"
      ]
     },
     "execution_count": 89,
     "metadata": {},
     "output_type": "execute_result"
    }
   ],
   "source": [
    "df['production_countries'].isna().sum()"
   ]
  },
  {
   "cell_type": "markdown",
   "metadata": {},
   "source": [
    "Analizziamo **quanti film** sono registrati **senza nazionalità**."
   ]
  },
  {
   "cell_type": "code",
   "execution_count": 90,
   "metadata": {},
   "outputs": [
    {
     "data": {
      "text/plain": [
       "55"
      ]
     },
     "execution_count": 90,
     "metadata": {},
     "output_type": "execute_result"
    }
   ],
   "source": [
    "empty_number('production_countries')"
   ]
  },
  {
   "cell_type": "markdown",
   "metadata": {},
   "source": [
    "Analizziamo il **numero di valori univoci** per la features `production_countries`."
   ]
  },
  {
   "cell_type": "code",
   "execution_count": 91,
   "metadata": {},
   "outputs": [
    {
     "data": {
      "text/plain": [
       "[('United States of America', 2282),\n",
       " ('United Kingdom', 380),\n",
       " ('France', 222),\n",
       " ('Germany', 167),\n",
       " ('Canada', 120),\n",
       " ('India', 81),\n",
       " ('Italy', 64),\n",
       " ('Japan', 61),\n",
       " ('Australia', 61),\n",
       " ('Russia', 58),\n",
       " ('Spain', 54),\n",
       " ('China', 42),\n",
       " ('Hong Kong', 42),\n",
       " ('Ireland', 23),\n",
       " ('Belgium', 23),\n",
       " ('South Korea', 22),\n",
       " ('Mexico', 19),\n",
       " ('Sweden', 18),\n",
       " ('New Zealand', 17),\n",
       " ('Netherlands', 15)]"
      ]
     },
     "execution_count": 91,
     "metadata": {},
     "output_type": "execute_result"
    }
   ],
   "source": [
    "Counter(values_to_list('production_countries', df)).most_common(20)"
   ]
  },
  {
   "cell_type": "markdown",
   "metadata": {},
   "source": [
    "Le frequenze di `production_countries` indicano una **forte prevalenza di stati famosi nel mondo del cinema**. \n",
    "Sono presenti, poi, ridotte frequenze per **stati più \"rari\"**, che assumiamo essere un indicatore **più significativo**. \n",
    "Riteniamo plausibile che i film prodotti in uno stato \"poco presente\" nel mondo del cinema possano avere caratteristiche più simili rispetto a molti film prodotti, ad esempio, in america. \n",
    "\n",
    "Per cui scartiamo tutte le `production_countries` poco significative, ovvero con una occorrenza maggiore di `50`."
   ]
  },
  {
   "cell_type": "code",
   "execution_count": 92,
   "metadata": {},
   "outputs": [],
   "source": [
    "# Rimozione di tutte le production_companies con meno di 50 occorrenze\n",
    "delete_useless_big_value(df, 50, 'production_countries')"
   ]
  },
  {
   "cell_type": "code",
   "execution_count": 93,
   "metadata": {
    "scrolled": true
   },
   "outputs": [
    {
     "data": {
      "text/plain": [
       "63"
      ]
     },
     "execution_count": 93,
     "metadata": {},
     "output_type": "execute_result"
    }
   ],
   "source": [
    "how_many('production_countries', df)"
   ]
  },
  {
   "cell_type": "markdown",
   "metadata": {},
   "source": [
    "**Idea:** \n",
    "- Rappresenrtiamo la `production_countries` come codifica binaria: appartiene o meno alla lista delle nazioni più significative"
   ]
  },
  {
   "cell_type": "code",
   "execution_count": 94,
   "metadata": {},
   "outputs": [],
   "source": [
    "MOST_SIGNIFICANT_COUNTRIES = list(Counter(values_to_list('production_countries', df))) # queste production_countries sono le più significative"
   ]
  },
  {
   "cell_type": "markdown",
   "metadata": {},
   "source": [
    "**Per ogni film**, andiamo a computare se **appartiene o meno ad una countires significativa.**"
   ]
  },
  {
   "cell_type": "code",
   "execution_count": 95,
   "metadata": {},
   "outputs": [],
   "source": [
    "binary_value = count_most_significative(df, 'production_countries', MOST_SIGNIFICANT_COUNTRIES)   # ritorna un dataframe\n",
    "df = pd.concat([df, binary_value], axis = \"columns\")                 # Si concatena il dataframe con il df\n",
    "df.drop(labels=['production_countries'], axis=1, inplace=True)       # Drop della colonna production_countries"
   ]
  },
  {
   "cell_type": "markdown",
   "metadata": {},
   "source": [
    "### Release Date\n",
    "Data di uscita del film.  \n",
    "La data, nel dataframe, è in formato stringa: poco utile.  \n",
    "Vogliamo **trasformarla in più colonne** indicanti l'anno, il mese, il giorno della settimana e la settimana nell'anno. "
   ]
  },
  {
   "cell_type": "markdown",
   "metadata": {},
   "source": [
    "Vediamo che nessun film ha valore NaN di `release_date`"
   ]
  },
  {
   "cell_type": "code",
   "execution_count": 96,
   "metadata": {},
   "outputs": [
    {
     "data": {
      "text/plain": [
       "0"
      ]
     },
     "execution_count": 96,
     "metadata": {},
     "output_type": "execute_result"
    }
   ],
   "source": [
    "df['release_date'].isna().sum()"
   ]
  },
  {
   "cell_type": "code",
   "execution_count": 97,
   "metadata": {},
   "outputs": [],
   "source": [
    "# Coversione della data da tipo stringa a tipo data\n",
    "df[\"release_date\"] = pd.to_datetime(df[\"release_date\"], errors = \"coerce\", infer_datetime_format=True)"
   ]
  },
  {
   "cell_type": "code",
   "execution_count": 98,
   "metadata": {},
   "outputs": [],
   "source": [
    "# Splitting della data in Anno, Mese, N° settimana e Giorno della settimana.\n",
    "df[\"year_release\"] = df[\"release_date\"].dt.year\n",
    "df[\"month_release\"] = df[\"release_date\"].dt.month\n",
    "df[\"week_of_year_release\"] = df[\"release_date\"].dt.weekofyear\n",
    "df[\"day_of_week_release\"] = df[\"release_date\"].dt.weekday"
   ]
  },
  {
   "cell_type": "code",
   "execution_count": 99,
   "metadata": {},
   "outputs": [],
   "source": [
    "# Rimozione della features modificata\n",
    "df.drop(labels=[\"release_date\"], axis='columns', inplace=True)"
   ]
  },
  {
   "cell_type": "code",
   "execution_count": 100,
   "metadata": {},
   "outputs": [
    {
     "data": {
      "text/plain": [
       "[<matplotlib.lines.Line2D at 0x1686898a1c0>]"
      ]
     },
     "execution_count": 100,
     "metadata": {},
     "output_type": "execute_result"
    },
    {
     "data": {
      "image/png": "[encoded data removed]",
      "text/plain": [
       "<Figure size 1080x216 with 1 Axes>"
      ]
     },
     "metadata": {
      "needs_background": "light"
     },
     "output_type": "display_data"
    }
   ],
   "source": [
    "plt.figure(figsize=(15,3)) # Grandezza del grafico\n",
    "plt.plot(df.groupby(\"year_release\").size())"
   ]
  },
  {
   "cell_type": "code",
   "execution_count": 101,
   "metadata": {},
   "outputs": [
    {
     "data": {
      "text/plain": [
       "[<matplotlib.lines.Line2D at 0x168689fbc10>]"
      ]
     },
     "execution_count": 101,
     "metadata": {},
     "output_type": "execute_result"
    },
    {
     "data": {
      "image/png": "[encoded data removed]",
      "text/plain": [
       "<Figure size 1080x216 with 1 Axes>"
      ]
     },
     "metadata": {
      "needs_background": "light"
     },
     "output_type": "display_data"
    }
   ],
   "source": [
    "plt.figure(figsize=(15,3)) # Grandezza del grafico\n",
    "plt.plot(df.groupby(\"month_release\").size())"
   ]
  },
  {
   "cell_type": "code",
   "execution_count": 102,
   "metadata": {},
   "outputs": [
    {
     "data": {
      "text/plain": [
       "[<matplotlib.lines.Line2D at 0x16868b464c0>]"
      ]
     },
     "execution_count": 102,
     "metadata": {},
     "output_type": "execute_result"
    },
    {
     "data": {
      "image/png": "[encoded data removed]",
      "text/plain": [
       "<Figure size 1080x216 with 1 Axes>"
      ]
     },
     "metadata": {
      "needs_background": "light"
     },
     "output_type": "display_data"
    }
   ],
   "source": [
    "plt.figure(figsize=(15,3)) # Grandezza del grafico\n",
    "plt.plot(df.groupby(\"week_of_year_release\").size())"
   ]
  },
  {
   "cell_type": "code",
   "execution_count": 103,
   "metadata": {},
   "outputs": [
    {
     "data": {
      "text/plain": [
       "[<matplotlib.lines.Line2D at 0x168694421c0>]"
      ]
     },
     "execution_count": 103,
     "metadata": {},
     "output_type": "execute_result"
    },
    {
     "data": {
      "image/png": "[encoded data removed]",
      "text/plain": [
       "<Figure size 1080x216 with 1 Axes>"
      ]
     },
     "metadata": {
      "needs_background": "light"
     },
     "output_type": "display_data"
    }
   ],
   "source": [
    "plt.figure(figsize=(15,3)) # Grandezza del grafico\n",
    "plt.plot(df.groupby(\"day_of_week_release\").size())"
   ]
  },
  {
   "cell_type": "markdown",
   "metadata": {},
   "source": [
    "Possiamo notare dal **grafico dell'anno** che nel dataframe sono presenti film con **anno di rilascio superiore all'anno attuale**: **vengono dal futuro?** Proviamo a scoprirlo.   \n",
    "\n",
    "Visualizziamo i film con data superiore alla data di rilascio del database. "
   ]
  },
  {
   "cell_type": "code",
   "execution_count": 104,
   "metadata": {},
   "outputs": [
    {
     "data": {
      "text/plain": [
       "160"
      ]
     },
     "execution_count": 104,
     "metadata": {},
     "output_type": "execute_result"
    }
   ],
   "source": [
    "(df['year_release'] >= 2018).sum()"
   ]
  },
  {
   "cell_type": "code",
   "execution_count": 105,
   "metadata": {},
   "outputs": [
    {
     "data": {
      "text/html": [
       "<div>\n",
       "<style scoped>\n",
       "    .dataframe tbody tr th:only-of-type {\n",
       "        vertical-align: middle;\n",
       "    }\n",
       "\n",
       "    .dataframe tbody tr th {\n",
       "        vertical-align: top;\n",
       "    }\n",
       "\n",
       "    .dataframe thead th {\n",
       "        text-align: right;\n",
       "    }\n",
       "</style>\n",
       "<table border=\"1\" class=\"dataframe\">\n",
       "  <thead>\n",
       "    <tr style=\"text-align: right;\">\n",
       "      <th></th>\n",
       "      <th>belongs_to_collection</th>\n",
       "      <th>budget</th>\n",
       "      <th>imdb_id</th>\n",
       "      <th>popularity</th>\n",
       "      <th>runtime</th>\n",
       "      <th>spoken_languages</th>\n",
       "      <th>keywords</th>\n",
       "      <th>cast</th>\n",
       "      <th>revenue</th>\n",
       "      <th>cast_count</th>\n",
       "      <th>director</th>\n",
       "      <th>crew_count</th>\n",
       "      <th>production_companies_most_significative</th>\n",
       "      <th>production_countries_most_significative</th>\n",
       "      <th>year_release</th>\n",
       "      <th>month_release</th>\n",
       "      <th>week_of_year_release</th>\n",
       "      <th>day_of_week_release</th>\n",
       "    </tr>\n",
       "  </thead>\n",
       "  <tbody>\n",
       "    <tr>\n",
       "      <th>39</th>\n",
       "      <td>0</td>\n",
       "      <td>3800000</td>\n",
       "      <td>tt0059418</td>\n",
       "      <td>3.055936</td>\n",
       "      <td>123.0</td>\n",
       "      <td>[English, Français, Español]</td>\n",
       "      <td>[mexico, prisoners of war, apache, raid, confe...</td>\n",
       "      <td>[Charlton Heston, Richard Harris, Jim Hutton, ...</td>\n",
       "      <td>14873</td>\n",
       "      <td>14</td>\n",
       "      <td>[SamPeckinpah]</td>\n",
       "      <td>12</td>\n",
       "      <td>1</td>\n",
       "      <td>0</td>\n",
       "      <td>2065</td>\n",
       "      <td>4</td>\n",
       "      <td>15</td>\n",
       "      <td>1</td>\n",
       "    </tr>\n",
       "    <tr>\n",
       "      <th>41</th>\n",
       "      <td>0</td>\n",
       "      <td>3000000</td>\n",
       "      <td>tt0061512</td>\n",
       "      <td>9.718713</td>\n",
       "      <td>126.0</td>\n",
       "      <td>[English]</td>\n",
       "      <td>[prison, rebel, loss of mother, harassment, im...</td>\n",
       "      <td>[Paul Newman, George Kennedy, Luke Askew, Morg...</td>\n",
       "      <td>16217773</td>\n",
       "      <td>32</td>\n",
       "      <td>[StuartRosenberg]</td>\n",
       "      <td>28</td>\n",
       "      <td>1</td>\n",
       "      <td>0</td>\n",
       "      <td>2067</td>\n",
       "      <td>6</td>\n",
       "      <td>25</td>\n",
       "      <td>2</td>\n",
       "    </tr>\n",
       "    <tr>\n",
       "      <th>51</th>\n",
       "      <td>0</td>\n",
       "      <td>12000000</td>\n",
       "      <td>tt0059243</td>\n",
       "      <td>4.473327</td>\n",
       "      <td>160.0</td>\n",
       "      <td>[English, Italiano]</td>\n",
       "      <td>[slapstick, ensemble cast, automobile racing, ...</td>\n",
       "      <td>[Jack Lemmon, Tony Curtis, Natalie Wood, Peter...</td>\n",
       "      <td>25333333</td>\n",
       "      <td>17</td>\n",
       "      <td>[BlakeEdwards]</td>\n",
       "      <td>6</td>\n",
       "      <td>1</td>\n",
       "      <td>0</td>\n",
       "      <td>2065</td>\n",
       "      <td>7</td>\n",
       "      <td>27</td>\n",
       "      <td>2</td>\n",
       "    </tr>\n",
       "    <tr>\n",
       "      <th>61</th>\n",
       "      <td>0</td>\n",
       "      <td>4000000</td>\n",
       "      <td>tt0049875</td>\n",
       "      <td>1.801071</td>\n",
       "      <td>105.0</td>\n",
       "      <td>[English, Italiano]</td>\n",
       "      <td>[circus, trapeze artist]</td>\n",
       "      <td>[Burt Lancaster, Tony Curtis, Gina Lollobrigid...</td>\n",
       "      <td>14400000</td>\n",
       "      <td>15</td>\n",
       "      <td>[CarolReed]</td>\n",
       "      <td>9</td>\n",
       "      <td>0</td>\n",
       "      <td>0</td>\n",
       "      <td>2056</td>\n",
       "      <td>5</td>\n",
       "      <td>22</td>\n",
       "      <td>1</td>\n",
       "    </tr>\n",
       "    <tr>\n",
       "      <th>68</th>\n",
       "      <td>0</td>\n",
       "      <td>2000000</td>\n",
       "      <td>tt0056592</td>\n",
       "      <td>14.284787</td>\n",
       "      <td>129.0</td>\n",
       "      <td>[English]</td>\n",
       "      <td>[black people, based on novel, brother sister ...</td>\n",
       "      <td>[Gregory Peck, Brock Peters, James Anderson, M...</td>\n",
       "      <td>13129846</td>\n",
       "      <td>56</td>\n",
       "      <td>[RobertMulligan]</td>\n",
       "      <td>34</td>\n",
       "      <td>1</td>\n",
       "      <td>0</td>\n",
       "      <td>2062</td>\n",
       "      <td>12</td>\n",
       "      <td>52</td>\n",
       "      <td>0</td>\n",
       "    </tr>\n",
       "    <tr>\n",
       "      <th>...</th>\n",
       "      <td>...</td>\n",
       "      <td>...</td>\n",
       "      <td>...</td>\n",
       "      <td>...</td>\n",
       "      <td>...</td>\n",
       "      <td>...</td>\n",
       "      <td>...</td>\n",
       "      <td>...</td>\n",
       "      <td>...</td>\n",
       "      <td>...</td>\n",
       "      <td>...</td>\n",
       "      <td>...</td>\n",
       "      <td>...</td>\n",
       "      <td>...</td>\n",
       "      <td>...</td>\n",
       "      <td>...</td>\n",
       "      <td>...</td>\n",
       "      <td>...</td>\n",
       "    </tr>\n",
       "    <tr>\n",
       "      <th>2932</th>\n",
       "      <td>0</td>\n",
       "      <td>12000000</td>\n",
       "      <td>tt0060934</td>\n",
       "      <td>11.354247</td>\n",
       "      <td>182.0</td>\n",
       "      <td>[English, 普通话]</td>\n",
       "      <td>[missionary, china, u.s. navy, chinese, battle...</td>\n",
       "      <td>[Steve McQueen, Richard Attenborough, Richard ...</td>\n",
       "      <td>20000000</td>\n",
       "      <td>30</td>\n",
       "      <td>[RobertWise]</td>\n",
       "      <td>13</td>\n",
       "      <td>1</td>\n",
       "      <td>0</td>\n",
       "      <td>2066</td>\n",
       "      <td>12</td>\n",
       "      <td>51</td>\n",
       "      <td>0</td>\n",
       "    </tr>\n",
       "    <tr>\n",
       "      <th>2945</th>\n",
       "      <td>0</td>\n",
       "      <td>1000000</td>\n",
       "      <td>tt0057590</td>\n",
       "      <td>3.315827</td>\n",
       "      <td>128.0</td>\n",
       "      <td>[English]</td>\n",
       "      <td>[from rags to riches, tutor, squire]</td>\n",
       "      <td>[Albert Finney, Susannah York, Hugh Griffith, ...</td>\n",
       "      <td>37600000</td>\n",
       "      <td>18</td>\n",
       "      <td>[TonyRichardson]</td>\n",
       "      <td>7</td>\n",
       "      <td>0</td>\n",
       "      <td>0</td>\n",
       "      <td>2063</td>\n",
       "      <td>10</td>\n",
       "      <td>40</td>\n",
       "      <td>5</td>\n",
       "    </tr>\n",
       "    <tr>\n",
       "      <th>2946</th>\n",
       "      <td>0</td>\n",
       "      <td>483103</td>\n",
       "      <td>tt0018183</td>\n",
       "      <td>0.205671</td>\n",
       "      <td>80.0</td>\n",
       "      <td>[English]</td>\n",
       "      <td>[]</td>\n",
       "      <td>[Mary Pickford, Charles 'Buddy' Rogers, Sunshi...</td>\n",
       "      <td>1027757</td>\n",
       "      <td>23</td>\n",
       "      <td>[SamTaylor]</td>\n",
       "      <td>10</td>\n",
       "      <td>0</td>\n",
       "      <td>0</td>\n",
       "      <td>2027</td>\n",
       "      <td>10</td>\n",
       "      <td>43</td>\n",
       "      <td>6</td>\n",
       "    </tr>\n",
       "    <tr>\n",
       "      <th>2967</th>\n",
       "      <td>1</td>\n",
       "      <td>2000000</td>\n",
       "      <td>tt0054997</td>\n",
       "      <td>9.333533</td>\n",
       "      <td>134.0</td>\n",
       "      <td>[English]</td>\n",
       "      <td>[suicide, gambling, manager, alcohol, based on...</td>\n",
       "      <td>[Paul Newman, Jackie Gleason, Piper Laurie, Ge...</td>\n",
       "      <td>7600000</td>\n",
       "      <td>15</td>\n",
       "      <td>[RobertRossen]</td>\n",
       "      <td>14</td>\n",
       "      <td>1</td>\n",
       "      <td>0</td>\n",
       "      <td>2061</td>\n",
       "      <td>9</td>\n",
       "      <td>38</td>\n",
       "      <td>6</td>\n",
       "    </tr>\n",
       "    <tr>\n",
       "      <th>2992</th>\n",
       "      <td>0</td>\n",
       "      <td>1135654</td>\n",
       "      <td>tt0015400</td>\n",
       "      <td>3.878515</td>\n",
       "      <td>149.0</td>\n",
       "      <td>[No Language]</td>\n",
       "      <td>[male nudity, treasure, magic, palace, flying ...</td>\n",
       "      <td>[Douglas Fairbanks, Snitz Edwards, Charles Bel...</td>\n",
       "      <td>1213880</td>\n",
       "      <td>21</td>\n",
       "      <td>[RaoulWalsh]</td>\n",
       "      <td>28</td>\n",
       "      <td>0</td>\n",
       "      <td>0</td>\n",
       "      <td>2024</td>\n",
       "      <td>3</td>\n",
       "      <td>12</td>\n",
       "      <td>0</td>\n",
       "    </tr>\n",
       "  </tbody>\n",
       "</table>\n",
       "<p>160 rows × 18 columns</p>\n",
       "</div>"
      ],
      "text/plain": [
       "      belongs_to_collection    budget    imdb_id  popularity  runtime  \\\n",
       "39                        0   3800000  tt0059418    3.055936    123.0   \n",
       "41                        0   3000000  tt0061512    9.718713    126.0   \n",
       "51                        0  12000000  tt0059243    4.473327    160.0   \n",
       "61                        0   4000000  tt0049875    1.801071    105.0   \n",
       "68                        0   2000000  tt0056592   14.284787    129.0   \n",
       "...                     ...       ...        ...         ...      ...   \n",
       "2932                      0  12000000  tt0060934   11.354247    182.0   \n",
       "2945                      0   1000000  tt0057590    3.315827    128.0   \n",
       "2946                      0    483103  tt0018183    0.205671     80.0   \n",
       "2967                      1   2000000  tt0054997    9.333533    134.0   \n",
       "2992                      0   1135654  tt0015400    3.878515    149.0   \n",
       "\n",
       "                  spoken_languages  \\\n",
       "39    [English, Français, Español]   \n",
       "41                       [English]   \n",
       "51             [English, Italiano]   \n",
       "61             [English, Italiano]   \n",
       "68                       [English]   \n",
       "...                            ...   \n",
       "2932                [English, 普通话]   \n",
       "2945                     [English]   \n",
       "2946                     [English]   \n",
       "2967                     [English]   \n",
       "2992                 [No Language]   \n",
       "\n",
       "                                               keywords  \\\n",
       "39    [mexico, prisoners of war, apache, raid, confe...   \n",
       "41    [prison, rebel, loss of mother, harassment, im...   \n",
       "51    [slapstick, ensemble cast, automobile racing, ...   \n",
       "61                             [circus, trapeze artist]   \n",
       "68    [black people, based on novel, brother sister ...   \n",
       "...                                                 ...   \n",
       "2932  [missionary, china, u.s. navy, chinese, battle...   \n",
       "2945               [from rags to riches, tutor, squire]   \n",
       "2946                                                 []   \n",
       "2967  [suicide, gambling, manager, alcohol, based on...   \n",
       "2992  [male nudity, treasure, magic, palace, flying ...   \n",
       "\n",
       "                                                   cast   revenue  cast_count  \\\n",
       "39    [Charlton Heston, Richard Harris, Jim Hutton, ...     14873          14   \n",
       "41    [Paul Newman, George Kennedy, Luke Askew, Morg...  16217773          32   \n",
       "51    [Jack Lemmon, Tony Curtis, Natalie Wood, Peter...  25333333          17   \n",
       "61    [Burt Lancaster, Tony Curtis, Gina Lollobrigid...  14400000          15   \n",
       "68    [Gregory Peck, Brock Peters, James Anderson, M...  13129846          56   \n",
       "...                                                 ...       ...         ...   \n",
       "2932  [Steve McQueen, Richard Attenborough, Richard ...  20000000          30   \n",
       "2945  [Albert Finney, Susannah York, Hugh Griffith, ...  37600000          18   \n",
       "2946  [Mary Pickford, Charles 'Buddy' Rogers, Sunshi...   1027757          23   \n",
       "2967  [Paul Newman, Jackie Gleason, Piper Laurie, Ge...   7600000          15   \n",
       "2992  [Douglas Fairbanks, Snitz Edwards, Charles Bel...   1213880          21   \n",
       "\n",
       "               director  crew_count  production_companies_most_significative  \\\n",
       "39       [SamPeckinpah]          12                                        1   \n",
       "41    [StuartRosenberg]          28                                        1   \n",
       "51       [BlakeEdwards]           6                                        1   \n",
       "61          [CarolReed]           9                                        0   \n",
       "68     [RobertMulligan]          34                                        1   \n",
       "...                 ...         ...                                      ...   \n",
       "2932       [RobertWise]          13                                        1   \n",
       "2945   [TonyRichardson]           7                                        0   \n",
       "2946        [SamTaylor]          10                                        0   \n",
       "2967     [RobertRossen]          14                                        1   \n",
       "2992       [RaoulWalsh]          28                                        0   \n",
       "\n",
       "      production_countries_most_significative  year_release  month_release  \\\n",
       "39                                          0          2065              4   \n",
       "41                                          0          2067              6   \n",
       "51                                          0          2065              7   \n",
       "61                                          0          2056              5   \n",
       "68                                          0          2062             12   \n",
       "...                                       ...           ...            ...   \n",
       "2932                                        0          2066             12   \n",
       "2945                                        0          2063             10   \n",
       "2946                                        0          2027             10   \n",
       "2967                                        0          2061              9   \n",
       "2992                                        0          2024              3   \n",
       "\n",
       "      week_of_year_release  day_of_week_release  \n",
       "39                      15                    1  \n",
       "41                      25                    2  \n",
       "51                      27                    2  \n",
       "61                      22                    1  \n",
       "68                      52                    0  \n",
       "...                    ...                  ...  \n",
       "2932                    51                    0  \n",
       "2945                    40                    5  \n",
       "2946                    43                    6  \n",
       "2967                    38                    6  \n",
       "2992                    12                    0  \n",
       "\n",
       "[160 rows x 18 columns]"
      ]
     },
     "execution_count": 105,
     "metadata": {},
     "output_type": "execute_result"
    }
   ],
   "source": [
    "df[df['year_release'] >= 2018]"
   ]
  },
  {
   "cell_type": "markdown",
   "metadata": {},
   "source": [
    "Cercando gli `imdb_id` di un numero sufficiente di film, si può notare che le date sono **riferite al 1900** e non al 2000.  \n",
    "Ad esempio, il primo film con `imdb_id = tt0059418` è stato rilasciato nel 1965 e non nel 2065. (https://www.imdb.com/title/tt0059418/)  \n",
    "\n",
    "Non potendo controllare tutti i film manualmente, assumiamo che tutti i film con data superiore al 2018 sono in realtà riferiti a 100 anni prima, per cui **modifichiamo tali dati sottraendo 100 anni**. "
   ]
  },
  {
   "cell_type": "code",
   "execution_count": 106,
   "metadata": {},
   "outputs": [],
   "source": [
    "df['year_release'] = df.year_release.mask(df.year_release >= 2018, df.year_release-100)"
   ]
  },
  {
   "cell_type": "code",
   "execution_count": 107,
   "metadata": {},
   "outputs": [
    {
     "data": {
      "text/plain": [
       "0"
      ]
     },
     "execution_count": 107,
     "metadata": {},
     "output_type": "execute_result"
    }
   ],
   "source": [
    "(df['year_release'] >= 2018).sum()"
   ]
  },
  {
   "cell_type": "code",
   "execution_count": 108,
   "metadata": {},
   "outputs": [
    {
     "data": {
      "text/plain": [
       "[<matplotlib.lines.Line2D at 0x16869494400>]"
      ]
     },
     "execution_count": 108,
     "metadata": {},
     "output_type": "execute_result"
    },
    {
     "data": {
      "image/png": "[encoded data removed]",
      "text/plain": [
       "<Figure size 1080x216 with 1 Axes>"
      ]
     },
     "metadata": {
      "needs_background": "light"
     },
     "output_type": "display_data"
    }
   ],
   "source": [
    "plt.figure(figsize=(15,3)) # Grandezza del grafico\n",
    "plt.plot(df.groupby(\"year_release\").size())"
   ]
  },
  {
   "cell_type": "markdown",
   "metadata": {},
   "source": [
    "### Runtime\n",
    "Durata del film."
   ]
  },
  {
   "cell_type": "code",
   "execution_count": 109,
   "metadata": {},
   "outputs": [
    {
     "data": {
      "text/plain": [
       "Text(0.5, 1.0, 'Istogramma del Runtime')"
      ]
     },
     "execution_count": 109,
     "metadata": {},
     "output_type": "execute_result"
    },
    {
     "data": {
      "image/png": "[encoded data removed]",
      "text/plain": [
       "<Figure size 1080x360 with 1 Axes>"
      ]
     },
     "metadata": {
      "needs_background": "light"
     },
     "output_type": "display_data"
    }
   ],
   "source": [
    "plt.figure(figsize=(15,5)) # Grandezza del grafico\n",
    "sns.distplot(df['runtime']).set_title(\"Istogramma del Runtime\") # generazione del grafico"
   ]
  },
  {
   "cell_type": "markdown",
   "metadata": {},
   "source": [
    "Vediamo che due film hanno **valore NaN di** `runtime`"
   ]
  },
  {
   "cell_type": "code",
   "execution_count": 110,
   "metadata": {},
   "outputs": [
    {
     "data": {
      "text/plain": [
       "2"
      ]
     },
     "execution_count": 110,
     "metadata": {},
     "output_type": "execute_result"
    }
   ],
   "source": [
    "df['runtime'].isna().sum()"
   ]
  },
  {
   "cell_type": "markdown",
   "metadata": {},
   "source": [
    "Quali sono questi due film?"
   ]
  },
  {
   "cell_type": "code",
   "execution_count": 111,
   "metadata": {},
   "outputs": [
    {
     "data": {
      "text/html": [
       "<div>\n",
       "<style scoped>\n",
       "    .dataframe tbody tr th:only-of-type {\n",
       "        vertical-align: middle;\n",
       "    }\n",
       "\n",
       "    .dataframe tbody tr th {\n",
       "        vertical-align: top;\n",
       "    }\n",
       "\n",
       "    .dataframe thead th {\n",
       "        text-align: right;\n",
       "    }\n",
       "</style>\n",
       "<table border=\"1\" class=\"dataframe\">\n",
       "  <thead>\n",
       "    <tr style=\"text-align: right;\">\n",
       "      <th></th>\n",
       "      <th>belongs_to_collection</th>\n",
       "      <th>budget</th>\n",
       "      <th>imdb_id</th>\n",
       "      <th>popularity</th>\n",
       "      <th>runtime</th>\n",
       "      <th>spoken_languages</th>\n",
       "      <th>keywords</th>\n",
       "      <th>cast</th>\n",
       "      <th>revenue</th>\n",
       "      <th>cast_count</th>\n",
       "      <th>director</th>\n",
       "      <th>crew_count</th>\n",
       "      <th>production_companies_most_significative</th>\n",
       "      <th>production_countries_most_significative</th>\n",
       "      <th>year_release</th>\n",
       "      <th>month_release</th>\n",
       "      <th>week_of_year_release</th>\n",
       "      <th>day_of_week_release</th>\n",
       "    </tr>\n",
       "  </thead>\n",
       "  <tbody>\n",
       "    <tr>\n",
       "      <th>1335</th>\n",
       "      <td>0</td>\n",
       "      <td>6000000</td>\n",
       "      <td>tt1107828</td>\n",
       "      <td>0.292296</td>\n",
       "      <td>NaN</td>\n",
       "      <td>[]</td>\n",
       "      <td>[]</td>\n",
       "      <td>[Sergei Astahov]</td>\n",
       "      <td>31000</td>\n",
       "      <td>1</td>\n",
       "      <td>[YuriyKara]</td>\n",
       "      <td>2</td>\n",
       "      <td>0</td>\n",
       "      <td>0</td>\n",
       "      <td>2007</td>\n",
       "      <td>10</td>\n",
       "      <td>44</td>\n",
       "      <td>0</td>\n",
       "    </tr>\n",
       "    <tr>\n",
       "      <th>2302</th>\n",
       "      <td>0</td>\n",
       "      <td>0</td>\n",
       "      <td>tt0116485</td>\n",
       "      <td>0.002229</td>\n",
       "      <td>NaN</td>\n",
       "      <td>[Deutsch]</td>\n",
       "      <td>[sex, adultery, group sex, bisexuality]</td>\n",
       "      <td>[Erik Goertz, Anton Rattinger, Dieter Wardetzk...</td>\n",
       "      <td>65335</td>\n",
       "      <td>7</td>\n",
       "      <td>[]</td>\n",
       "      <td>0</td>\n",
       "      <td>0</td>\n",
       "      <td>0</td>\n",
       "      <td>1996</td>\n",
       "      <td>3</td>\n",
       "      <td>11</td>\n",
       "      <td>3</td>\n",
       "    </tr>\n",
       "  </tbody>\n",
       "</table>\n",
       "</div>"
      ],
      "text/plain": [
       "      belongs_to_collection   budget    imdb_id  popularity  runtime  \\\n",
       "1335                      0  6000000  tt1107828    0.292296      NaN   \n",
       "2302                      0        0  tt0116485    0.002229      NaN   \n",
       "\n",
       "     spoken_languages                                 keywords  \\\n",
       "1335               []                                       []   \n",
       "2302        [Deutsch]  [sex, adultery, group sex, bisexuality]   \n",
       "\n",
       "                                                   cast  revenue  cast_count  \\\n",
       "1335                                   [Sergei Astahov]    31000           1   \n",
       "2302  [Erik Goertz, Anton Rattinger, Dieter Wardetzk...    65335           7   \n",
       "\n",
       "         director  crew_count  production_companies_most_significative  \\\n",
       "1335  [YuriyKara]           2                                        0   \n",
       "2302           []           0                                        0   \n",
       "\n",
       "      production_countries_most_significative  year_release  month_release  \\\n",
       "1335                                        0          2007             10   \n",
       "2302                                        0          1996              3   \n",
       "\n",
       "      week_of_year_release  day_of_week_release  \n",
       "1335                    44                    0  \n",
       "2302                    11                    3  "
      ]
     },
     "execution_count": 111,
     "metadata": {},
     "output_type": "execute_result"
    }
   ],
   "source": [
    "df[df['runtime'].isna()]"
   ]
  },
  {
   "cell_type": "markdown",
   "metadata": {},
   "source": [
    "Inseriamo i valori **corretti manualmente**"
   ]
  },
  {
   "cell_type": "code",
   "execution_count": 112,
   "metadata": {},
   "outputs": [],
   "source": [
    "df.loc[1335,'runtime'] = 130         # https://www.imdb.com/title/tt1107828/\n",
    "df.loc[2302,'runtime'] = 90          # https://trakt.tv/movies/happy-weekend-1996"
   ]
  },
  {
   "cell_type": "markdown",
   "metadata": {},
   "source": [
    "Molti film, inoltre, hanno `runtime` pari a 0, il che ovviamente non ha senso."
   ]
  },
  {
   "cell_type": "code",
   "execution_count": 113,
   "metadata": {},
   "outputs": [
    {
     "data": {
      "text/plain": [
       "12"
      ]
     },
     "execution_count": 113,
     "metadata": {},
     "output_type": "execute_result"
    }
   ],
   "source": [
    "(df['runtime']==0).sum()"
   ]
  },
  {
   "cell_type": "markdown",
   "metadata": {},
   "source": [
    "La sistemazione dei valori **sostituendo gli 0 con la mediana** verrà fatta successivamente lo spitting in train e test. "
   ]
  },
  {
   "cell_type": "markdown",
   "metadata": {},
   "source": [
    "### Spoken languages\n",
    "Lingue in cui il film è stato tradotto."
   ]
  },
  {
   "cell_type": "code",
   "execution_count": 114,
   "metadata": {},
   "outputs": [
    {
     "data": {
      "text/plain": [
       "[('English', 2618),\n",
       " ('Français', 288),\n",
       " ('Español', 239),\n",
       " ('Deutsch', 169),\n",
       " ('Pусский', 152),\n",
       " ('Italiano', 124),\n",
       " ('日本語', 89),\n",
       " ('普通话', 68),\n",
       " ('हिन्दी', 56),\n",
       " ('', 47),\n",
       " ('Português', 43),\n",
       " ('العربية', 40),\n",
       " ('한국어/조선말', 37),\n",
       " ('广州话 / 廣州話', 36),\n",
       " ('தமிழ்', 27)]"
      ]
     },
     "execution_count": 114,
     "metadata": {},
     "output_type": "execute_result"
    }
   ],
   "source": [
    "Counter(values_to_list(\"spoken_languages\", df)).most_common(15)"
   ]
  },
  {
   "cell_type": "markdown",
   "metadata": {},
   "source": [
    "Vediamo che nessun film ha valore NaN di `spoken_languages`"
   ]
  },
  {
   "cell_type": "code",
   "execution_count": 115,
   "metadata": {},
   "outputs": [
    {
     "data": {
      "text/plain": [
       "0"
      ]
     },
     "execution_count": 115,
     "metadata": {},
     "output_type": "execute_result"
    }
   ],
   "source": [
    "df['spoken_languages'].isna().sum()"
   ]
  },
  {
   "cell_type": "markdown",
   "metadata": {},
   "source": [
    "Analizziamo **quanti film** sono registrati **senza lingue di traduzione**."
   ]
  },
  {
   "cell_type": "code",
   "execution_count": 116,
   "metadata": {},
   "outputs": [
    {
     "data": {
      "text/plain": [
       "20"
      ]
     },
     "execution_count": 116,
     "metadata": {},
     "output_type": "execute_result"
    }
   ],
   "source": [
    "empty_number('spoken_languages')"
   ]
  },
  {
   "cell_type": "markdown",
   "metadata": {},
   "source": [
    "Analizziamo il **numero di valori univoci** per la features `spoken_languages`."
   ]
  },
  {
   "cell_type": "code",
   "execution_count": 117,
   "metadata": {},
   "outputs": [
    {
     "data": {
      "text/plain": [
       "56"
      ]
     },
     "execution_count": 117,
     "metadata": {},
     "output_type": "execute_result"
    }
   ],
   "source": [
    "how_many('spoken_languages', df)"
   ]
  },
  {
   "cell_type": "markdown",
   "metadata": {},
   "source": [
    "Il numero non è eccessivo, ma riteniamo **più utile** conoscere il **numero di lingue** in cui il film è tradotto **rispetto** a sapere in **quali lingue**."
   ]
  },
  {
   "cell_type": "code",
   "execution_count": 118,
   "metadata": {
    "scrolled": false
   },
   "outputs": [],
   "source": [
    "df['spoken_languages'] = df['spoken_languages'].apply(len)"
   ]
  },
  {
   "cell_type": "markdown",
   "metadata": {},
   "source": [
    "### Keywords\n",
    "Parole chiave per il film."
   ]
  },
  {
   "cell_type": "code",
   "execution_count": 119,
   "metadata": {},
   "outputs": [
    {
     "data": {
      "text/plain": [
       "[('woman director', 175),\n",
       " ('independent film', 155),\n",
       " ('duringcreditsstinger', 134),\n",
       " ('murder', 123),\n",
       " ('based on novel', 111),\n",
       " ('violence', 87),\n",
       " ('sport', 82),\n",
       " ('biography', 77),\n",
       " ('aftercreditsstinger', 75),\n",
       " ('dystopia', 73),\n",
       " ('revenge', 73),\n",
       " ('friendship', 72),\n",
       " ('sex', 71),\n",
       " ('suspense', 67),\n",
       " ('sequel', 66)]"
      ]
     },
     "execution_count": 119,
     "metadata": {},
     "output_type": "execute_result"
    }
   ],
   "source": [
    "Counter(values_to_list(\"keywords\", df)).most_common(15)"
   ]
  },
  {
   "cell_type": "markdown",
   "metadata": {},
   "source": [
    "Vediamo che nessun film ha valore NaN di `keywords`"
   ]
  },
  {
   "cell_type": "code",
   "execution_count": 120,
   "metadata": {},
   "outputs": [
    {
     "data": {
      "text/plain": [
       "0"
      ]
     },
     "execution_count": 120,
     "metadata": {},
     "output_type": "execute_result"
    }
   ],
   "source": [
    "df['keywords'].isna().sum()"
   ]
  },
  {
   "cell_type": "markdown",
   "metadata": {},
   "source": [
    "Analizziamo **quanti film** sono registrati **senza keywords**."
   ]
  },
  {
   "cell_type": "code",
   "execution_count": 121,
   "metadata": {},
   "outputs": [
    {
     "data": {
      "text/plain": [
       "276"
      ]
     },
     "execution_count": 121,
     "metadata": {},
     "output_type": "execute_result"
    }
   ],
   "source": [
    "empty_number('keywords')"
   ]
  },
  {
   "cell_type": "markdown",
   "metadata": {},
   "source": [
    "### Cast\n",
    "Attori dei film"
   ]
  },
  {
   "cell_type": "markdown",
   "metadata": {},
   "source": [
    "Analizziamo il **numero di valori univoci** per la features `cast`."
   ]
  },
  {
   "cell_type": "code",
   "execution_count": 122,
   "metadata": {
    "scrolled": true
   },
   "outputs": [
    {
     "data": {
      "text/plain": [
       "7718"
      ]
     },
     "execution_count": 122,
     "metadata": {},
     "output_type": "execute_result"
    }
   ],
   "source": [
    "how_many('cast', df)"
   ]
  },
  {
   "cell_type": "markdown",
   "metadata": {},
   "source": [
    "Assolutamente troppi... dobbiamo ridurre di molto!\n",
    "\n",
    "**Idea:** \n",
    "- Di ogni film abbiamo già tenuto solo i primi 5 (i più importanti, come già analizzato in precedenza)\n",
    "- Si mantengono i **most-significative** fra tutti gli attori selezionati, in modo da ottenere una lista degli attori più frequenti nel dataframe (che, secondo noi, sono anche i più famosi, tranne alcune eccezioni)\n",
    "- Per ogni film, si mantiene il **numero di attori most-common** che hanno recitato in quel film"
   ]
  },
  {
   "cell_type": "code",
   "execution_count": 123,
   "metadata": {
    "scrolled": false
   },
   "outputs": [
    {
     "data": {
      "text/plain": [
       "['Robert Downey Jr.',\n",
       " 'Chris Evans',\n",
       " 'Mark Ruffalo',\n",
       " 'Chris Hemsworth',\n",
       " 'Scarlett Johansson']"
      ]
     },
     "execution_count": 123,
     "metadata": {},
     "output_type": "execute_result"
    }
   ],
   "source": [
    "df['cast'][1126]"
   ]
  },
  {
   "cell_type": "code",
   "execution_count": 124,
   "metadata": {},
   "outputs": [],
   "source": [
    "# Rimozion di tutti gli attori con meno di 10 occorrenze\n",
    "delete_useless_small_value(df, 10, 'cast')"
   ]
  },
  {
   "cell_type": "code",
   "execution_count": 125,
   "metadata": {},
   "outputs": [
    {
     "data": {
      "text/plain": [
       "['Robert Downey Jr.', 'Mark Ruffalo', 'Scarlett Johansson']"
      ]
     },
     "execution_count": 125,
     "metadata": {},
     "output_type": "execute_result"
    }
   ],
   "source": [
    "df['cast'][1126]"
   ]
  },
  {
   "cell_type": "code",
   "execution_count": 126,
   "metadata": {},
   "outputs": [
    {
     "data": {
      "text/plain": [
       "147"
      ]
     },
     "execution_count": 126,
     "metadata": {},
     "output_type": "execute_result"
    }
   ],
   "source": [
    "how_many('cast', df)"
   ]
  },
  {
   "cell_type": "code",
   "execution_count": 127,
   "metadata": {},
   "outputs": [],
   "source": [
    "MOST_IMPORTANT_ACTORS = list(Counter(values_to_list('cast', df))) # questi 147 attori sono i nostri most_common"
   ]
  },
  {
   "cell_type": "markdown",
   "metadata": {},
   "source": [
    "Per ogni film, andiamo ora a computare il **numero di attori presenti nella lista** `MOST_IMPORTANT_ACTORS`"
   ]
  },
  {
   "cell_type": "code",
   "execution_count": 128,
   "metadata": {},
   "outputs": [],
   "source": [
    "counter_most_significative = count_most_significative(df, 'cast', MOST_IMPORTANT_ACTORS)   # ritorna un dataframe\n",
    "df = pd.concat([df, counter_most_significative], axis = \"columns\")                  # Si concatena il dataframe con il train\n",
    "df.drop(labels=['cast'], axis=1, inplace=True)                                      # Drop della colonna cast"
   ]
  },
  {
   "cell_type": "markdown",
   "metadata": {},
   "source": [
    "### Director\n",
    "Registi dei film"
   ]
  },
  {
   "cell_type": "markdown",
   "metadata": {},
   "source": [
    "Analizziamo il **numero di valori univoci** per la features `director`."
   ]
  },
  {
   "cell_type": "code",
   "execution_count": 129,
   "metadata": {},
   "outputs": [
    {
     "data": {
      "text/plain": [
       "1858"
      ]
     },
     "execution_count": 129,
     "metadata": {},
     "output_type": "execute_result"
    }
   ],
   "source": [
    "how_many('director', df)"
   ]
  },
  {
   "cell_type": "code",
   "execution_count": 130,
   "metadata": {},
   "outputs": [],
   "source": [
    "#Counter(values_to_list('director', df)).most_common()"
   ]
  },
  {
   "cell_type": "markdown",
   "metadata": {},
   "source": [
    "Si può notare che molti registi hanno diretto un solo film: non è significativo, possiamo rimuoverli. "
   ]
  },
  {
   "cell_type": "code",
   "execution_count": 131,
   "metadata": {},
   "outputs": [],
   "source": [
    "delete_useless_small_value(df, 2, 'director')"
   ]
  },
  {
   "cell_type": "code",
   "execution_count": 132,
   "metadata": {},
   "outputs": [
    {
     "data": {
      "text/plain": [
       "576"
      ]
     },
     "execution_count": 132,
     "metadata": {},
     "output_type": "execute_result"
    }
   ],
   "source": [
    "how_many('director', df)"
   ]
  },
  {
   "cell_type": "markdown",
   "metadata": {},
   "source": [
    "Come per gli attori, vogliamo creare una lista di `most_common_director` e tenere, per ogni film, una variabile binaria indicante se il `director` del film è tra quelli più importanti oppure no. \n",
    "**Idea:** \n",
    "- Di ogni film abbiamo già tenuto il regista\n",
    "- Si mantengono i **most-common** fra tutti i registi selezionati, in modo da ottenere una lista dei registi più frequenti nel dataframe (che, secondo noi, sono anche i più famosi, tranne alcune eccezioni)\n",
    "- Per ogni film, si mantiene il **il valore binario has-common-director** che indica se il regista è tra quelli importanti.\n",
    "\n",
    "\n",
    "Assumiamo che i registi con **almeno 5 film** siano i registi più significativi. "
   ]
  },
  {
   "cell_type": "code",
   "execution_count": 133,
   "metadata": {},
   "outputs": [],
   "source": [
    "delete_useless_small_value(df, 5, 'director')"
   ]
  },
  {
   "cell_type": "code",
   "execution_count": 134,
   "metadata": {},
   "outputs": [
    {
     "data": {
      "text/plain": [
       "77"
      ]
     },
     "execution_count": 134,
     "metadata": {},
     "output_type": "execute_result"
    }
   ],
   "source": [
    "how_many('director', df)"
   ]
  },
  {
   "cell_type": "code",
   "execution_count": 135,
   "metadata": {},
   "outputs": [],
   "source": [
    "MOST_IMPORTANT_DIRECTORS = list(Counter(values_to_list('director', df)))"
   ]
  },
  {
   "cell_type": "code",
   "execution_count": 136,
   "metadata": {},
   "outputs": [],
   "source": [
    "counter_most_significative = count_most_significative(df, 'director', MOST_IMPORTANT_DIRECTORS) # ritorna un dataframe\n",
    "df = pd.concat([df, counter_most_significative], axis = \"columns\")               # Si concatena il dataframe con il train\n",
    "df.drop(labels=['director'], axis=1, inplace=True)                                  # Drop della colonna director"
   ]
  },
  {
   "cell_type": "markdown",
   "metadata": {},
   "source": [
    "### Valutazione finale\n",
    "Ora dovremmo avere un **dataset facile da esplorare** e **non** dovrebbero più **esserci** al suo interno **valori mancani o valori anomali**. \n",
    "Ovviamente, le operazioni svolte non sono state le più precise, ma svolgere tutte i controlli e le sistemazioni a mano sarebbe risultato troppo complesso. "
   ]
  },
  {
   "cell_type": "code",
   "execution_count": 137,
   "metadata": {},
   "outputs": [
    {
     "data": {
      "text/html": [
       "<div>\n",
       "<style scoped>\n",
       "    .dataframe tbody tr th:only-of-type {\n",
       "        vertical-align: middle;\n",
       "    }\n",
       "\n",
       "    .dataframe tbody tr th {\n",
       "        vertical-align: top;\n",
       "    }\n",
       "\n",
       "    .dataframe thead th {\n",
       "        text-align: right;\n",
       "    }\n",
       "</style>\n",
       "<table border=\"1\" class=\"dataframe\">\n",
       "  <thead>\n",
       "    <tr style=\"text-align: right;\">\n",
       "      <th></th>\n",
       "      <th>belongs_to_collection</th>\n",
       "      <th>budget</th>\n",
       "      <th>imdb_id</th>\n",
       "      <th>popularity</th>\n",
       "      <th>runtime</th>\n",
       "      <th>spoken_languages</th>\n",
       "      <th>keywords</th>\n",
       "      <th>revenue</th>\n",
       "      <th>cast_count</th>\n",
       "      <th>crew_count</th>\n",
       "      <th>production_companies_most_significative</th>\n",
       "      <th>production_countries_most_significative</th>\n",
       "      <th>year_release</th>\n",
       "      <th>month_release</th>\n",
       "      <th>week_of_year_release</th>\n",
       "      <th>day_of_week_release</th>\n",
       "      <th>cast_most_significative</th>\n",
       "      <th>director_most_significative</th>\n",
       "    </tr>\n",
       "  </thead>\n",
       "  <tbody>\n",
       "    <tr>\n",
       "      <th>count</th>\n",
       "      <td>3000.000000</td>\n",
       "      <td>3.000000e+03</td>\n",
       "      <td>3000</td>\n",
       "      <td>3000.000000</td>\n",
       "      <td>3000.000000</td>\n",
       "      <td>3000.000000</td>\n",
       "      <td>3000</td>\n",
       "      <td>3.000000e+03</td>\n",
       "      <td>3000.000000</td>\n",
       "      <td>3000.000000</td>\n",
       "      <td>3000.000000</td>\n",
       "      <td>3000.000000</td>\n",
       "      <td>3000.000000</td>\n",
       "      <td>3000.000000</td>\n",
       "      <td>3000.000000</td>\n",
       "      <td>3000.000000</td>\n",
       "      <td>3000.0000</td>\n",
       "      <td>3000.000000</td>\n",
       "    </tr>\n",
       "    <tr>\n",
       "      <th>unique</th>\n",
       "      <td>NaN</td>\n",
       "      <td>NaN</td>\n",
       "      <td>3000</td>\n",
       "      <td>NaN</td>\n",
       "      <td>NaN</td>\n",
       "      <td>NaN</td>\n",
       "      <td>2649</td>\n",
       "      <td>NaN</td>\n",
       "      <td>NaN</td>\n",
       "      <td>NaN</td>\n",
       "      <td>NaN</td>\n",
       "      <td>NaN</td>\n",
       "      <td>NaN</td>\n",
       "      <td>NaN</td>\n",
       "      <td>NaN</td>\n",
       "      <td>NaN</td>\n",
       "      <td>NaN</td>\n",
       "      <td>NaN</td>\n",
       "    </tr>\n",
       "    <tr>\n",
       "      <th>top</th>\n",
       "      <td>NaN</td>\n",
       "      <td>NaN</td>\n",
       "      <td>tt0120836</td>\n",
       "      <td>NaN</td>\n",
       "      <td>NaN</td>\n",
       "      <td>NaN</td>\n",
       "      <td>[]</td>\n",
       "      <td>NaN</td>\n",
       "      <td>NaN</td>\n",
       "      <td>NaN</td>\n",
       "      <td>NaN</td>\n",
       "      <td>NaN</td>\n",
       "      <td>NaN</td>\n",
       "      <td>NaN</td>\n",
       "      <td>NaN</td>\n",
       "      <td>NaN</td>\n",
       "      <td>NaN</td>\n",
       "      <td>NaN</td>\n",
       "    </tr>\n",
       "    <tr>\n",
       "      <th>freq</th>\n",
       "      <td>NaN</td>\n",
       "      <td>NaN</td>\n",
       "      <td>1</td>\n",
       "      <td>NaN</td>\n",
       "      <td>NaN</td>\n",
       "      <td>NaN</td>\n",
       "      <td>276</td>\n",
       "      <td>NaN</td>\n",
       "      <td>NaN</td>\n",
       "      <td>NaN</td>\n",
       "      <td>NaN</td>\n",
       "      <td>NaN</td>\n",
       "      <td>NaN</td>\n",
       "      <td>NaN</td>\n",
       "      <td>NaN</td>\n",
       "      <td>NaN</td>\n",
       "      <td>NaN</td>\n",
       "      <td>NaN</td>\n",
       "    </tr>\n",
       "    <tr>\n",
       "      <th>mean</th>\n",
       "      <td>0.201333</td>\n",
       "      <td>2.253133e+07</td>\n",
       "      <td>NaN</td>\n",
       "      <td>8.463274</td>\n",
       "      <td>107.858000</td>\n",
       "      <td>1.452333</td>\n",
       "      <td>NaN</td>\n",
       "      <td>6.904852e+07</td>\n",
       "      <td>20.603667</td>\n",
       "      <td>24.365667</td>\n",
       "      <td>0.550000</td>\n",
       "      <td>0.143000</td>\n",
       "      <td>1999.713000</td>\n",
       "      <td>6.775333</td>\n",
       "      <td>27.818000</td>\n",
       "      <td>3.253333</td>\n",
       "      <td>0.6450</td>\n",
       "      <td>0.155333</td>\n",
       "    </tr>\n",
       "    <tr>\n",
       "      <th>std</th>\n",
       "      <td>0.401063</td>\n",
       "      <td>3.702609e+07</td>\n",
       "      <td>NaN</td>\n",
       "      <td>12.104000</td>\n",
       "      <td>22.085178</td>\n",
       "      <td>0.887688</td>\n",
       "      <td>NaN</td>\n",
       "      <td>1.400506e+08</td>\n",
       "      <td>16.629635</td>\n",
       "      <td>28.066419</td>\n",
       "      <td>0.638986</td>\n",
       "      <td>0.440396</td>\n",
       "      <td>15.423313</td>\n",
       "      <td>3.409115</td>\n",
       "      <td>14.844471</td>\n",
       "      <td>1.330568</td>\n",
       "      <td>0.9088</td>\n",
       "      <td>0.362283</td>\n",
       "    </tr>\n",
       "    <tr>\n",
       "      <th>min</th>\n",
       "      <td>0.000000</td>\n",
       "      <td>0.000000e+00</td>\n",
       "      <td>NaN</td>\n",
       "      <td>0.000001</td>\n",
       "      <td>0.000000</td>\n",
       "      <td>0.000000</td>\n",
       "      <td>NaN</td>\n",
       "      <td>1.404000e+03</td>\n",
       "      <td>0.000000</td>\n",
       "      <td>0.000000</td>\n",
       "      <td>0.000000</td>\n",
       "      <td>0.000000</td>\n",
       "      <td>1921.000000</td>\n",
       "      <td>1.000000</td>\n",
       "      <td>1.000000</td>\n",
       "      <td>0.000000</td>\n",
       "      <td>0.0000</td>\n",
       "      <td>0.000000</td>\n",
       "    </tr>\n",
       "    <tr>\n",
       "      <th>25%</th>\n",
       "      <td>0.000000</td>\n",
       "      <td>0.000000e+00</td>\n",
       "      <td>NaN</td>\n",
       "      <td>4.018053</td>\n",
       "      <td>94.000000</td>\n",
       "      <td>1.000000</td>\n",
       "      <td>NaN</td>\n",
       "      <td>2.850197e+06</td>\n",
       "      <td>11.000000</td>\n",
       "      <td>8.000000</td>\n",
       "      <td>0.000000</td>\n",
       "      <td>0.000000</td>\n",
       "      <td>1993.000000</td>\n",
       "      <td>4.000000</td>\n",
       "      <td>15.000000</td>\n",
       "      <td>2.000000</td>\n",
       "      <td>0.0000</td>\n",
       "      <td>0.000000</td>\n",
       "    </tr>\n",
       "    <tr>\n",
       "      <th>50%</th>\n",
       "      <td>0.000000</td>\n",
       "      <td>8.000000e+06</td>\n",
       "      <td>NaN</td>\n",
       "      <td>7.374861</td>\n",
       "      <td>104.000000</td>\n",
       "      <td>1.000000</td>\n",
       "      <td>NaN</td>\n",
       "      <td>1.764559e+07</td>\n",
       "      <td>16.000000</td>\n",
       "      <td>14.000000</td>\n",
       "      <td>0.000000</td>\n",
       "      <td>0.000000</td>\n",
       "      <td>2004.000000</td>\n",
       "      <td>7.000000</td>\n",
       "      <td>29.000000</td>\n",
       "      <td>4.000000</td>\n",
       "      <td>0.0000</td>\n",
       "      <td>0.000000</td>\n",
       "    </tr>\n",
       "    <tr>\n",
       "      <th>75%</th>\n",
       "      <td>0.000000</td>\n",
       "      <td>2.900000e+07</td>\n",
       "      <td>NaN</td>\n",
       "      <td>10.890983</td>\n",
       "      <td>118.000000</td>\n",
       "      <td>2.000000</td>\n",
       "      <td>NaN</td>\n",
       "      <td>7.227168e+07</td>\n",
       "      <td>24.000000</td>\n",
       "      <td>28.000000</td>\n",
       "      <td>1.000000</td>\n",
       "      <td>0.000000</td>\n",
       "      <td>2011.000000</td>\n",
       "      <td>10.000000</td>\n",
       "      <td>40.000000</td>\n",
       "      <td>4.000000</td>\n",
       "      <td>1.0000</td>\n",
       "      <td>0.000000</td>\n",
       "    </tr>\n",
       "    <tr>\n",
       "      <th>max</th>\n",
       "      <td>1.000000</td>\n",
       "      <td>3.800000e+08</td>\n",
       "      <td>NaN</td>\n",
       "      <td>294.337037</td>\n",
       "      <td>338.000000</td>\n",
       "      <td>9.000000</td>\n",
       "      <td>NaN</td>\n",
       "      <td>1.519558e+09</td>\n",
       "      <td>156.000000</td>\n",
       "      <td>194.000000</td>\n",
       "      <td>4.000000</td>\n",
       "      <td>4.000000</td>\n",
       "      <td>2017.000000</td>\n",
       "      <td>12.000000</td>\n",
       "      <td>53.000000</td>\n",
       "      <td>6.000000</td>\n",
       "      <td>5.0000</td>\n",
       "      <td>1.000000</td>\n",
       "    </tr>\n",
       "  </tbody>\n",
       "</table>\n",
       "</div>"
      ],
      "text/plain": [
       "        belongs_to_collection        budget    imdb_id   popularity  \\\n",
       "count             3000.000000  3.000000e+03       3000  3000.000000   \n",
       "unique                    NaN           NaN       3000          NaN   \n",
       "top                       NaN           NaN  tt0120836          NaN   \n",
       "freq                      NaN           NaN          1          NaN   \n",
       "mean                 0.201333  2.253133e+07        NaN     8.463274   \n",
       "std                  0.401063  3.702609e+07        NaN    12.104000   \n",
       "min                  0.000000  0.000000e+00        NaN     0.000001   \n",
       "25%                  0.000000  0.000000e+00        NaN     4.018053   \n",
       "50%                  0.000000  8.000000e+06        NaN     7.374861   \n",
       "75%                  0.000000  2.900000e+07        NaN    10.890983   \n",
       "max                  1.000000  3.800000e+08        NaN   294.337037   \n",
       "\n",
       "            runtime  spoken_languages keywords       revenue   cast_count  \\\n",
       "count   3000.000000       3000.000000     3000  3.000000e+03  3000.000000   \n",
       "unique          NaN               NaN     2649           NaN          NaN   \n",
       "top             NaN               NaN       []           NaN          NaN   \n",
       "freq            NaN               NaN      276           NaN          NaN   \n",
       "mean     107.858000          1.452333      NaN  6.904852e+07    20.603667   \n",
       "std       22.085178          0.887688      NaN  1.400506e+08    16.629635   \n",
       "min        0.000000          0.000000      NaN  1.404000e+03     0.000000   \n",
       "25%       94.000000          1.000000      NaN  2.850197e+06    11.000000   \n",
       "50%      104.000000          1.000000      NaN  1.764559e+07    16.000000   \n",
       "75%      118.000000          2.000000      NaN  7.227168e+07    24.000000   \n",
       "max      338.000000          9.000000      NaN  1.519558e+09   156.000000   \n",
       "\n",
       "         crew_count  production_companies_most_significative  \\\n",
       "count   3000.000000                              3000.000000   \n",
       "unique          NaN                                      NaN   \n",
       "top             NaN                                      NaN   \n",
       "freq            NaN                                      NaN   \n",
       "mean      24.365667                                 0.550000   \n",
       "std       28.066419                                 0.638986   \n",
       "min        0.000000                                 0.000000   \n",
       "25%        8.000000                                 0.000000   \n",
       "50%       14.000000                                 0.000000   \n",
       "75%       28.000000                                 1.000000   \n",
       "max      194.000000                                 4.000000   \n",
       "\n",
       "        production_countries_most_significative  year_release  month_release  \\\n",
       "count                               3000.000000   3000.000000    3000.000000   \n",
       "unique                                      NaN           NaN            NaN   \n",
       "top                                         NaN           NaN            NaN   \n",
       "freq                                        NaN           NaN            NaN   \n",
       "mean                                   0.143000   1999.713000       6.775333   \n",
       "std                                    0.440396     15.423313       3.409115   \n",
       "min                                    0.000000   1921.000000       1.000000   \n",
       "25%                                    0.000000   1993.000000       4.000000   \n",
       "50%                                    0.000000   2004.000000       7.000000   \n",
       "75%                                    0.000000   2011.000000      10.000000   \n",
       "max                                    4.000000   2017.000000      12.000000   \n",
       "\n",
       "        week_of_year_release  day_of_week_release  cast_most_significative  \\\n",
       "count            3000.000000          3000.000000                3000.0000   \n",
       "unique                   NaN                  NaN                      NaN   \n",
       "top                      NaN                  NaN                      NaN   \n",
       "freq                     NaN                  NaN                      NaN   \n",
       "mean               27.818000             3.253333                   0.6450   \n",
       "std                14.844471             1.330568                   0.9088   \n",
       "min                 1.000000             0.000000                   0.0000   \n",
       "25%                15.000000             2.000000                   0.0000   \n",
       "50%                29.000000             4.000000                   0.0000   \n",
       "75%                40.000000             4.000000                   1.0000   \n",
       "max                53.000000             6.000000                   5.0000   \n",
       "\n",
       "        director_most_significative  \n",
       "count                   3000.000000  \n",
       "unique                          NaN  \n",
       "top                             NaN  \n",
       "freq                            NaN  \n",
       "mean                       0.155333  \n",
       "std                        0.362283  \n",
       "min                        0.000000  \n",
       "25%                        0.000000  \n",
       "50%                        0.000000  \n",
       "75%                        0.000000  \n",
       "max                        1.000000  "
      ]
     },
     "execution_count": 137,
     "metadata": {},
     "output_type": "execute_result"
    }
   ],
   "source": [
    "df.describe(include='all')"
   ]
  },
  {
   "cell_type": "code",
   "execution_count": 138,
   "metadata": {
    "scrolled": true
   },
   "outputs": [
    {
     "data": {
      "text/plain": [
       "Index(['belongs_to_collection', 'budget', 'imdb_id', 'popularity', 'runtime',\n",
       "       'spoken_languages', 'keywords', 'revenue', 'cast_count', 'crew_count',\n",
       "       'production_companies_most_significative',\n",
       "       'production_countries_most_significative', 'year_release',\n",
       "       'month_release', 'week_of_year_release', 'day_of_week_release',\n",
       "       'cast_most_significative', 'director_most_significative'],\n",
       "      dtype='object')"
      ]
     },
     "execution_count": 138,
     "metadata": {},
     "output_type": "execute_result"
    }
   ],
   "source": [
    "df.columns"
   ]
  },
  {
   "cell_type": "markdown",
   "metadata": {},
   "source": [
    "## Split in Train e Test\n",
    "Arrati a questo punto, **splitiamo il dataframe in train e test.**"
   ]
  },
  {
   "cell_type": "code",
   "execution_count": 139,
   "metadata": {},
   "outputs": [],
   "source": [
    "X = df.drop(\"revenue\", axis='columns', inplace = False)    # Teniamo solo le X\n",
    "y = df[\"revenue\"]                                          # Si tengono solo le y\n",
    "X_train, X_test, y_train, y_test = train_test_split(X, y, test_size=0.33, random_state=42)  # Splittiamo in train e test"
   ]
  },
  {
   "cell_type": "code",
   "execution_count": 140,
   "metadata": {},
   "outputs": [],
   "source": [
    "# Split in train e test\n",
    "X_train.reset_index(drop=True, inplace=True)   # X del train\n",
    "X_test.reset_index(drop=True, inplace=True)    # X del test\n",
    "y_train.reset_index(drop=True, inplace=True)   # y del train\n",
    "y_test.reset_index(drop=True, inplace=True)    # y del test\n",
    "#"
   ]
  },
  {
   "cell_type": "markdown",
   "metadata": {},
   "source": [
    "## Analisi delle Features e sistemazione dei valori dopo lo splitting"
   ]
  },
  {
   "cell_type": "markdown",
   "metadata": {},
   "source": [
    "### Budget\n",
    "Sistemiamo i valori di `budget` bassi sia nel train che nel test. "
   ]
  },
  {
   "cell_type": "code",
   "execution_count": 141,
   "metadata": {},
   "outputs": [],
   "source": [
    "apply_median(X_train, 'budget', '<=', 999)\n",
    "apply_median(X_test , 'budget', '<=', 999)"
   ]
  },
  {
   "cell_type": "markdown",
   "metadata": {},
   "source": [
    "### Runtime\n",
    "Sistemiamo i valori di `runtime` bassi sia nel train che nel test. "
   ]
  },
  {
   "cell_type": "code",
   "execution_count": 142,
   "metadata": {},
   "outputs": [],
   "source": [
    "apply_median(X_train, 'runtime', '==', 0)\n",
    "apply_median(X_test , 'runtime', '==', 0)"
   ]
  },
  {
   "cell_type": "markdown",
   "metadata": {},
   "source": [
    "## Preparazione al One Hot Encoding\n",
    "Attualmente **l'unica colonna non numerica** è `keywords`: risulta essere un problema per l'esecuzione degli algoritmi di predizione.  \n",
    "Un modo per risolvere tale problema è eseguire **One Hot Encoding**, ma, il risultato finale sarebbe di troppe colonne: dobbiamo capire come gestirle."
   ]
  },
  {
   "cell_type": "markdown",
   "metadata": {},
   "source": [
    "### Keywords"
   ]
  },
  {
   "cell_type": "markdown",
   "metadata": {},
   "source": [
    "Analizziamo il **numero di valori univoci** per la features `keywords`."
   ]
  },
  {
   "cell_type": "code",
   "execution_count": 143,
   "metadata": {},
   "outputs": [
    {
     "data": {
      "text/plain": [
       "(5821, 3744)"
      ]
     },
     "execution_count": 143,
     "metadata": {},
     "output_type": "execute_result"
    }
   ],
   "source": [
    "(how_many('keywords', X_train), how_many('keywords', X_test))"
   ]
  },
  {
   "cell_type": "markdown",
   "metadata": {},
   "source": [
    "Dato l'elevato numero di `keywords`, siamo costretti a trovare un modo per **ridurle**.  \n",
    "Il metodo che abbiamo scelto di applicare consiste nel **tenere solamente le keyword più significative**, ovvero le keyword meno frequenti. "
   ]
  },
  {
   "cell_type": "code",
   "execution_count": 144,
   "metadata": {},
   "outputs": [
    {
     "data": {
      "text/plain": [
       "(2257, 1215)"
      ]
     },
     "execution_count": 144,
     "metadata": {},
     "output_type": "execute_result"
    }
   ],
   "source": [
    "delete_useless_big_value(X_train, 30, 'keywords')\n",
    "delete_useless_small_value(X_train, 2, 'keywords')\n",
    "\n",
    "delete_useless_big_value(X_test, 30, 'keywords')\n",
    "delete_useless_small_value(X_test, 2, 'keywords')\n",
    "\n",
    "(how_many('keywords', X_train), how_many('keywords', X_test))"
   ]
  },
  {
   "cell_type": "markdown",
   "metadata": {},
   "source": [
    "Bene, abbiamo abbassato il valore... ma non è ancora sufficientemente basso per applicare One Hot Encoding. \n",
    "Riduciamo ancora...."
   ]
  },
  {
   "cell_type": "code",
   "execution_count": 145,
   "metadata": {},
   "outputs": [
    {
     "data": {
      "text/plain": [
       "(2187, 1194)"
      ]
     },
     "execution_count": 145,
     "metadata": {},
     "output_type": "execute_result"
    }
   ],
   "source": [
    "delete_useless_big_value(X_train, 15, 'keywords')\n",
    "delete_useless_big_value(X_test , 15, 'keywords')\n",
    "\n",
    "(how_many('keywords', X_train), how_many('keywords', X_test))"
   ]
  },
  {
   "cell_type": "markdown",
   "metadata": {},
   "source": [
    "Ancora troppe..."
   ]
  },
  {
   "cell_type": "code",
   "execution_count": 146,
   "metadata": {},
   "outputs": [
    {
     "data": {
      "text/plain": [
       "(1001, 614)"
      ]
     },
     "execution_count": 146,
     "metadata": {},
     "output_type": "execute_result"
    }
   ],
   "source": [
    "delete_useless_big_value(X_train, 2, 'keywords')\n",
    "delete_useless_big_value(X_test , 2, 'keywords')\n",
    "\n",
    "(how_many('keywords', X_train), how_many('keywords', X_test))"
   ]
  },
  {
   "cell_type": "markdown",
   "metadata": {},
   "source": [
    "Sono troppe, ma non possiamo ridurre ancora, **siamo arrivati al limite**... \n",
    "Siamo quindi obbligati a scartare la feature keywords. \n",
    "\n",
    "Un'alternativa sarebbe mantenenre le most_common, ma più una keyword è frequente e meno significativa è, per cui non ha senso. \n",
    "\n",
    "Si potrebbe provare un miglioramento raccogliendo le keywords in gruppi per semantica, ma è un compito troppo dispendioso. "
   ]
  },
  {
   "cell_type": "code",
   "execution_count": 147,
   "metadata": {},
   "outputs": [],
   "source": [
    "X_train.drop(labels=['keywords'], axis='columns', inplace=True)\n",
    "X_test.drop(labels=['keywords'], axis='columns', inplace=True)"
   ]
  },
  {
   "cell_type": "markdown",
   "metadata": {},
   "source": [
    "### Valutazione dataframe dopo le modifiche"
   ]
  },
  {
   "cell_type": "code",
   "execution_count": 148,
   "metadata": {},
   "outputs": [],
   "source": [
    "# drop della features imdb_id\n",
    "X_train.drop(['imdb_id'], axis='columns', inplace=True)\n",
    "X_test.drop(['imdb_id'], axis='columns', inplace=True)"
   ]
  },
  {
   "cell_type": "code",
   "execution_count": 149,
   "metadata": {},
   "outputs": [
    {
     "name": "stdout",
     "output_type": "stream",
     "text": [
      "<class 'pandas.core.frame.DataFrame'>\n",
      "RangeIndex: 2010 entries, 0 to 2009\n",
      "Data columns (total 15 columns):\n",
      " #   Column                                   Non-Null Count  Dtype  \n",
      "---  ------                                   --------------  -----  \n",
      " 0   belongs_to_collection                    2010 non-null   int64  \n",
      " 1   budget                                   2010 non-null   int64  \n",
      " 2   popularity                               2010 non-null   float64\n",
      " 3   runtime                                  2010 non-null   float64\n",
      " 4   spoken_languages                         2010 non-null   int64  \n",
      " 5   cast_count                               2010 non-null   int64  \n",
      " 6   crew_count                               2010 non-null   int32  \n",
      " 7   production_companies_most_significative  2010 non-null   int64  \n",
      " 8   production_countries_most_significative  2010 non-null   int64  \n",
      " 9   year_release                             2010 non-null   int64  \n",
      " 10  month_release                            2010 non-null   int64  \n",
      " 11  week_of_year_release                     2010 non-null   int64  \n",
      " 12  day_of_week_release                      2010 non-null   int64  \n",
      " 13  cast_most_significative                  2010 non-null   int64  \n",
      " 14  director_most_significative              2010 non-null   int64  \n",
      "dtypes: float64(2), int32(1), int64(12)\n",
      "memory usage: 227.8 KB\n"
     ]
    }
   ],
   "source": [
    "X_train.info()"
   ]
  },
  {
   "cell_type": "code",
   "execution_count": 150,
   "metadata": {},
   "outputs": [
    {
     "name": "stdout",
     "output_type": "stream",
     "text": [
      "<class 'pandas.core.frame.DataFrame'>\n",
      "RangeIndex: 990 entries, 0 to 989\n",
      "Data columns (total 15 columns):\n",
      " #   Column                                   Non-Null Count  Dtype  \n",
      "---  ------                                   --------------  -----  \n",
      " 0   belongs_to_collection                    990 non-null    int64  \n",
      " 1   budget                                   990 non-null    int64  \n",
      " 2   popularity                               990 non-null    float64\n",
      " 3   runtime                                  990 non-null    float64\n",
      " 4   spoken_languages                         990 non-null    int64  \n",
      " 5   cast_count                               990 non-null    int64  \n",
      " 6   crew_count                               990 non-null    int32  \n",
      " 7   production_companies_most_significative  990 non-null    int64  \n",
      " 8   production_countries_most_significative  990 non-null    int64  \n",
      " 9   year_release                             990 non-null    int64  \n",
      " 10  month_release                            990 non-null    int64  \n",
      " 11  week_of_year_release                     990 non-null    int64  \n",
      " 12  day_of_week_release                      990 non-null    int64  \n",
      " 13  cast_most_significative                  990 non-null    int64  \n",
      " 14  director_most_significative              990 non-null    int64  \n",
      "dtypes: float64(2), int32(1), int64(12)\n",
      "memory usage: 112.3 KB\n"
     ]
    }
   ],
   "source": [
    "X_test.info()"
   ]
  },
  {
   "cell_type": "code",
   "execution_count": 151,
   "metadata": {},
   "outputs": [],
   "source": [
    "#X_train.drop(labels=['popularity', 'runtime', 'spoken_languages', 'cast_count', 'crew_count','production_countries_most_significative','year_release', 'month_release', 'week_of_year_release','day_of_week_release','cast_most_significative', 'director_most_significative'], axis=1, inplace=True)\n",
    "#X_test.drop(labels=['popularity', 'runtime', 'spoken_languages', 'cast_count', 'crew_count','production_countries_most_significative','year_release', 'month_release', 'week_of_year_release','day_of_week_release','cast_most_significative', 'director_most_significative'], axis=1, inplace=True)"
   ]
  },
  {
   "cell_type": "markdown",
   "metadata": {},
   "source": [
    "## Esecuzione Decision Tree Regressor\n",
    "Siamo finalmente pronti per provare un primo algoritmo!"
   ]
  },
  {
   "cell_type": "code",
   "execution_count": 152,
   "metadata": {},
   "outputs": [
    {
     "data": {
      "text/plain": [
       "DecisionTreeRegressor()"
      ]
     },
     "execution_count": 152,
     "metadata": {},
     "output_type": "execute_result"
    }
   ],
   "source": [
    "model = tree.DecisionTreeRegressor()\n",
    "model.fit(X_train, y_train)"
   ]
  },
  {
   "cell_type": "code",
   "execution_count": 153,
   "metadata": {},
   "outputs": [],
   "source": [
    "train_acc = np.sqrt(mean_squared_log_error(y_true=y_train, y_pred=model.predict(X_train)))\n",
    "test_acc  = np.sqrt(mean_squared_log_error(y_true=y_test, y_pred=model.predict(X_test)))"
   ]
  },
  {
   "cell_type": "code",
   "execution_count": 154,
   "metadata": {},
   "outputs": [
    {
     "data": {
      "text/plain": [
       "[0.0, 2.402182646889536]"
      ]
     },
     "execution_count": 154,
     "metadata": {},
     "output_type": "execute_result"
    }
   ],
   "source": [
    "[train_acc, test_acc]"
   ]
  },
  {
   "cell_type": "code",
   "execution_count": 155,
   "metadata": {},
   "outputs": [
    {
     "data": {
      "text/plain": [
       "<matplotlib.legend.Legend at 0x16868a82940>"
      ]
     },
     "execution_count": 155,
     "metadata": {},
     "output_type": "execute_result"
    },
    {
     "data": {
      "image/png": "[encoded data removed]",
      "text/plain": [
       "<Figure size 432x288 with 1 Axes>"
      ]
     },
     "metadata": {
      "needs_background": "light"
     },
     "output_type": "display_data"
    }
   ],
   "source": [
    "errors = []\n",
    "\n",
    "for max_leaves in range(2,200):\n",
    "    model = tree.DecisionTreeRegressor(max_leaf_nodes=max_leaves)\n",
    "    model.fit(X_train,y_train)\n",
    "\n",
    "    train_acc =  np.sqrt(mean_squared_log_error(y_true=y_train, y_pred=model.predict(X_train)))\n",
    "    test_acc =   np.sqrt(mean_squared_log_error(y_true=y_test, y_pred=model.predict(X_test)))\n",
    "\n",
    "    errors += [ [max_leaves, train_acc, test_acc] ]\n",
    "\n",
    "errors = np.array(errors)\n",
    "\n",
    "fig, ax = plt.subplots()\n",
    "ax.plot(errors[:,0], errors[:,1], \"x:\", label=\"Train\")\n",
    "ax.plot(errors[:,0], errors[:,2], \"o-\", label=\"Test\")\n",
    "ax.set_ylabel(\"RMSLE\")\n",
    "ax.set_xlabel(\"Numero di foglie\")\n",
    "ax.grid()\n",
    "ax.legend()"
   ]
  },
  {
   "cell_type": "markdown",
   "metadata": {},
   "source": [
    "Notiamo che si può fare **fine-tuning sul numero delle foglie** in quanto all'aumentare del numero di foglie l' RMSLE diminuisce..."
   ]
  },
  {
   "cell_type": "markdown",
   "metadata": {},
   "source": [
    "### Prime conclusioni\n",
    "Al momento abbiamo eseguito un **primo algoritmo basato sugli alberi di decisione**.  \n",
    "Con gli alberi è possibile fare **fine tuning**, ad esempio ottenendo risultati differenti a seconda del **numero massimo di foglie** specificate: si può vedere dal grafico qui sopra.  \n",
    "\n",
    "Notiamo che all'aumentare del numero di foglie il RMSLE diminuisce.   \n",
    "Sul test va ad appiattirsi dopo una certa soglia.  \n",
    "**Quindi che numero di max-foglie scegliamo?**\n",
    "\n",
    "Questa decisione non può essere presa sul dataset di test.  \n",
    "Effettuiamo quindi un ulteriore splitting: **train, validation e test.**"
   ]
  },
  {
   "cell_type": "markdown",
   "metadata": {},
   "source": [
    "### Fine tuning dei parametri\n",
    "Passiamo quindi alla fase di fine tuning dei parametri: splittiamo il dataset utilizzando **k-fold cross validation**, per ottenere una separazione più imparziale.\n",
    "Rieseguiamo lo **splitting in train e test aggingendo anche il validation** cambiando le percentuali di splitting, in modo da avere un **60/20/20**. "
   ]
  },
  {
   "cell_type": "code",
   "execution_count": 156,
   "metadata": {},
   "outputs": [],
   "source": [
    "#splittiamo in train e test\n",
    "X_train_80, X_test, y_train_80, y_test = train_test_split(X, y, test_size=0.20, random_state=42) "
   ]
  },
  {
   "cell_type": "markdown",
   "metadata": {},
   "source": [
    "Resettiamo nuovamente gli indici come fatto in precedenza"
   ]
  },
  {
   "cell_type": "code",
   "execution_count": 157,
   "metadata": {},
   "outputs": [],
   "source": [
    "X_train_80.reset_index(drop=True, inplace=True)   # X del train\n",
    "X_test.reset_index(drop=True, inplace=True)       # X del test\n",
    "y_train_80.reset_index(drop=True, inplace=True)   # y del train\n",
    "y_test.reset_index(drop=True, inplace=True)       # y del test"
   ]
  },
  {
   "cell_type": "code",
   "execution_count": 158,
   "metadata": {},
   "outputs": [],
   "source": [
    "X_train_80.drop(labels=['imdb_id', 'keywords'], axis='columns', inplace=True)\n",
    "X_test.drop(labels=['imdb_id', 'keywords'], axis='columns', inplace=True)"
   ]
  },
  {
   "cell_type": "markdown",
   "metadata": {},
   "source": [
    "Risistemiamo budget e runtime come fatto in precedenza"
   ]
  },
  {
   "cell_type": "code",
   "execution_count": 159,
   "metadata": {},
   "outputs": [],
   "source": [
    "apply_median(X_train_80, 'budget', '<=', 999)\n",
    "apply_median(X_test , 'budget', '<=', 999)\n",
    "apply_median(X_train_80, 'runtime', '==', 0)\n",
    "apply_median(X_test , 'runtime', '==', 0)"
   ]
  },
  {
   "cell_type": "markdown",
   "metadata": {},
   "source": [
    "Eseguiamo ora **fine tuning sul numero massimo di foglie**."
   ]
  },
  {
   "cell_type": "code",
   "execution_count": 160,
   "metadata": {},
   "outputs": [
    {
     "data": {
      "image/png": "[encoded data removed]",
      "text/plain": [
       "<Figure size 1080x216 with 3 Axes>"
      ]
     },
     "metadata": {
      "needs_background": "light"
     },
     "output_type": "display_data"
    }
   ],
   "source": [
    "RMSLE = make_scorer(rmsle_score)\n",
    "fig, axs = plt.subplots(ncols=3, figsize=(15,3))   # grandezza dei 3 plot\n",
    "max_leaves_array = []                              # Array in cui salviamo i 3 valori di foglie\n",
    "for i in range(0, 3):                              # per 3 volte\n",
    "    accuracies = []                                # inseriamo le accuraties\n",
    "    for max_leaves in range(2,1500, 10):           # fine tuning sul numero di foglie\n",
    "        dt = tree.DecisionTreeRegressor(max_leaf_nodes=max_leaves) # creazione del modello\n",
    "        scores = cross_val_score(dt, X_train_80, y_train_80, scoring=RMSLE, cv=5) # esecuzione del k fold corss validation\n",
    "        valid_RMSLE = round(np.mean(scores), 2)      # ci salviamo lo score\n",
    "        accuracies += [ [valid_RMSLE, max_leaves ] ] # si inserisce lo score e il numero di foglie\n",
    "    max_leaves_array.append(min(accuracies))         # Aggiungiamo il valore minimo alla lista finale\n",
    "    errors = np.array(accuracies)                    \n",
    "    \n",
    "    # si genera il plot\n",
    "    axs[i].plot(errors[:,1], errors[:,0], \"x:\", label=\"Train\")\n",
    "    axs[i].set_ylabel(\"RMSLE\")\n",
    "    axs[i].set_xlabel(\"Numero di foglie\")\n",
    "    axs[i].grid()\n",
    "    axs[i].legend()"
   ]
  },
  {
   "cell_type": "code",
   "execution_count": 161,
   "metadata": {},
   "outputs": [
    {
     "data": {
      "text/plain": [
       "[[2.11, 562], [2.11, 472], [2.11, 462]]"
      ]
     },
     "execution_count": 161,
     "metadata": {},
     "output_type": "execute_result"
    }
   ],
   "source": [
    "# Stampa dei tre valori ottimali di foglie ottenuti e delle relative score\n",
    "max_leaves_array"
   ]
  },
  {
   "cell_type": "markdown",
   "metadata": {},
   "source": [
    "### Esecuzione dell'algoritmo sul test dopo il fine tuning\n",
    "Notiamo che, eseguendo diverse volte k fold cross validation su un numero di foglie che va da `2` a `1500`, otteniamo **l'RMSLE minimo quando il numero massimo di foglie** è attorno al `450` (ovviamente questo numero varia data la casualità del sample di divisione in train e validation).  \n",
    "Possiamo quindi scegliere la **media tra i 3 valori**, in quanto vediamo che i grafici sono molto piatti nella zona d'interesse, quindi la varianza tra `400` e `900` è abbastanza costante.\n",
    "Ora andiamo ad eseguire il regressor sul dataframe di test per valutarne il risultato su di esso."
   ]
  },
  {
   "cell_type": "code",
   "execution_count": 162,
   "metadata": {},
   "outputs": [],
   "source": [
    "# computo la media\n",
    "n_leaves = int(np.mean([elem[1] for elem in max_leaves_array]))"
   ]
  },
  {
   "cell_type": "code",
   "execution_count": 163,
   "metadata": {},
   "outputs": [
    {
     "name": "stdout",
     "output_type": "stream",
     "text": [
      "L'accuracy sul test è di: 2.205664418156181\n"
     ]
    }
   ],
   "source": [
    "# creo il modello ed eseguo la predizione\n",
    "dt = tree.DecisionTreeRegressor(max_leaf_nodes=n_leaves)\n",
    "dt.fit(X_train_80, y_train_80)\n",
    "test_acc = np.sqrt(mean_squared_log_error(y_true=y_test, y_pred=dt.predict(X_test)))\n",
    "print(\"L'accuracy sul test è di: \" + str(test_acc))"
   ]
  },
  {
   "cell_type": "code",
   "execution_count": 164,
   "metadata": {},
   "outputs": [
    {
     "name": "stdout",
     "output_type": "stream",
     "text": [
      "L'accuracy sul test è di: 2.3736911664621996\n"
     ]
    }
   ],
   "source": [
    "# Confrontiamo l'accuracy del modello senza fine tuning.\n",
    "dt = tree.DecisionTreeRegressor()\n",
    "dt.fit(X_train_80, y_train_80)\n",
    "test_acc = np.sqrt(mean_squared_log_error(y_true=y_test, y_pred=dt.predict(X_test)))\n",
    "print(\"L'accuracy sul test è di: \" + str(test_acc))"
   ]
  },
  {
   "cell_type": "markdown",
   "metadata": {},
   "source": [
    "### Considerazione post fine tuning\n",
    "Notiamo che eseguendo il nostro decision tree con il numero di foglie scelto ci da una miglior performance rispetto all'algoritmo senza nessun numero di foglie specificato. Possiamo ritenerci soddisfatti"
   ]
  },
  {
   "cell_type": "markdown",
   "metadata": {},
   "source": [
    "## Bagging\n",
    "Proviamo a usare l'algoritmo di bagging per vedere se riusciamo a diminuire il RMSLE."
   ]
  },
  {
   "cell_type": "code",
   "execution_count": 246,
   "metadata": {},
   "outputs": [
    {
     "name": "stderr",
     "output_type": "stream",
     "text": [
      "100%|██████████████████████████████████████████████████████████████████████████████████| 39/39 [01:05<00:00,  1.67s/it]\n"
     ]
    },
    {
     "data": {
      "text/plain": [
       "<matplotlib.legend.Legend at 0x1686cd12400>"
      ]
     },
     "execution_count": 246,
     "metadata": {},
     "output_type": "execute_result"
    },
    {
     "data": {
      "image/png": "[encoded data removed]",
      "text/plain": [
       "<Figure size 1080x432 with 2 Axes>"
      ]
     },
     "metadata": {
      "needs_background": "light"
     },
     "output_type": "display_data"
    }
   ],
   "source": [
    "total=[]\n",
    "stats = np.array([])\n",
    "bags = range(1,40)\n",
    "\n",
    "for l in tqdm(bags):\n",
    "    y_preds = np.array([])\n",
    "    tmp=[]\n",
    "    for i in range(10):\n",
    "        Xs, ys = resample(X_train_80,y_train_80, n_samples=int(0.67*len(y_train_80)))\n",
    "        dt = tree.DecisionTreeRegressor(max_leaf_nodes=1000)\n",
    "        bagged_dt = BaggingRegressor(dt, n_estimators=l)\n",
    "        bagged_dt.fit(Xs,ys)\n",
    "        test_acc = np.sqrt(mean_squared_log_error(y_true=y_train_80, y_pred=bagged_dt.predict(X_train_80)))\n",
    "        \n",
    "        y_pred = bagged_dt.predict(X_train_80)\n",
    "        y_preds = np.column_stack([y_preds, y_pred]) if y_preds.size else y_pred\n",
    "        tmp.append(test_acc)\n",
    "    \n",
    "    dt_bias = (y_train_80-np.mean(y_preds,axis=1))**2\n",
    "    dt_variance = np.var(y_preds,axis=1)\n",
    "    \n",
    "    total.append(np.array(tmp).mean())\n",
    "    tmp.clear()\n",
    "    \n",
    "    run_stats = np.array([dt_bias.mean(), dt_variance.mean()])\n",
    "    stats = np.column_stack([stats, run_stats]) if stats.size else run_stats\n",
    "\n",
    "    \n",
    "# generazione dei plot\n",
    "fig, ax = plt.subplots(ncols=2, figsize=(15,6))\n",
    "\n",
    "ax[0].plot(bags,stats[0,:], 'o:', label='Bias$^2$')\n",
    "ax[0].plot(bags,stats[1,:], 'o:', label='Variance')\n",
    "ax[0].set_xlabel('Numero di stimatori')\n",
    "ax[0].grid()\n",
    "ax[0].legend()\n",
    "\n",
    "ax[1].plot(bags, total, 'o:', label='Accuracy con Bagging')\n",
    "ax[1].set_ylabel('RMSLE')\n",
    "ax[1].set_xlabel('Numero di stimatori')\n",
    "ax[1].grid()\n",
    "ax[1].legend()"
   ]
  },
  {
   "cell_type": "markdown",
   "metadata": {},
   "source": [
    "Dal `primo plot` vediamo che il bagging effettivamente abbassa la varianza, come ci aspettavamo. \n",
    "\n",
    "Dal `secondo plot` Notiamo che **l'aumento degli stimatori** comporta un **miglioramento** dell'accuratezza, ma solo per valori bassi. \n",
    "Infatti, **inserendo un numero maggiore** di `5` stimatori **l'RMSLE aumenta!**   \n",
    "Usiamo quindi `5` stimatori. "
   ]
  },
  {
   "cell_type": "code",
   "execution_count": 252,
   "metadata": {
    "scrolled": true
   },
   "outputs": [
    {
     "name": "stdout",
     "output_type": "stream",
     "text": [
      "L'accuracy sul test è di: 2.3531188760734536\n"
     ]
    }
   ],
   "source": [
    "dt = tree.DecisionTreeRegressor(max_leaf_nodes=1000)\n",
    "bagged_dt = BaggingRegressor(dt, n_estimators=5)\n",
    "bagged_dt.fit(X_train_80,y_train_80)\n",
    "test_acc = np.sqrt(mean_squared_log_error(y_true=y_test, y_pred=bagged_dt.predict(X_test)))\n",
    "print(\"L'accuracy sul test è di: \" + str(test_acc))"
   ]
  },
  {
   "cell_type": "markdown",
   "metadata": {},
   "source": [
    "## Boosting\n",
    "Proviamo a usare l'algoritmo di boosting per vedere se riusciamo a diminuire il RMSLE."
   ]
  },
  {
   "cell_type": "code",
   "execution_count": 255,
   "metadata": {
    "scrolled": false
   },
   "outputs": [
    {
     "name": "stderr",
     "output_type": "stream",
     "text": [
      "100%|██████████████████████████████████████████████████████████████████████████████████| 39/39 [01:02<00:00,  1.60s/it]\n"
     ]
    },
    {
     "data": {
      "text/plain": [
       "<matplotlib.legend.Legend at 0x1686ce63610>"
      ]
     },
     "execution_count": 255,
     "metadata": {},
     "output_type": "execute_result"
    },
    {
     "data": {
      "image/png": "[encoded data removed]",
      "text/plain": [
       "<Figure size 1080x432 with 2 Axes>"
      ]
     },
     "metadata": {
      "needs_background": "light"
     },
     "output_type": "display_data"
    }
   ],
   "source": [
    "total=[]\n",
    "stats = np.array([])\n",
    "boost = range(1,40)\n",
    "\n",
    "for l in tqdm(boost):\n",
    "    y_preds = np.array([])\n",
    "    tmp=[]\n",
    "    for i in range(10):\n",
    "        Xs, ys = resample(X_train_80,y_train_80, n_samples=int(0.67*len(y_train_80)))\n",
    "        dt = tree.DecisionTreeRegressor(max_leaf_nodes=400)\n",
    "        adaboost = AdaBoostRegressor(dt, n_estimators=l)\n",
    "        adaboost.fit(Xs,ys)\n",
    "        test_acc = np.sqrt(mean_squared_log_error(y_true=y_train_80, y_pred=adaboost.predict(X_train_80)))\n",
    "        \n",
    "        y_pred = adaboost.predict(X_train_80)\n",
    "        y_preds = np.column_stack([y_preds, y_pred]) if y_preds.size else y_pred\n",
    "        tmp.append(test_acc)\n",
    "    \n",
    "    dt_bias = (y_train_80-np.mean(y_preds,axis=1))**2\n",
    "    dt_variance = np.var(y_preds,axis=1)\n",
    "    \n",
    "    total.append(np.array(tmp).mean())\n",
    "    tmp.clear()\n",
    "    \n",
    "    run_stats = np.array([dt_bias.mean(), dt_variance.mean()])\n",
    "    stats = np.column_stack([stats, run_stats]) if stats.size else run_stats\n",
    "\n",
    "    \n",
    "# generazione dei plot\n",
    "fig, ax = plt.subplots(ncols=2, figsize=(15,6))\n",
    "\n",
    "ax[0].plot(boost,stats[0,:], 'o:', label='Bias$^2$')\n",
    "ax[0].plot(boost,stats[1,:], 'o:', label='Variance')\n",
    "ax[0].set_xlabel('Numero di stimatori')\n",
    "ax[0].grid()\n",
    "ax[0].legend()\n",
    "\n",
    "ax[1].plot(boost, total, 'o:', label='Accuracy con Bagging')\n",
    "ax[1].set_ylabel('RMSLE')\n",
    "ax[1].set_xlabel('Numero di stimatori')\n",
    "ax[1].grid()\n",
    "ax[1].legend()"
   ]
  },
  {
   "cell_type": "markdown",
   "metadata": {},
   "source": [
    "Dal `primo plot` vediamo che il boosting effettivamente abbassa il bias, come ci aspettavamo. \n",
    "Inoltre, anche la varianza ne trae beneficio. \n",
    "\n",
    "Notiamo dal `secondo plot` che **l'aumento degli stimatori** comporta un **migliroamento** dell'accuratezza. \n",
    "Si può inoltre notare che **inserire un numero maggiore** di `20` stimatori **non porta grandi miglioramenti**, anzi, aumenta l'RMSLE.  \n",
    "Usiamo quindi `15` stimatori. "
   ]
  },
  {
   "cell_type": "code",
   "execution_count": 254,
   "metadata": {
    "scrolled": false
   },
   "outputs": [
    {
     "name": "stdout",
     "output_type": "stream",
     "text": [
      "L'accuracy sul test è di: 2.1217776052507964\n"
     ]
    }
   ],
   "source": [
    "dt = tree.DecisionTreeRegressor(max_leaf_nodes=400)\n",
    "adaboost = AdaBoostRegressor(dt, n_estimators=15)\n",
    "adaboost.fit(X_train_80,y_train_80)\n",
    "test_acc = np.sqrt(mean_squared_log_error(y_true=y_test, y_pred=adaboost.predict(X_test)))\n",
    "print(\"L'accuracy sul test è di: \" + str(test_acc))"
   ]
  },
  {
   "cell_type": "code",
   "execution_count": null,
   "metadata": {},
   "outputs": [],
   "source": []
  }
 ],
 "metadata": {
  "kernelspec": {
   "display_name": "Python 3",
   "language": "python",
   "name": "python3"
  },
  "language_info": {
   "codemirror_mode": {
    "name": "ipython",
    "version": 3
   },
   "file_extension": ".py",
   "mimetype": "text/x-python",
   "name": "python",
   "nbconvert_exporter": "python",
   "pygments_lexer": "ipython3",
   "version": "3.8.3"
  }
 },
 "nbformat": 4,
 "nbformat_minor": 4
}
